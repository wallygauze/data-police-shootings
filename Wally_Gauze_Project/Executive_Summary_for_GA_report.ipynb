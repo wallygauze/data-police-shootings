{
 "cells": [
  {
   "cell_type": "markdown",
   "metadata": {},
   "source": [
    "### Executive Summary"
   ]
  },
  {
   "cell_type": "markdown",
   "metadata": {},
   "source": [
    "> _Executive Summary for the report of the General Assembly capstone project I submitted in __January 2017__.\n",
    "No results from further work done are mentioned here._"
   ]
  },
  {
   "cell_type": "markdown",
   "metadata": {},
   "source": [
    "In the debate over high number of shootings by police in America (compared to similar countries), concerning the part of the situation that police is indeed responsible for (as opposed to factors as the singularities of America's threats), there are very different opinions as to the root police behaviour. Two major ideas are that \n",
    "\n",
    "- \"Police resort to lethal force in an 'non-optimal' way (so to speak), too easily, which speaks of incompetence compared to their counterparts in other countries, OR criminal lack of consideration for sanctity of life\", and \n",
    "- \"Police are even consciously taking refuge in their position to kill, whether in 'passionate acts' like 'fits of rage' (commonly mentioned in convicting rulings), or more factors\". \n",
    "The racism factor alleged by movements like Black Lives Matter could play in both cases, as police may both intentionally target racial groups or value their lives less relatively speaking.\n",
    "\n",
    "A problem until recently has been the lack of data to look into that question. Two projects by newspapers, started in 2015 and with data starting from the same year, have been mentioned by the FBI as quite comprehensive sources of data on the subject, prompting the FBI to announce a recording system based on their methodology. I anchored my study on the dataset provided by the Washington Post (checking against data from the Guardian's project that should match the one from the WP), because it focused both in scope and depth on the type of deaths of interest for the scope of my own capstone project (shootings, excluding deaths in custody and more)."
   ]
  },
  {
   "cell_type": "markdown",
   "metadata": {},
   "source": [
    "---\n",
    "I used three global types of variables: (a) discriminant factors allowing us to infer that police failure in a case is more likely compared to standard cases, (b) characteristics of victim (age_group, race, gender), (c) context variables (state, city, time of the year).\n",
    "\n",
    "My goals were to 1) modify & create variables as needed (using NLP if needed) to organize the data with the factors suggesting criminality, 2) use clustering techniques to further uncover insights in the killings (beyond what basic descriptive techniques can do), and 3) see if higher relative numbers of killings are correlated with levels of violent crime, as an alternative approach.\n",
    "\n"
   ]
  },
  {
   "cell_type": "markdown",
   "metadata": {},
   "source": [
    "---\n",
    "In the unsupervised part, I find that although the total amount of conspicuous cases make a very small proportion of the total, victims who are Black are the single racial group with the most of such \"conspicuous\" cases by all my pre-chosen proxy factors. The application of clustering techniques to variables connected to behaviour of the victims during contact with police also bore fruit in further uncovering groups within the armed group.\n",
    "\n",
    "However, the implications from using such proxies remain limited. Thus, the limitations of data available to examine justifiability was made clear (crowdsourced media information lacks access to the information investigators and law enforcement agents have). Design of the recording system that American authorities are working on cannot solely rely on such crowdsourcing: the issue of underreporting by American police entities must be looked into.\n",
    "\n",
    "In the supervised part of my analysis, I used the raw data reported to the FBI by law enforcement agencies. This data was found later down the line to be incomplete because not all existing agencies do report. I found total violent crime rates and police shootings rates to be somewhat correlated (37%) at the state level (Spearman's rank correlation). \n",
    "Although I did not get to replicate and expand this insight using linear regression before timely delivery of the project, the priority is first starting again with the data the FBI provides including state-level estimates, the existence of which I was not aware of at the beginning. Indeed, my working assumption was that the rate of crime to total represented population (\"population_for_agencies\") was the same as the rate to total state population, but that need not be true."
   ]
  }
 ],
 "metadata": {
  "anaconda-cloud": {},
  "kernelspec": {
   "display_name": "Python [conda root]",
   "language": "python",
   "name": "conda-root-py"
  },
  "language_info": {
   "codemirror_mode": {
    "name": "ipython",
    "version": 2
   },
   "file_extension": ".py",
   "mimetype": "text/x-python",
   "name": "python",
   "nbconvert_exporter": "python",
   "pygments_lexer": "ipython2",
   "version": "2.7.15"
  }
 },
 "nbformat": 4,
 "nbformat_minor": 1
}
