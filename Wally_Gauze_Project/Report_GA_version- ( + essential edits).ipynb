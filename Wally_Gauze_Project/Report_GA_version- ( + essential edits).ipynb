{
 "cells": [
  {
   "cell_type": "markdown",
   "metadata": {},
   "source": [
    "#### POLICE SHOOTINGS IN THE US - Order and chaos\n",
    "\n",
    "WHAT IS HAPPENING?"
   ]
  },
  {
   "cell_type": "markdown",
   "metadata": {
    "nbpresent": {
     "id": "73788df8-e110-4116-a0d7-ed3b829f4985"
    }
   },
   "source": [
    "### Executive Summary"
   ]
  },
  {
   "cell_type": "markdown",
   "metadata": {
    "nbpresent": {
     "id": "94ad8788-5385-4e2f-b68a-04338d9f4b47"
    }
   },
   "source": [
    "In the debate over high number of shootings by police in America (compared to similar countries), concerning the part of the situation that police is indeed responsible for (as opposed to factors as the singularities of America's threats), there are very different opinions as to the root police behaviour. Two major ideas are that \n",
    "\n",
    "- \"Police resort to lethal force in an 'non-optimal' way, too easily, which speaks of incompetence compared to their counterparts in other countries, OR criminal lack of consideration for sanctity of life\", and \n",
    "- \"Police are even consciously taking refuge in their position to kill, whether in 'passionate acts' like 'fits of rage' (commonly mentioned in convicting rulings), or more factors\". \n",
    "The racism factor alleged by movements like Black Lives Matter could play in both cases, as police may both intentionally target racial groups or value their lives less relatively speaking.\n",
    "\n",
    "A problem until recently has been the lack of data to look into that question. Two projects by newspapers, started in 2015 and with data starting from the same year, have been mentioned by the FBI as quite comprehensive sources of data on the subject, prompting the FBI to announce a recording system based on their methodology. I anchored my study on the dataset provided by the Washington Post (checking against data from the Guardian's project that should match the one from the WP), because it focused both in scope and depth on the type of deaths of interest for my own capstone project scope (shootings, excluding deaths in custody and more)."
   ]
  },
  {
   "cell_type": "markdown",
   "metadata": {},
   "source": [
    "---\n",
    "I used three global types of variables: (a) discriminant factors allowing us to infer that police failure in a case is more likely compared to standard cases, (b) characteristics of victim (age_group, race, gender), (c) context variables (state, city, time of the year).\n",
    "\n",
    "My goals were to 1) modify & create variables as needed (using NLP if needed) to organize the data with the factors suggesting criminality, 2) use clustering techniques to further uncover insights in the killings (beyond what basic descriptive techniques can do), and 3) see if higher relative numbers of killings are correlated with levels of violent crime, as an alternative approach.\n",
    "\n"
   ]
  },
  {
   "cell_type": "markdown",
   "metadata": {},
   "source": [
    "---\n",
    "In the unsupervised part, I find that although the total amount of conspicuous cases make a very small proportion of the total, victims who are Black are the single racial group with the most of such \"conspicuous\" cases by all my pre-chosen proxy factors. The application of clustering techniques to variables connected to behaviour of the victims during contact with police also bore fruit in further uncovering groups within the armed group:\n",
    "\n",
    "However, the implications from using such proxies remain limited. Thus, the limitations of data available to examine justifiability was made clear (crowdsourced media information lacks access to the information investigators and law enforcement agents have). Design of the recording system that American authorities are working on cannot solely rely n such crowdsourcing: the issue of underreporting by police entities must be looked into.\n",
    "\n",
    "In the supervised part of my analysis, I used the raw data reported by the FBI by law enforcement agencies. This data was found later down the line to be incomplete because not all existing agencies do report. I found total violent crime rates and police shootings rates to be somewhat correlated (37%) at the state level (Spearman's rank correlation). Although I did not get to replicate this insight using linear regression, the priority is first starting again with the data the FBI provides including state-level estimates, which I was not aware of at the beginning. Indeed, my working assumption was that the rate of crime to total represented population (\"population_for_agencies\") was the same as the rate to total state population, but that need not be true."
   ]
  },
  {
   "cell_type": "markdown",
   "metadata": {},
   "source": [
    "__[IMPORTANT DISCLAIMER: The data used for examination of the \"fleeing felon cases\" (in the \"fleeing?\" column) was later found to show multiple inconsistencies. Use of the data or of the results derived from it should not be done until further review is done]__"
   ]
  },
  {
   "cell_type": "markdown",
   "metadata": {},
   "source": [
    "---\n",
    "\n",
    "### Table of contents\n",
    "\n",
    "\n",
    "- __Approach__\n",
    "\n",
    "- __Goal__\n",
    "\n",
    "__I) Goal : modifying & creating variables when needed (using NLP if needed) to organize the data with the factors suggesting criminality__\n",
    "\n",
    "- - About the variables\n",
    "\n",
    "- __Data Acquisition__\n",
    "- - Identifying cases where unarmed victims were likely to be suspects of previous violent crime\n",
    "- - Basic information retrieval based on keywords\n",
    "\n",
    "__II) Goal: uncover insights in the killings with unsupervised techniques__\n",
    "\n",
    "- __2015 to 2016 (excl. December) difference -basic descriptive enquiry__\n",
    "\n",
    "- __Race profile for these groups (basic descriptive enquiry)__\n",
    "- - Results\n",
    "- - Discussion\n",
    "\n",
    "- __Hierarchical Clustering__\n",
    "- - Data transformation\n",
    "- - Forming linkage matrix\n",
    "- - What clusters do we have?\n",
    "- - Discussion\n",
    "- - - A more representative dissimilarity metric?\n",
    "\n",
    "__III) Supervised part: Are higher relative numbers of killings mostly correlated to the levels of violent crime?__\n",
    "\n",
    "- - Standardising Police Shootings\n",
    "- - Distribution of variables\n",
    "- - Scatter plot with total violence explaining police shootings\n",
    "- - Statistical Correlation\n",
    "- - Models\n",
    "- - Results\n",
    "- - Discussion\n",
    "\n",
    "---"
   ]
  },
  {
   "cell_type": "markdown",
   "metadata": {
    "nbpresent": {
     "id": "09ad78bf-70d1-47ad-a481-e24f5fe6e7ad"
    }
   },
   "source": [
    "### Approach"
   ]
  },
  {
   "cell_type": "markdown",
   "metadata": {
    "nbpresent": {
     "id": "70cee897-67ce-48fc-b96d-6b9d72611a79"
    }
   },
   "source": [
    "I anchor my study on the dataset provided by the Washington Post (checking against data from the Guardian's project that should match the one from the WP). \n",
    "\n",
    "- Database of the Washington Post (I used also links present on their github to their AWS database, where data like case description and news sources was available in json format):\n",
    "- - https://github.com/washingtonpost/data-police-shootings\n",
    "- - 2015 https://s3.amazonaws.com/postgraphics/policeshootings/policeshootings2015.json\n",
    "- - 2016 https://s3.amazonaws.com/postgraphics/policeshootings/policeshootings2016.json\n",
    "- The Counted (from the Guardian)\n",
    "- - https://www.theguardian.com/us-news/ng-interactive/2015/jun/01/about-the-counted\n",
    "\n",
    "\n",
    "These projects, started in 2015 & with data starting from the same year, are the most reliable available source of data on the subject, prompting the FBI to announce a recording system based on their methodology."
   ]
  },
  {
   "cell_type": "markdown",
   "metadata": {
    "nbpresent": {
     "id": "271c8b29-4c1e-40d4-9262-b97bee83de30"
    }
   },
   "source": [
    "The variables available are the following:"
   ]
  },
  {
   "cell_type": "code",
   "execution_count": 44,
   "metadata": {
    "collapsed": false,
    "nbpresent": {
     "id": "b9896def-132b-4d0e-8cb3-62c21f2de95a"
    }
   },
   "outputs": [
    {
     "data": {
      "text/html": [
       "<div>\n",
       "<table border=\"1\" class=\"dataframe\">\n",
       "  <thead>\n",
       "    <tr style=\"text-align: right;\">\n",
       "      <th></th>\n",
       "      <th>age</th>\n",
       "      <th>armed</th>\n",
       "      <th>blurb</th>\n",
       "      <th>city</th>\n",
       "      <th>date</th>\n",
       "      <th>description</th>\n",
       "      <th>editor_note</th>\n",
       "      <th>flee</th>\n",
       "      <th>gender</th>\n",
       "      <th>is_body_camera</th>\n",
       "      <th>is_geocoding_exact</th>\n",
       "      <th>is_officer_charged</th>\n",
       "      <th>lat</th>\n",
       "      <th>lon</th>\n",
       "      <th>mental</th>\n",
       "      <th>name</th>\n",
       "      <th>race</th>\n",
       "      <th>full_state</th>\n",
       "      <th>threat_level_display</th>\n",
       "      <th>weapon</th>\n",
       "    </tr>\n",
       "  </thead>\n",
       "  <tbody>\n",
       "    <tr>\n",
       "      <th>0</th>\n",
       "      <td>53.0</td>\n",
       "      <td>gun</td>\n",
       "      <td>a 53-year-old man of Asian heritage armed with a gun, was shot on Jan. 2, 2015, in a house in Shelton, Wash.</td>\n",
       "      <td>Shelton</td>\n",
       "      <td>2015-01-02</td>\n",
       "      <td>Elliot, who was on medication for depression, threatened suicide and then threatened to shoot a Mason County Sheriff's deputy.</td>\n",
       "      <td></td>\n",
       "      <td>NOT</td>\n",
       "      <td>M</td>\n",
       "      <td>False</td>\n",
       "      <td>True</td>\n",
       "      <td>False</td>\n",
       "      <td>47.246826</td>\n",
       "      <td>-123.121592</td>\n",
       "      <td>True</td>\n",
       "      <td>Tim Elliot</td>\n",
       "      <td>A</td>\n",
       "      <td>Washington</td>\n",
       "      <td>attack</td>\n",
       "      <td>DEADLY</td>\n",
       "    </tr>\n",
       "  </tbody>\n",
       "</table>\n",
       "</div>"
      ],
      "text/plain": [
       "    age armed  \\\n",
       "0  53.0   gun   \n",
       "\n",
       "                                                                                                          blurb  \\\n",
       "0  a 53-year-old man of Asian heritage armed with a gun, was shot on Jan. 2, 2015, in a house in Shelton, Wash.   \n",
       "\n",
       "      city       date  \\\n",
       "0  Shelton 2015-01-02   \n",
       "\n",
       "                                                                                                                      description  \\\n",
       "0  Elliot, who was on medication for depression, threatened suicide and then threatened to shoot a Mason County Sheriff's deputy.   \n",
       "\n",
       "  editor_note flee gender is_body_camera is_geocoding_exact  \\\n",
       "0              NOT      M          False               True   \n",
       "\n",
       "  is_officer_charged        lat         lon mental        name race  \\\n",
       "0              False  47.246826 -123.121592   True  Tim Elliot    A   \n",
       "\n",
       "   full_state threat_level_display  weapon  \n",
       "0  Washington               attack  DEADLY  "
      ]
     },
     "execution_count": 44,
     "metadata": {},
     "output_type": "execute_result"
    }
   ],
   "source": [
    "#variables available in WP data:\n",
    "json.drop([\"index\"], axis=1).head(1)"
   ]
  },
  {
   "cell_type": "markdown",
   "metadata": {
    "nbpresent": {
     "id": "ea377d56-4fef-441a-ac75-57f97310b8e4"
    }
   },
   "source": [
    "(One of the newspapers behind these projects have announced that they will put an end to their project after 2016, considering to have fulfilled their role. However, this information by itself does not inform even on whether 'police performance' is getting worse or not from one year to another: less people were confirmed to have been shot in 2016 than in 2015, but perhaps it is matched by a decrease in violent crime?)\n",
    "\n",
    "__I try to investigate this 'police performance'.__"
   ]
  },
  {
   "cell_type": "markdown",
   "metadata": {
    "nbpresent": {
     "id": "9c639cd7-886b-408b-81c9-2a48ce036585"
    }
   },
   "source": [
    "---"
   ]
  },
  {
   "cell_type": "markdown",
   "metadata": {
    "nbpresent": {
     "id": "1b46a252-557e-4e16-b23d-63676eb22f8c"
    }
   },
   "source": [
    "I identify two types of variables: (a) \"discriminant factors\" allowing us to infer that police failure in a case is likely, and (b) \"other\", with characteristics of the victim & more.\n",
    "\n",
    "__Using these discriminating factors, assessing differences in frequency relative to the type (b) \"race\" variable could do to look into the racism question (probably going to single \"black\" since they are making the claim). Absence of significant differences would probably argue in favour of the first opinion mentioned above to explain police criminal use of force.__\n",
    "\n",
    "(I use these factors in a proxy logic, they are obviously not proof of police failure)\n",
    "\n",
    "Main literature support for evidence of/discriminant factors pointing to police failure:\n",
    "_\"Thousands dead, few prosecuted\"_\n",
    ": 54 criminal prosecutions identified by criminologist and WPost\n",
    "http://www.washingtonpost.com/sf/investigative/2015/04/11/thousands-dead-few-prosecuted/ (article)\n",
    "https://www.washingtonpost.com/graphics/investigations/police-shootings/ (list of cases)\n",
    "(just support, did not go into depth or stick to that (unneeded for my purposes))\n",
    "\n",
    "\n",
    "my chosen discriminant factors: \n",
    "\n",
    "- presence of a weapon?\n",
    "- if victim was fleeing, was threat level evidence substantial? (criminal to shoot at fleeing person unless evidence of high level danger)*\n",
    "- whether the officer was charged is a similar indicator (whether they were convicted or not) as prosecutors rarely try: it points to such circumstances as I am using here\n",
    "\n",
    "(given variables: armed, threat_level_display, flee, is_officer_charged) + descriptions & news sources\n",
    "\n",
    "The text information would seem to provide most relevant information in investigating a killing (identifying car stops, whether the victim made use of their weapon, etc). Due to time I used NLP to extract whatever information is key, for use either/both within the unsupervised (extra variables to cluster by) or/and supervised part of my analysis, as useful.\n",
    "\n",
    "----\n",
    "\n"
   ]
  },
  {
   "cell_type": "markdown",
   "metadata": {
    "nbpresent": {
     "id": "094645ba-56af-43ad-a2c3-135776a01c15"
    }
   },
   "source": [
    "\n",
    "*APPENDIX on fleeing felon cases:\n",
    "\n",
    "United States Supreme Court caselaw TENNESSEE v. GARNER, (1985), is the document stating \"fleeing felon rule\" is to be balanced against reasonable.\n",
    "As mentioned in it when examining prevailing rules:\n",
    "\"_[the] suspect committed felony involving use or threat of physical force likely to cause death or serious injury, and is likely to endanger life unless apprehended without delay_\".\n",
    "\n",
    "Also interesting is the mentioned requirement for an \"articulable basis to think [a suspect is] armed\":\n",
    "\"_The court did find, however, that Garner appeared to be unarmed, though Hymon could not be certain that was the case. [...] Restated in Fourth Amendment terms, this means Hymon had no articulable basis to think Garner was armed_\""
   ]
  },
  {
   "cell_type": "markdown",
   "metadata": {
    "nbpresent": {
     "id": "3b032de7-249f-41bd-aaf0-115e2708f66e"
    }
   },
   "source": [
    "### Goal: \n",
    "- 1) modifying & creating variables when needed (using NLP if needed) to organize the data with the factors suggesting criminality\n",
    "- 2) using clustering techniques to further uncover insights in the killings (beyond what basic descriptive techniques can do)\n",
    "- 3) supervised part: hopefully building on the findings from the first part, but core analysis would be looking to see if higher relative numbers of killings are correlated with levels of violent crime. With statistically validated findings\n",
    "\n",
    "N.B.: I would have examined the trends in the police shootings against that in crime levels from 2015 to 2016, with that for lack of data about crime levels in 2016 (the 2016 issue of the Uniform Crime Report from the FBI, which is the source of data for this, has not yet been released).\n",
    "\n",
    "The supervised part is in line with investigating \"police performance\": again, the null hypothesis would be that indeed higher relative numbers of killings (including that of \"non-criminal\" victims, could be put down to alertness) are positively correlated with levels of violent crime."
   ]
  },
  {
   "cell_type": "markdown",
   "metadata": {
    "nbpresent": {
     "id": "474feb8b-61c8-4550-905c-ee7d28125f77"
    }
   },
   "source": [
    "----\n",
    "\n",
    "----"
   ]
  },
  {
   "cell_type": "code",
   "execution_count": 1,
   "metadata": {
    "collapsed": true,
    "nbpresent": {
     "id": "b67190d6-00fc-443b-b061-2584a9a97185"
    }
   },
   "outputs": [],
   "source": [
    "import pandas as pd\n",
    "import numpy as np\n",
    "%matplotlib inline\n",
    "import matplotlib.pyplot as plt\n",
    "import seaborn as sns\n",
    "import sqlalchemy\n",
    "from pandas.io import sql\n",
    "import scipy.stats as stats\n",
    "import seaborn as sb"
   ]
  },
  {
   "cell_type": "markdown",
   "metadata": {
    "nbpresent": {
     "id": "7a43ca2c-5ae9-406c-a404-c481d763dfa7"
    }
   },
   "source": [
    "__Loading cleaned data from my local database__"
   ]
  },
  {
   "cell_type": "code",
   "execution_count": 6,
   "metadata": {
    "collapsed": false,
    "nbpresent": {
     "id": "a8729938-e7e2-4772-860e-8be7484498c4"
    }
   },
   "outputs": [],
   "source": [
    "connect_param = 'postgresql://macowner@localhost:5432/macowner'\n",
    "engine = sqlalchemy.create_engine(connect_param)\n",
    "\n",
    "df2015=sql.read_sql(\"\"\"SELECT \"age\",\"name\",\"armed\", \"description\", \"is_officer_charged\", \"city\", \"race\", \"full_state\", \"threat_level\", \"fleeing?\", \"date_in_year\", \"month\", \"day_of_month\", \"suspect?\", \"flee\" FROM wp_json2015;\"\"\", engine)"
   ]
  },
  {
   "cell_type": "code",
   "execution_count": 3,
   "metadata": {
    "collapsed": false,
    "nbpresent": {
     "id": "4d257182-f6fa-46f0-bae5-ff969f27b40a"
    }
   },
   "outputs": [],
   "source": [
    "df2016=sql.read_sql(\"\"\"SELECT \"age\",\"name\",\"armed\", \"city\", \"race\", \"full_state\", \"threat_level\", \"fleeing?\", \"date_in_year\", \"month\", \"day_of_month\", \"suspect?\", \"flee\" FROM wp_json2016;\"\"\", engine)"
   ]
  },
  {
   "cell_type": "code",
   "execution_count": 16,
   "metadata": {
    "collapsed": true,
    "nbpresent": {
     "id": "39cb22aa-2362-4fd8-8934-f229ec8745be"
    }
   },
   "outputs": [],
   "source": [
    "#dataset that include text summaries:\n",
    "json=pd.read_json('https://s3.amazonaws.com/postgraphics/policeshootings/policeshootings2015.json')"
   ]
  },
  {
   "cell_type": "markdown",
   "metadata": {
    "nbpresent": {
     "id": "73d5777d-b1d3-4336-988f-a09e45ed0a0f"
    }
   },
   "source": [
    "---"
   ]
  },
  {
   "cell_type": "markdown",
   "metadata": {
    "nbpresent": {
     "id": "75c94b14-e632-4897-9b7f-a0ce2d742702"
    }
   },
   "source": [
    "### I) Goal : modifying & creating variables when needed (using NLP if needed) to organize the data with the factors suggesting criminality"
   ]
  },
  {
   "cell_type": "markdown",
   "metadata": {
    "nbpresent": {
     "id": "b76cf865-cb9c-4c53-9da0-82a81b265291"
    }
   },
   "source": [
    "__About the variables__"
   ]
  },
  {
   "cell_type": "markdown",
   "metadata": {
    "nbpresent": {
     "id": "aa055f7c-6618-4fa0-bf3a-0a2ff2f58b0b"
    }
   },
   "source": [
    "The threat level variable was specially constructed for the analysis behind a story by the Washington Post (http://www.washingtonpost.com/sf/investigative/2015/10/24/on-duty-under-fire/). They state: \n",
    "\"To identify trends among fatal shootings by police, The Post studied whether the individuals killed were unarmed or armed with weapons and reviewed the actions they took in the immediate moments before police shot them.\""
   ]
  },
  {
   "cell_type": "markdown",
   "metadata": {
    "nbpresent": {
     "id": "8bd4ebd1-353e-4660-967c-ba8b32c9d7b5"
    }
   },
   "source": [
    "- the \"attack\" value corresponds to cases where the individuals had already 1) fired shots, 2) brandished a gun or 3) started an attack on a person with a weapon or their bare hands.\n",
    "- \"other\" groups all other cases (they mention at least two distinct groups within (one of whom includes people holding non-firearm weapons) in their story, but they do not provide this information in the data put at our disposition).\n",
    "- \"undetermined\" are cases where the Washington Post was unable to determine the circumstances of the shootings because of limited information or ongoing investigations"
   ]
  },
  {
   "cell_type": "markdown",
   "metadata": {
    "nbpresent": {
     "id": "667ce818-5daf-4236-b9e9-06ef82aea0ef"
    }
   },
   "source": [
    "With given columns:\n",
    "- (1) officer was charged; (2) unarmed; (3) unarmed + fleeing (FOOT or CAR) --> fleeing felon rule, \"FELONY suspect posing a significant threat of death or serious physical injury to the officer or others\"?;  \n",
    "- characteristics of victim/case: age_group, race.\n",
    "- I use State, city, date as a _separate kind of information_ rather than together with the characteristics of the case (the idea is that I can map clusters of victims on the US map (Tableau), or across the year). Including the date as a clustering variable was overcrowding all the other features\n",
    "\n",
    "I did some scraping and basic NLP to retrieve information about whether the victim, if unarmed, was a suspect for some violent crime. \n",
    "\n",
    "(Although I planned to use NLP for the \"flee\" column as well, which was shown to be inconsistent for my purposes during my EDA (the description/source articles show that sometimes the victim INITIALLY fled but then was killed while fighting back), it emerged upon examination that the cases combining the characteristics of a \"fleeing felon case\" were few enough to check manually.)"
   ]
  },
  {
   "cell_type": "markdown",
   "metadata": {
    "nbpresent": {
     "id": "503b2860-053d-497e-84b3-ffd20b6cd2a4"
    }
   },
   "source": [
    "### Data Acquisition"
   ]
  },
  {
   "cell_type": "markdown",
   "metadata": {
    "nbpresent": {
     "id": "513e9b32-ad02-4ed3-8da0-d663899e21e3"
    }
   },
   "source": [
    "__Identifying cases where unarmed victims were likely to be suspects of previous violent crime__"
   ]
  },
  {
   "cell_type": "code",
   "execution_count": 30,
   "metadata": {
    "collapsed": true,
    "nbpresent": {
     "id": "b727debe-bef3-44e0-b6c0-82bba64d2b1c"
    }
   },
   "outputs": [],
   "source": [
    "import requests\n",
    "import bs4\n",
    "import re\n",
    "from bs4 import BeautifulSoup"
   ]
  },
  {
   "cell_type": "code",
   "execution_count": 9,
   "metadata": {
    "collapsed": true,
    "nbpresent": {
     "id": "1fa06fdc-f17f-4cf5-bf5d-641a79820e66"
    }
   },
   "outputs": [],
   "source": [
    "pd.options.display.max_columns=500\n",
    "pd.options.display.max_rows=1500\n",
    "pd.options.display.max_colwidth=1000"
   ]
  },
  {
   "cell_type": "markdown",
   "metadata": {
    "nbpresent": {
     "id": "c1400abd-75bf-414f-9c8c-7455bb13e640"
    }
   },
   "source": [
    "Code for 2015 only (it is the same for 2016) "
   ]
  },
  {
   "cell_type": "code",
   "execution_count": 24,
   "metadata": {
    "collapsed": false,
    "nbpresent": {
     "id": "10dd9424-2b6a-4c08-812c-6adf5a7107d8"
    }
   },
   "outputs": [
    {
     "data": {
      "text/html": [
       "<div>\n",
       "<table border=\"1\" class=\"dataframe\">\n",
       "  <thead>\n",
       "    <tr style=\"text-align: right;\">\n",
       "      <th></th>\n",
       "      <th>name</th>\n",
       "      <th>armed</th>\n",
       "      <th>sources</th>\n",
       "    </tr>\n",
       "  </thead>\n",
       "  <tbody>\n",
       "    <tr>\n",
       "      <th>2</th>\n",
       "      <td>John Paul Quintero</td>\n",
       "      <td>unarmed</td>\n",
       "      <td>[{u'url': u'http://www.kwch.com/news/local-news/father-of-a-man-shot-killed-by-a-police-officer-says-his-son-did-not-deserve-to-die/30625880', u'source_name': u'kwch.com', u'type': u'NEWS', u'title': u'Father of a man shot, killed by police speaks out'}, {u'url': u'http://www.kansas.com/news/local/article5498046.html', u'source_name': u'kansas', u'type': u'NEWS', u'title': u'Wichita police release 911 calls in fatal shooting involving officers'}]</td>\n",
       "    </tr>\n",
       "    <tr>\n",
       "      <th>8</th>\n",
       "      <td>Autumn Steele</td>\n",
       "      <td>unarmed</td>\n",
       "      <td>[{u'url': u'http://patch.com/iowa/iowacity/police-cop-aims-dog-kills-woman-instead', u'source_name': u'Iowa City, Iowa Patch', u'type': u'NEWS', u'title': u'Police: Cop Aims at Dog, Kills Woman Instead'}, {u'url': u'http://www.desmoinesregister.com/story/news/2015/02/26/dog-police-shooting-vicious-burlington/24078037/', u'source_name': u'Des Moines Register', u'type': u'NEWS', u'title': u'Dog in police shooting ruled not vicious'}, {u'url': u'http://www.usatoday.com/story/news/nation/2015/03/24/cop-accidentally-shot-woman-back-work/70406706/', u'source_name': u'USA TODAY', u'type': u'NEWS', u'title': u'Cop who accidentally shot woman could be back at work'}]</td>\n",
       "    </tr>\n",
       "  </tbody>\n",
       "</table>\n",
       "</div>"
      ],
      "text/plain": [
       "                 name    armed  \\\n",
       "2  John Paul Quintero  unarmed   \n",
       "8       Autumn Steele  unarmed   \n",
       "\n",
       "                                                                                                                                                                                                                                                                                                                                                                                                                                                                                                                                                                                                                                                                                      sources  \n",
       "2                                                                                                                                                                                                                          [{u'url': u'http://www.kwch.com/news/local-news/father-of-a-man-shot-killed-by-a-police-officer-says-his-son-did-not-deserve-to-die/30625880', u'source_name': u'kwch.com', u'type': u'NEWS', u'title': u'Father of a man shot, killed by police speaks out'}, {u'url': u'http://www.kansas.com/news/local/article5498046.html', u'source_name': u'kansas', u'type': u'NEWS', u'title': u'Wichita police release 911 calls in fatal shooting involving officers'}]  \n",
       "8  [{u'url': u'http://patch.com/iowa/iowacity/police-cop-aims-dog-kills-woman-instead', u'source_name': u'Iowa City, Iowa Patch', u'type': u'NEWS', u'title': u'Police: Cop Aims at Dog, Kills Woman Instead'}, {u'url': u'http://www.desmoinesregister.com/story/news/2015/02/26/dog-police-shooting-vicious-burlington/24078037/', u'source_name': u'Des Moines Register', u'type': u'NEWS', u'title': u'Dog in police shooting ruled not vicious'}, {u'url': u'http://www.usatoday.com/story/news/nation/2015/03/24/cop-accidentally-shot-woman-back-work/70406706/', u'source_name': u'USA TODAY', u'type': u'NEWS', u'title': u'Cop who accidentally shot woman could be back at work'}]  "
      ]
     },
     "execution_count": 24,
     "metadata": {},
     "output_type": "execute_result"
    }
   ],
   "source": [
    "json[[\"name\",\"armed\",\"sources\"]][json.armed==\"unarmed\"].head(2)"
   ]
  },
  {
   "cell_type": "code",
   "execution_count": 25,
   "metadata": {
    "collapsed": true,
    "nbpresent": {
     "id": "7f229eaf-b4ea-4003-bd02-abdb78b9312b"
    }
   },
   "outputs": [],
   "source": [
    "#sources' urls for unarmed_15\n",
    "sources=pd.DataFrame(json[\"sources\"].apply(lambda x:[y[\"url\"] for y in x]).tolist())\n",
    "for col in sources.columns:\n",
    "    json[\"source_\"+str(col)]=sources.loc[:,col]"
   ]
  },
  {
   "cell_type": "code",
   "execution_count": 28,
   "metadata": {
    "collapsed": false,
    "nbpresent": {
     "id": "be026016-d4e8-468f-a3bf-4297ffc4bc14"
    }
   },
   "outputs": [
    {
     "data": {
      "text/html": [
       "<div>\n",
       "<table border=\"1\" class=\"dataframe\">\n",
       "  <thead>\n",
       "    <tr style=\"text-align: right;\">\n",
       "      <th></th>\n",
       "      <th>name</th>\n",
       "      <th>armed</th>\n",
       "      <th>source_0</th>\n",
       "      <th>source_1</th>\n",
       "      <th>source_2</th>\n",
       "      <th>source_3</th>\n",
       "      <th>source_4</th>\n",
       "    </tr>\n",
       "  </thead>\n",
       "  <tbody>\n",
       "    <tr>\n",
       "      <th>0</th>\n",
       "      <td>Tim Elliot</td>\n",
       "      <td>gun</td>\n",
       "      <td>http://kbkw.com/suicidal-shelton-man-dies-after-confronting-responding-deputies/</td>\n",
       "      <td>http://kmasnewsradio.com/news/local-state-news/21013-fatal-shooting-justified-by-ciit</td>\n",
       "      <td>None</td>\n",
       "      <td>None</td>\n",
       "      <td>None</td>\n",
       "    </tr>\n",
       "    <tr>\n",
       "      <th>1</th>\n",
       "      <td>Lewis Lee Lembke</td>\n",
       "      <td>gun</td>\n",
       "      <td>http://www.oregonlive.com/aloha/index.ssf/2015/01/aloha_man_killed_in_police-inv.html</td>\n",
       "      <td>http://www.oregonlive.com/aloha/index.ssf/2015/01/aloha_man_fatally_shot_by_depu.html</td>\n",
       "      <td>http://www.oregonlive.com/aloha/index.ssf/2015/01/washington_county_sheriffs_dep_3.html</td>\n",
       "      <td>http://www.co.washington.or.us/News/SONews/upload/PR150305-5-District-Attorney-Review-Concerning-Officer-Involved-Shooting.pdf</td>\n",
       "      <td>http://koin.com/2015/03/06/da-deputy-shooting-of-aloha-man-justified/</td>\n",
       "    </tr>\n",
       "    <tr>\n",
       "      <th>2</th>\n",
       "      <td>John Paul Quintero</td>\n",
       "      <td>unarmed</td>\n",
       "      <td>http://www.kwch.com/news/local-news/father-of-a-man-shot-killed-by-a-police-officer-says-his-son-did-not-deserve-to-die/30625880</td>\n",
       "      <td>http://www.kansas.com/news/local/article5498046.html</td>\n",
       "      <td>None</td>\n",
       "      <td>None</td>\n",
       "      <td>None</td>\n",
       "    </tr>\n",
       "    <tr>\n",
       "      <th>3</th>\n",
       "      <td>Matthew Hoffman</td>\n",
       "      <td>toy weapon</td>\n",
       "      <td>http://sf-police.org/index.aspx?recordid=1101&amp;page=3763</td>\n",
       "      <td>http://www.sfweekly.com/thesnitch/2015/01/07/matthew-hoffman-man-killed-by-cops-had-sent-text-messages-to-officers-asking-disturbing-questions</td>\n",
       "      <td>http://www.sfweekly.com/thesnitch/2015/01/05/cops-kill-man-armed-with-replica-gun</td>\n",
       "      <td>None</td>\n",
       "      <td>None</td>\n",
       "    </tr>\n",
       "    <tr>\n",
       "      <th>4</th>\n",
       "      <td>Michael Rodriguez</td>\n",
       "      <td>nail gun</td>\n",
       "      <td>http://www.coloradoan.com/story/news/local/windsor/2015/01/09/man-idd-evans-officer-involved-shooting/21407471/</td>\n",
       "      <td>http://www.westword.com/news/no-charges-in-michael-rodriguez-police-shooting-fourth-in-eight-months-6582711</td>\n",
       "      <td>http://www.greeleytribune.com/news/14528032-113/police-medina-business-bob</td>\n",
       "      <td>None</td>\n",
       "      <td>None</td>\n",
       "    </tr>\n",
       "  </tbody>\n",
       "</table>\n",
       "</div>"
      ],
      "text/plain": [
       "                 name       armed  \\\n",
       "0          Tim Elliot         gun   \n",
       "1    Lewis Lee Lembke         gun   \n",
       "2  John Paul Quintero     unarmed   \n",
       "3     Matthew Hoffman  toy weapon   \n",
       "4   Michael Rodriguez    nail gun   \n",
       "\n",
       "                                                                                                                           source_0  \\\n",
       "0                                                  http://kbkw.com/suicidal-shelton-man-dies-after-confronting-responding-deputies/   \n",
       "1                                             http://www.oregonlive.com/aloha/index.ssf/2015/01/aloha_man_killed_in_police-inv.html   \n",
       "2  http://www.kwch.com/news/local-news/father-of-a-man-shot-killed-by-a-police-officer-says-his-son-did-not-deserve-to-die/30625880   \n",
       "3                                                                           http://sf-police.org/index.aspx?recordid=1101&page=3763   \n",
       "4                   http://www.coloradoan.com/story/news/local/windsor/2015/01/09/man-idd-evans-officer-involved-shooting/21407471/   \n",
       "\n",
       "                                                                                                                                         source_1  \\\n",
       "0                                                           http://kmasnewsradio.com/news/local-state-news/21013-fatal-shooting-justified-by-ciit   \n",
       "1                                                           http://www.oregonlive.com/aloha/index.ssf/2015/01/aloha_man_fatally_shot_by_depu.html   \n",
       "2                                                                                            http://www.kansas.com/news/local/article5498046.html   \n",
       "3  http://www.sfweekly.com/thesnitch/2015/01/07/matthew-hoffman-man-killed-by-cops-had-sent-text-messages-to-officers-asking-disturbing-questions   \n",
       "4                                     http://www.westword.com/news/no-charges-in-michael-rodriguez-police-shooting-fourth-in-eight-months-6582711   \n",
       "\n",
       "                                                                                  source_2  \\\n",
       "0                                                                                     None   \n",
       "1  http://www.oregonlive.com/aloha/index.ssf/2015/01/washington_county_sheriffs_dep_3.html   \n",
       "2                                                                                     None   \n",
       "3        http://www.sfweekly.com/thesnitch/2015/01/05/cops-kill-man-armed-with-replica-gun   \n",
       "4               http://www.greeleytribune.com/news/14528032-113/police-medina-business-bob   \n",
       "\n",
       "                                                                                                                         source_3  \\\n",
       "0                                                                                                                            None   \n",
       "1  http://www.co.washington.or.us/News/SONews/upload/PR150305-5-District-Attorney-Review-Concerning-Officer-Involved-Shooting.pdf   \n",
       "2                                                                                                                            None   \n",
       "3                                                                                                                            None   \n",
       "4                                                                                                                            None   \n",
       "\n",
       "                                                                source_4  \n",
       "0                                                                   None  \n",
       "1  http://koin.com/2015/03/06/da-deputy-shooting-of-aloha-man-justified/  \n",
       "2                                                                   None  \n",
       "3                                                                   None  \n",
       "4                                                                   None  "
      ]
     },
     "execution_count": 28,
     "metadata": {},
     "output_type": "execute_result"
    }
   ],
   "source": [
    "json[[\"name\",\"armed\",'source_0','source_1','source_2','source_3','source_4']].head()"
   ]
  },
  {
   "cell_type": "code",
   "execution_count": null,
   "metadata": {
    "collapsed": false,
    "nbpresent": {
     "id": "f24cd766-7e23-40d9-818e-364ef8b3adf4"
    }
   },
   "outputs": [],
   "source": [
    "#I retrieve the html for each page and insert it at the same position in a copy table\n",
    "\n",
    "def scraper(URL):\n",
    "    if URL==None:\n",
    "        pass\n",
    "        return\n",
    "    else:\n",
    "        r=requests.get(URL)\n",
    "        soup = BeautifulSoup(r.content)\n",
    "    \n",
    "        return soup.prettify()\n",
    "    \n",
    "df2015_with_info=json.copy()\n",
    "for source_col in ['source_0','source_1','source_2','source_3','source_4']:\n",
    "    df2015_with_info[source_col]=df2015_with_info[source_col].head(5).apply(scraper)"
   ]
  },
  {
   "cell_type": "code",
   "execution_count": null,
   "metadata": {
    "collapsed": true,
    "nbpresent": {
     "id": "d85ce6c6-4a97-48bd-9386-da879e3a871a"
    }
   },
   "outputs": [],
   "source": [
    "#storing scraped original info\n",
    "scraped_info=df2015_with_info\n",
    "#data I move on with\n",
    "df2015_with_info=scraped_info.copy()"
   ]
  },
  {
   "cell_type": "markdown",
   "metadata": {
    "nbpresent": {
     "id": "77263f9a-812e-4206-bae8-2fda931e83ba"
    }
   },
   "source": [
    "Once I have the pages, I proceeded to extracting information from all the text in the html: this allowed me not to be concerned with the different html code each news source uses for their article.\n",
    "\n",
    "I searched for the name of the victim, which, wherever it appeared, was only enclosed with useful information (I restricted retrieval to the text around the name and enclosed by tag symbols (< >...< >)), and I compiled all matches."
   ]
  },
  {
   "cell_type": "code",
   "execution_count": null,
   "metadata": {
    "collapsed": true,
    "nbpresent": {
     "id": "4f3a7492-f236-447a-99d9-33d5c74988c3"
    }
   },
   "outputs": [],
   "source": [
    "#searching the pages (mainly the article) for information\n",
    "\n",
    "def extractor(article, term_to_search):\n",
    "\n",
    "    if (article!= None) & (type(article)!= float): #just for NaNs\n",
    "    \n",
    "        #removing paragraph tags\n",
    "    \n",
    "        article=article.replace(\"<p>\",\" \")\n",
    "        article=re.sub(\"<p class=\\\"paragraph\\\"[^>]*>\" , \" \", article)\n",
    "        article=article.replace(\"</p>\",\" \")\n",
    "\n",
    "        #finding article text (and related text) \n",
    "        my_regex = '[^>]*' + re.escape(term_to_search) + '[^<]*'\n",
    "        #this searches text contained between the tag symbols '>' & '<' for the term_to_search\n",
    "        #re.escape is to escape any special characters\n",
    "        \n",
    "\n",
    "        information=\"\"\n",
    "        for match in re.findall(my_regex, article, re.DOTALL):\n",
    "            if (\"{\" not in match) & (\"=\" not in match):\n",
    "                information+=match\n",
    "\n",
    "        return information\n",
    "    else:\n",
    "        pass\n",
    "        return"
   ]
  },
  {
   "cell_type": "markdown",
   "metadata": {
    "nbpresent": {
     "id": "3897ff2b-8a6a-472f-8b80-c920e769098b"
    }
   },
   "source": [
    "Tthe name of the dead was not always present in at least one of the news articles reporting it, but this was just to obtain extra information: all cases have at least a one to two description with some relevant information."
   ]
  },
  {
   "cell_type": "markdown",
   "metadata": {
    "nbpresent": {
     "id": "62c0d67b-c37e-4dc4-8555-9a5e1470ead4"
    }
   },
   "source": [
    "__Basic information retrieval based on keywords__"
   ]
  },
  {
   "cell_type": "code",
   "execution_count": null,
   "metadata": {
    "collapsed": true,
    "nbpresent": {
     "id": "a47b4638-0eb9-4766-b53f-8c305fd8b3c2"
    }
   },
   "outputs": [],
   "source": [
    "df2015_with_info[\"matches\"]=0\n",
    "for source_col in ['description_y','source_0','source_1','source_2','source_3','source_4']:\n",
    "    for name in df2015_with_info.index:\n",
    "        if df2015_with_info.loc[ind,source_col]==None:\n",
    "            pass\n",
    "        \n",
    "        elif df2015_with_info.loc[ind,source_col]==\"\":\n",
    "            pass\n",
    "        \n",
    "        else:\n",
    "        \n",
    "            for word in [\" murder\", \"homicide\",\"robbery\",\"aggravated assault\",\" rape \"]:\n",
    "                if word in df2015_with_info.loc[ind,source_col]:\n",
    "                    df2015_with_info.loc[ind,\"suspect?\"]+=1\n",
    "        "
   ]
  },
  {
   "cell_type": "markdown",
   "metadata": {
    "nbpresent": {
     "id": "695d5d63-274c-4d7d-9f24-55026951cf2f"
    }
   },
   "source": [
    "I also manually investigated the presence of the substring \"suspect\" manually (little number of cases).\n",
    "For example, in 2015, they were 4 matches out of just 7 cases for 2015 (and 0 out of 6 in 2016).\n",
    "\n",
    "_Result_\n",
    "\n",
    "In total, about 12.90% of the unarmed victims in 2015 were returned as such suspects of former crimes, and 6.52% in 2016."
   ]
  },
  {
   "cell_type": "code",
   "execution_count": null,
   "metadata": {
    "collapsed": true,
    "nbpresent": {
     "id": "9090d6a2-ea56-40dd-8e44-13a6f6af184e"
    }
   },
   "outputs": [],
   "source": []
  },
  {
   "cell_type": "markdown",
   "metadata": {
    "nbpresent": {
     "id": "192a0455-0e3b-471d-a317-d9e17a71477f"
    }
   },
   "source": [
    "### II) Goal: uncover insights in the killings with unsupervised techniques"
   ]
  },
  {
   "cell_type": "markdown",
   "metadata": {},
   "source": [
    "Examined groups:"
   ]
  },
  {
   "cell_type": "markdown",
   "metadata": {},
   "source": [
    "- (1) officer was charged; \n",
    "- (2) unarmed; \n",
    "- (3) unarmed + fleeing (FOOT or CAR) --> fleeing felon rule, \"FELONY suspect posing a significant threat of death or serious physical injury to the officer or others\"?;"
   ]
  },
  {
   "cell_type": "code",
   "execution_count": 5,
   "metadata": {
    "collapsed": true,
    "nbpresent": {
     "id": "52c4a0fc-0a19-41bf-b17b-a187eafc0c43"
    }
   },
   "outputs": [],
   "source": [
    "from scipy.stats import chisquare"
   ]
  },
  {
   "cell_type": "markdown",
   "metadata": {},
   "source": [
    "I use the Chi Square test as a statistical test throughout, but only were all frequencies are large enough for use (>5), as per the recommendation in the scipy documentation."
   ]
  },
  {
   "cell_type": "markdown",
   "metadata": {},
   "source": [
    "### 2015 to 2016 (excl. December) difference -basic descriptive enquiry "
   ]
  },
  {
   "cell_type": "markdown",
   "metadata": {},
   "source": [
    "__(1) Officer was charged__"
   ]
  },
  {
   "cell_type": "markdown",
   "metadata": {},
   "source": [
    " (only available for 2015 data)"
   ]
  },
  {
   "cell_type": "markdown",
   "metadata": {},
   "source": [
    "__(2) Unarmed__"
   ]
  },
  {
   "cell_type": "markdown",
   "metadata": {},
   "source": [
    "2015"
   ]
  },
  {
   "cell_type": "code",
   "execution_count": 170,
   "metadata": {
    "collapsed": false
   },
   "outputs": [
    {
     "data": {
      "text/plain": [
       "0.09283551967709384"
      ]
     },
     "execution_count": 170,
     "metadata": {},
     "output_type": "execute_result"
    }
   ],
   "source": [
    "float(df2015[(df2015[\"armed\"]==\"unarmed\")].shape[0])/float(df2015.shape[0])"
   ]
  },
  {
   "cell_type": "markdown",
   "metadata": {},
   "source": [
    "2016"
   ]
  },
  {
   "cell_type": "code",
   "execution_count": 171,
   "metadata": {
    "collapsed": false
   },
   "outputs": [
    {
     "data": {
      "text/plain": [
       "0.05084745762711865"
      ]
     },
     "execution_count": 171,
     "metadata": {},
     "output_type": "execute_result"
    }
   ],
   "source": [
    "float(df2016[(df2016[\"armed\"]==\"unarmed\")].shape[0])/float(df2016.shape[0])"
   ]
  },
  {
   "cell_type": "markdown",
   "metadata": {},
   "source": [
    "_Chi-Square Test_"
   ]
  },
  {
   "cell_type": "code",
   "execution_count": 172,
   "metadata": {
    "collapsed": false
   },
   "outputs": [
    {
     "data": {
      "text/plain": [
       "Power_divergenceResult(statistic=1.6809968872251406, pvalue=0.19479204231005676)"
      ]
     },
     "execution_count": 172,
     "metadata": {},
     "output_type": "execute_result"
    }
   ],
   "source": [
    "chisquare([(137 * float(df2015[(df2015[\"armed\"]==\"unarmed\")].shape[0]) / float(df2015.shape[0])),\n",
    "           (137 * float(df2016[(df2016[\"armed\"]==\"unarmed\")].shape[0]) / float(df2016.shape[0]))])"
   ]
  },
  {
   "cell_type": "markdown",
   "metadata": {},
   "source": [
    "No significant difference."
   ]
  },
  {
   "cell_type": "markdown",
   "metadata": {},
   "source": [
    "__(2v2) Unarmed dead case not featuring an attack nor a violent crime suspect__"
   ]
  },
  {
   "cell_type": "markdown",
   "metadata": {},
   "source": [
    "2015"
   ]
  },
  {
   "cell_type": "code",
   "execution_count": 174,
   "metadata": {
    "collapsed": false
   },
   "outputs": [
    {
     "data": {
      "text/plain": [
       "0.044399596367305755"
      ]
     },
     "execution_count": 174,
     "metadata": {},
     "output_type": "execute_result"
    }
   ],
   "source": [
    "float(df2015[(df2015[\"armed\"]==\"unarmed\") \n",
    "         & (df2015[\"threat_level\"]==\"other\") \n",
    "         & (df2015[\"suspect\"]==0)].shape[0])/float(df2015.shape[0])"
   ]
  },
  {
   "cell_type": "markdown",
   "metadata": {},
   "source": [
    "2016"
   ]
  },
  {
   "cell_type": "code",
   "execution_count": 175,
   "metadata": {
    "collapsed": false
   },
   "outputs": [
    {
     "data": {
      "text/plain": [
       "0.01807909604519774"
      ]
     },
     "execution_count": 175,
     "metadata": {},
     "output_type": "execute_result"
    }
   ],
   "source": [
    "float(df2016[(df2016[\"armed\"]==\"unarmed\") \n",
    "         & (df2016[\"threat_level\"]==\"other\") \n",
    "         & (df2016[\"suspect\"]==0)].shape[0])/float(df2016.shape[0])"
   ]
  },
  {
   "cell_type": "markdown",
   "metadata": {
    "nbpresent": {
     "id": "45e527d5-16e7-48bb-9d5b-ee9e086cc330"
    }
   },
   "source": [
    "### Race profile for these groups (basic descriptive enquiry)"
   ]
  },
  {
   "cell_type": "code",
   "execution_count": 6,
   "metadata": {
    "collapsed": false,
    "nbpresent": {
     "id": "4f841d7a-e0ff-4208-8905-0f1f052f62a9"
    }
   },
   "outputs": [],
   "source": [
    "df_whole=pd.concat([df2015.drop([\"is_officer_charged\", \"description\"], axis=1), df2016], ignore_index=True)"
   ]
  },
  {
   "cell_type": "code",
   "execution_count": 69,
   "metadata": {
    "collapsed": true,
    "nbpresent": {
     "id": "4cdb40a5-0c2a-4b78-ad80-f7361c609982"
    }
   },
   "outputs": [],
   "source": [
    "df_wh_top_3_races=df_whole[(df_whole[\"race\"]==\"W\") \n",
    "         | (df_whole[\"race\"]==\"B\") \n",
    "         | (df_whole[\"race\"]==\"H\")]\n",
    "\n",
    "df2015_t2=df2015[(df2015[\"race\"]==\"W\") \n",
    "         | (df2015[\"race\"]==\"B\")]\n"
   ]
  },
  {
   "cell_type": "markdown",
   "metadata": {
    "nbpresent": {
     "id": "3cadd369-d070-4599-b9fb-75db8c4ffc2f"
    }
   },
   "source": [
    "- W: White\n",
    "- B: Black\n",
    "- H: Hispanic\n",
    "- A: Asian or Pacific Islander\n",
    "- N: Native American\n",
    "- O: Other"
   ]
  },
  {
   "cell_type": "markdown",
   "metadata": {
    "nbpresent": {
     "id": "65ad2429-9be5-4c5b-a987-8d2093cdb852"
    }
   },
   "source": [
    "__(0) whole dataset__\n"
   ]
  },
  {
   "cell_type": "code",
   "execution_count": 7,
   "metadata": {
    "collapsed": false,
    "nbpresent": {
     "id": "b68ccae3-7d05-4433-923e-50e617dbdd46"
    }
   },
   "outputs": [
    {
     "data": {
      "text/plain": [
       "W    965\n",
       "B    481\n",
       "H    330\n",
       "A     28\n",
       "N     28\n",
       "O     25\n",
       "?     19\n",
       "Name: race, dtype: int64"
      ]
     },
     "execution_count": 7,
     "metadata": {},
     "output_type": "execute_result"
    }
   ],
   "source": [
    "df_whole.race.fillna(value=\"?\").value_counts()"
   ]
  },
  {
   "cell_type": "markdown",
   "metadata": {},
   "source": [
    "_All races_"
   ]
  },
  {
   "cell_type": "code",
   "execution_count": 11,
   "metadata": {
    "collapsed": false,
    "nbpresent": {
     "id": "e6af05a8-4544-45b0-b2bd-261e9c8f06de"
    }
   },
   "outputs": [
    {
     "data": {
      "image/png": "[encoded data removed]",
      "text/plain": [
       "<matplotlib.figure.Figure at 0x115958310>"
      ]
     },
     "metadata": {},
     "output_type": "display_data"
    }
   ],
   "source": [
    "df_whole.race.fillna(value=\"?\").value_counts(normalize=True).plot.bar(rot=0)\n",
    "plt.show()"
   ]
  },
  {
   "cell_type": "markdown",
   "metadata": {
    "nbpresent": {
     "id": "4d608c9f-b29c-485c-8d1b-49d63a92fd12"
    }
   },
   "source": [
    "_For the subsequent Chi-Square tests_"
   ]
  },
  {
   "cell_type": "markdown",
   "metadata": {
    "nbpresent": {
     "id": "0247c343-4008-4fee-9fbd-895a67991d46"
    }
   },
   "source": [
    "_1) Whole group_"
   ]
  },
  {
   "cell_type": "code",
   "execution_count": 18,
   "metadata": {
    "collapsed": false,
    "nbpresent": {
     "id": "b279bf17-ba69-42f4-9e45-19c96db25c56"
    }
   },
   "outputs": [
    {
     "name": "stdout",
     "output_type": "stream",
     "text": [
      "The values saved in the variable overall_group_proportions:\n",
      "[0.51439232409381663, 0.25639658848614072, 0.17590618336886993, 0.014925373134328358, 0.014925373134328358, 0.013326226012793176, 0.010127931769722815]\n"
     ]
    }
   ],
   "source": [
    "overall_group_proportions = df_whole.race.fillna(value=\"?\").value_counts(normalize=True).tolist()\n",
    "group_proportions_2015 = df2015.race.fillna(value=\"?\").value_counts(normalize=True).tolist()\n",
    "\n",
    "print \"The values saved in the variable overall_group_proportions:\"\n",
    "print overall_group_proportions\n"
   ]
  },
  {
   "cell_type": "markdown",
   "metadata": {
    "nbpresent": {
     "id": "a73bd7fc-333c-42b0-8711-3d4b52dbaf62"
    }
   },
   "source": [
    "_2) Top 3 group_"
   ]
  },
  {
   "cell_type": "code",
   "execution_count": 70,
   "metadata": {
    "collapsed": false,
    "nbpresent": {
     "id": "96f00fff-000d-4c4d-aada-7e9912056618"
    }
   },
   "outputs": [
    {
     "name": "stdout",
     "output_type": "stream",
     "text": [
      "The values saved in the variable t3_group_proportions:\n",
      "[0.54335585585585588, 0.27083333333333331, 0.1858108108108108]\n"
     ]
    }
   ],
   "source": [
    "t3_group_proportions = df_wh_top_3_races.race.fillna(value=\"?\").value_counts(normalize=True).tolist()\n",
    "t2_group_proportions_2015 = df2015_t2.race.fillna(value=\"?\").value_counts(normalize=True).tolist()\n",
    "\n",
    "print \"The values saved in the variable t3_group_proportions:\"\n",
    "print t3_group_proportions"
   ]
  },
  {
   "cell_type": "markdown",
   "metadata": {
    "nbpresent": {
     "id": "e3af8994-4a1a-4cbf-9b67-6c7bff14e9fb"
    }
   },
   "source": [
    "__(1) Officer was charged__ (only available for 2015 data)"
   ]
  },
  {
   "cell_type": "code",
   "execution_count": 195,
   "metadata": {
    "collapsed": false,
    "nbpresent": {
     "id": "ce337979-1002-44e1-9da0-b5021fa3771e"
    }
   },
   "outputs": [
    {
     "data": {
      "text/plain": [
       "11"
      ]
     },
     "execution_count": 195,
     "metadata": {},
     "output_type": "execute_result"
    }
   ],
   "source": [
    "df2015[df2015.is_officer_charged].shape[0]"
   ]
  },
  {
   "cell_type": "code",
   "execution_count": 196,
   "metadata": {
    "collapsed": false,
    "nbpresent": {
     "id": "7dd9f4ba-47aa-4167-892b-c6de721b400e"
    }
   },
   "outputs": [
    {
     "data": {
      "text/plain": [
       "B    0.545455\n",
       "W    0.454545\n",
       "Name: race, dtype: float64"
      ]
     },
     "execution_count": 196,
     "metadata": {},
     "output_type": "execute_result"
    }
   ],
   "source": [
    "df2015[df2015.is_officer_charged].race.fillna(value=\"?\").value_counts(normalize=True)"
   ]
  },
  {
   "cell_type": "markdown",
   "metadata": {
    "nbpresent": {
     "id": "c91d74e2-c621-4fad-8546-87fc3ba04aa3"
    }
   },
   "source": [
    "_Proportion with respect to whole race group in dataset_"
   ]
  },
  {
   "cell_type": "code",
   "execution_count": 197,
   "metadata": {
    "collapsed": false,
    "nbpresent": {
     "id": "67030e4e-601a-428c-b59a-0fa9bbc93db8"
    }
   },
   "outputs": [
    {
     "data": {
      "text/plain": [
       "B    0.023256\n",
       "W    0.009804\n",
       "?         NaN\n",
       "A         NaN\n",
       "H         NaN\n",
       "N         NaN\n",
       "O         NaN\n",
       "Name: race, dtype: float64"
      ]
     },
     "execution_count": 197,
     "metadata": {},
     "output_type": "execute_result"
    }
   ],
   "source": [
    "(df2015[df2015.is_officer_charged].race.value_counts()\n",
    " /df2015.race.fillna(value=\"?\").value_counts()).sort_values(ascending=False)"
   ]
  },
  {
   "cell_type": "markdown",
   "metadata": {
    "nbpresent": {
     "id": "7f63a5b9-1279-4c4f-9591-f37bdc4bd61c"
    }
   },
   "source": [
    "__(2) Unarmed__"
   ]
  },
  {
   "cell_type": "code",
   "execution_count": 198,
   "metadata": {
    "collapsed": false,
    "nbpresent": {
     "id": "818cfda9-5e7e-4538-8cc2-9162057cb66d"
    }
   },
   "outputs": [
    {
     "data": {
      "text/plain": [
       "137"
      ]
     },
     "execution_count": 198,
     "metadata": {},
     "output_type": "execute_result"
    }
   ],
   "source": [
    "df_whole[(df_whole[\"armed\"]==\"unarmed\")].shape[0]"
   ]
  },
  {
   "cell_type": "code",
   "execution_count": 179,
   "metadata": {
    "collapsed": false
   },
   "outputs": [
    {
     "data": {
      "text/plain": [
       "0.0730277185501066"
      ]
     },
     "execution_count": 179,
     "metadata": {},
     "output_type": "execute_result"
    }
   ],
   "source": [
    "float(df_whole[(df_whole[\"armed\"]==\"unarmed\")].shape[0])/float(df_whole.shape[0])"
   ]
  },
  {
   "cell_type": "code",
   "execution_count": 37,
   "metadata": {
    "collapsed": false,
    "nbpresent": {
     "id": "49d9b827-8e6b-4cca-a04a-475705e7aedf"
    }
   },
   "outputs": [
    {
     "data": {
      "text/plain": [
       "B    55\n",
       "W    52\n",
       "H    24\n",
       "O     4\n",
       "N     2\n",
       "Name: race, dtype: int64"
      ]
     },
     "execution_count": 37,
     "metadata": {},
     "output_type": "execute_result"
    }
   ],
   "source": [
    "df_whole[(df_whole[\"armed\"]==\"unarmed\")].race.fillna(value=\"?\").value_counts()"
   ]
  },
  {
   "cell_type": "code",
   "execution_count": 200,
   "metadata": {
    "collapsed": false,
    "nbpresent": {
     "id": "efe82c6c-22ca-4fb6-a12d-3cb094e9f239"
    }
   },
   "outputs": [
    {
     "data": {
      "text/plain": [
       "B    0.401460\n",
       "W    0.379562\n",
       "H    0.175182\n",
       "O    0.029197\n",
       "N    0.014599\n",
       "Name: race, dtype: float64"
      ]
     },
     "execution_count": 200,
     "metadata": {},
     "output_type": "execute_result"
    }
   ],
   "source": [
    "df_whole[(df_whole[\"armed\"]==\"unarmed\")].race.fillna(value=\"?\").value_counts(normalize=True)"
   ]
  },
  {
   "cell_type": "markdown",
   "metadata": {
    "nbpresent": {
     "id": "d045462b-21eb-468c-9feb-d78ceae68f37"
    }
   },
   "source": [
    "_Proportion with respect to whole race group in dataset_"
   ]
  },
  {
   "cell_type": "code",
   "execution_count": 66,
   "metadata": {
    "collapsed": false,
    "nbpresent": {
     "id": "30a393e6-93d1-4a6e-9353-38e32ce415d8"
    }
   },
   "outputs": [
    {
     "data": {
      "text/plain": [
       "O    0.160000\n",
       "B    0.114345\n",
       "H    0.072727\n",
       "N    0.071429\n",
       "W    0.053886\n",
       "?         NaN\n",
       "A         NaN\n",
       "Name: race, dtype: float64"
      ]
     },
     "execution_count": 66,
     "metadata": {},
     "output_type": "execute_result"
    }
   ],
   "source": [
    "(df_whole[(df_whole[\"armed\"]==\"unarmed\")].race.fillna(value=\"?\").value_counts()\n",
    "/df_whole.race.fillna(value=\"?\").value_counts()).sort_values(ascending=False)"
   ]
  },
  {
   "cell_type": "markdown",
   "metadata": {
    "nbpresent": {
     "id": "00084784-5d36-4786-b53d-f6bb34af7e3c"
    }
   },
   "source": [
    "_Chi-Square test_"
   ]
  },
  {
   "cell_type": "code",
   "execution_count": 181,
   "metadata": {
    "collapsed": true,
    "nbpresent": {
     "id": "b04a7d0d-d8ee-40a0-bf7b-11cedd1e5f93"
    }
   },
   "outputs": [],
   "source": [
    "f_obs_2t3= [52, 55, 24] #frequencies of unarmed deceased by racial group"
   ]
  },
  {
   "cell_type": "code",
   "execution_count": 182,
   "metadata": {
    "collapsed": false,
    "nbpresent": {
     "id": "58e75301-f7a1-4c08-b862-e16512a93e3c"
    }
   },
   "outputs": [
    {
     "data": {
      "text/plain": [
       "Power_divergenceResult(statistic=15.913273824225852, pvalue=0.00035032932681900147)"
      ]
     },
     "execution_count": 182,
     "metadata": {},
     "output_type": "execute_result"
    }
   ],
   "source": [
    "total_positives=df_wh_top_3_races[(df_wh_top_3_races[\"armed\"]==\"unarmed\")].shape[0]\n",
    "\n",
    "chisquare(f_obs_2t3,f_exp=([x * total_positives for x in t3_group_proportions]))"
   ]
  },
  {
   "cell_type": "markdown",
   "metadata": {
    "nbpresent": {
     "id": "cf2ee8e6-8b53-4383-bab7-ef58114551b6"
    }
   },
   "source": [
    "We can reject the null hypothesis."
   ]
  },
  {
   "cell_type": "markdown",
   "metadata": {
    "nbpresent": {
     "id": "51ebe0aa-aecb-4b32-8f68-3685b554b74f"
    }
   },
   "source": [
    "__(2v2) Unarmed dead case not featuring an attack nor a violent crime suspect__"
   ]
  },
  {
   "cell_type": "code",
   "execution_count": 223,
   "metadata": {
    "collapsed": false,
    "nbpresent": {
     "id": "4f7e076b-389d-43b6-bd4a-9ce8f6e85864"
    }
   },
   "outputs": [
    {
     "data": {
      "text/plain": [
       "60"
      ]
     },
     "execution_count": 223,
     "metadata": {},
     "output_type": "execute_result"
    }
   ],
   "source": [
    "df_whole[(df_whole[\"armed\"]==\"unarmed\") \n",
    "         & (df_whole[\"threat_level\"]==\"other\") \n",
    "         & (df_whole[\"suspect\"]==0)].shape[0]"
   ]
  },
  {
   "cell_type": "code",
   "execution_count": 224,
   "metadata": {
    "collapsed": false,
    "nbpresent": {
     "id": "6e3e81f3-47dd-4e5f-8983-416a81baec4b"
    }
   },
   "outputs": [
    {
     "data": {
      "text/plain": [
       "B    24\n",
       "W    23\n",
       "H     9\n",
       "O     3\n",
       "N     1\n",
       "Name: race, dtype: int64"
      ]
     },
     "execution_count": 224,
     "metadata": {},
     "output_type": "execute_result"
    }
   ],
   "source": [
    "df_whole[(df_whole[\"armed\"]==\"unarmed\") \n",
    "         & (df_whole[\"threat_level\"]==\"other\")\n",
    "         & (df_whole[\"suspect\"]==0)].race.value_counts()"
   ]
  },
  {
   "cell_type": "code",
   "execution_count": 225,
   "metadata": {
    "collapsed": false,
    "nbpresent": {
     "id": "c8b991bc-34d8-4e1b-9c31-41bc909bc9e9"
    }
   },
   "outputs": [
    {
     "data": {
      "text/plain": [
       "B    0.400000\n",
       "W    0.383333\n",
       "H    0.150000\n",
       "O    0.050000\n",
       "N    0.016667\n",
       "Name: race, dtype: float64"
      ]
     },
     "execution_count": 225,
     "metadata": {},
     "output_type": "execute_result"
    }
   ],
   "source": [
    "df_whole[(df_whole[\"armed\"]==\"unarmed\") \n",
    "         & (df_whole[\"threat_level\"]==\"other\")\n",
    "         & (df_whole[\"suspect\"]==0)].race.value_counts(normalize=True)"
   ]
  },
  {
   "cell_type": "markdown",
   "metadata": {
    "nbpresent": {
     "id": "1ccc8df6-4a5f-4a9d-a279-f9e41a6d4252"
    }
   },
   "source": [
    "_Proportion with respect to whole race group in dataset_"
   ]
  },
  {
   "cell_type": "code",
   "execution_count": 226,
   "metadata": {
    "collapsed": false,
    "nbpresent": {
     "id": "3f702b16-ae3d-40bd-aac6-7bb5b19bd1aa"
    }
   },
   "outputs": [
    {
     "data": {
      "text/plain": [
       "O    0.120000\n",
       "B    0.049896\n",
       "N    0.035714\n",
       "H    0.027273\n",
       "W    0.023834\n",
       "?         NaN\n",
       "A         NaN\n",
       "Name: race, dtype: float64"
      ]
     },
     "execution_count": 226,
     "metadata": {},
     "output_type": "execute_result"
    }
   ],
   "source": [
    "(df_whole[(df_whole[\"armed\"]==\"unarmed\") \n",
    "         & (df_whole[\"threat_level\"]==\"other\")\n",
    "         & (df_whole[\"suspect\"]==0)].race.value_counts()\n",
    "/df_whole.race.fillna(value=\"?\").value_counts()).sort_values(ascending=False)"
   ]
  },
  {
   "cell_type": "markdown",
   "metadata": {
    "collapsed": true,
    "nbpresent": {
     "id": "2e400f02-a2e0-437d-b69b-6f568c658cb4"
    }
   },
   "source": [
    "_Chi-Square test_"
   ]
  },
  {
   "cell_type": "code",
   "execution_count": 75,
   "metadata": {
    "collapsed": true,
    "nbpresent": {
     "id": "3eb907a7-98aa-402f-b4c4-be959ee2e2c1"
    }
   },
   "outputs": [],
   "source": [
    "f_obs_2v2 = [23, 24, 9]"
   ]
  },
  {
   "cell_type": "code",
   "execution_count": 314,
   "metadata": {
    "collapsed": false,
    "nbpresent": {
     "id": "6ed7e431-1bc5-4085-a6da-c9f1ecd66b50"
    }
   },
   "outputs": [
    {
     "data": {
      "text/plain": [
       "Power_divergenceResult(statistic=7.1477817519268303, pvalue=0.028046515594389469)"
      ]
     },
     "execution_count": 314,
     "metadata": {},
     "output_type": "execute_result"
    }
   ],
   "source": [
    "total_positives=df_wh_top_3_races[(df_wh_top_3_races[\"armed\"]==\"unarmed\") \n",
    "         & (df_wh_top_3_races[\"threat_level\"]==\"other\") \n",
    "         & (df_wh_top_3_races[\"suspect\"]==0)].shape[0]\n",
    "\n",
    "chisquare(f_obs_2v2, f_exp=([x * float(total_positives) for x in t3_group_proportions]))"
   ]
  },
  {
   "cell_type": "markdown",
   "metadata": {
    "nbpresent": {
     "id": "e782f596-ed42-46f3-ae39-76e070cbc3cd"
    }
   },
   "source": [
    "We can reject the null hypothesis."
   ]
  },
  {
   "cell_type": "code",
   "execution_count": null,
   "metadata": {
    "collapsed": true
   },
   "outputs": [],
   "source": []
  },
  {
   "cell_type": "markdown",
   "metadata": {
    "nbpresent": {
     "id": "7e7a14ab-9b74-4f63-a074-37a52096310e"
    }
   },
   "source": [
    "__[IMPORTANT NOTE: The data used here (in the \"fleeing?\" column) was later found to show multiple inconsistencies. The results in the section underneath (3 and 3v2) cannot be used until further review is done]__\n",
    "\n",
    "__(3) Unarmed fleeing felon case__ "
   ]
  },
  {
   "cell_type": "code",
   "execution_count": 206,
   "metadata": {
    "collapsed": false,
    "nbpresent": {
     "id": "2108723c-5326-4791-8004-6253c54c2fbb"
    }
   },
   "outputs": [
    {
     "data": {
      "text/plain": [
       "6"
      ]
     },
     "execution_count": 206,
     "metadata": {},
     "output_type": "execute_result"
    }
   ],
   "source": [
    "df_whole[(df_whole[\"armed\"]==\"unarmed\") \n",
    "         & (df_whole[\"fleeing?\"]==\"YES\")].shape[0]"
   ]
  },
  {
   "cell_type": "code",
   "execution_count": 207,
   "metadata": {
    "collapsed": false,
    "nbpresent": {
     "id": "d9d488a0-8f46-426a-b683-80099d749a04"
    }
   },
   "outputs": [
    {
     "data": {
      "text/plain": [
       "B    3\n",
       "W    2\n",
       "H    1\n",
       "Name: race, dtype: int64"
      ]
     },
     "execution_count": 207,
     "metadata": {},
     "output_type": "execute_result"
    }
   ],
   "source": [
    "df_whole[(df_whole[\"armed\"]==\"unarmed\") \n",
    "         & (df_whole[\"fleeing?\"]==\"YES\")].race.fillna(value=\"?\").value_counts()"
   ]
  },
  {
   "cell_type": "code",
   "execution_count": 208,
   "metadata": {
    "collapsed": false,
    "nbpresent": {
     "id": "764b276e-e4bf-404a-9593-76070dc28d64"
    }
   },
   "outputs": [
    {
     "data": {
      "text/plain": [
       "B    0.500000\n",
       "W    0.333333\n",
       "H    0.166667\n",
       "Name: race, dtype: float64"
      ]
     },
     "execution_count": 208,
     "metadata": {},
     "output_type": "execute_result"
    }
   ],
   "source": [
    "df_whole[(df_whole[\"armed\"]==\"unarmed\") \n",
    "         & (df_whole[\"fleeing?\"]==\"YES\")].race.fillna(value=\"?\").value_counts(normalize=True)"
   ]
  },
  {
   "cell_type": "markdown",
   "metadata": {
    "nbpresent": {
     "id": "b78f1b1c-7690-4055-9da2-606892956e4f"
    }
   },
   "source": [
    "_Proportion with respect to whole race group in dataset_"
   ]
  },
  {
   "cell_type": "code",
   "execution_count": 209,
   "metadata": {
    "collapsed": false,
    "nbpresent": {
     "id": "940b0655-73dc-44f3-a9b2-80209bfb56ca"
    }
   },
   "outputs": [
    {
     "data": {
      "text/plain": [
       "B    0.006237\n",
       "H    0.003030\n",
       "W    0.002073\n",
       "?         NaN\n",
       "A         NaN\n",
       "N         NaN\n",
       "O         NaN\n",
       "Name: race, dtype: float64"
      ]
     },
     "execution_count": 209,
     "metadata": {},
     "output_type": "execute_result"
    }
   ],
   "source": [
    "(df_whole[(df_whole[\"armed\"]==\"unarmed\") \n",
    "         & (df_whole[\"fleeing?\"]==\"YES\")].race.fillna(value=\"?\").value_counts()\n",
    "/df_whole.race.fillna(value=\"?\").value_counts()).sort_values(ascending=False)"
   ]
  },
  {
   "cell_type": "markdown",
   "metadata": {
    "nbpresent": {
     "id": "b370734d-13b8-475b-9fdf-5557cdeab103"
    }
   },
   "source": [
    "__[IMPORTANT NOTE: The data used here (in the \"fleeing?\" column) was later found to show multiple inconsistencies. The results in the section underneath (3 and 3v2) cannot be used until further review is done]__\n",
    "\n",
    "__(3v2) Unarmed fleeing felon case not featuring an attack nor a violent crime suspect__"
   ]
  },
  {
   "cell_type": "code",
   "execution_count": 227,
   "metadata": {
    "collapsed": false,
    "nbpresent": {
     "id": "721e47a7-41bf-49d9-9ce5-cd555f1c1e77"
    }
   },
   "outputs": [
    {
     "data": {
      "text/plain": [
       "2"
      ]
     },
     "execution_count": 227,
     "metadata": {},
     "output_type": "execute_result"
    }
   ],
   "source": [
    "df_whole[(df_whole[\"armed\"]==\"unarmed\") \n",
    "         & (df_whole[\"fleeing?\"]==\"YES\") \n",
    "         & (df_whole[\"threat_level\"]==\"other\") \n",
    "         & (df_whole[\"suspect?\"]==0)].shape[0]"
   ]
  },
  {
   "cell_type": "code",
   "execution_count": 228,
   "metadata": {
    "collapsed": false,
    "nbpresent": {
     "id": "213df769-962f-43a5-b91c-86ab760e2b42"
    }
   },
   "outputs": [
    {
     "data": {
      "text/plain": [
       "B    1\n",
       "H    1\n",
       "Name: race, dtype: int64"
      ]
     },
     "execution_count": 228,
     "metadata": {},
     "output_type": "execute_result"
    }
   ],
   "source": [
    "df_whole[(df_whole[\"armed\"]==\"unarmed\") \n",
    "         & (df_whole[\"fleeing?\"]==\"YES\") \n",
    "         & (df_whole[\"threat_level\"]==\"other\") \n",
    "         & (df_whole[\"suspect?\"]==0)].race.fillna(value=\"?\").value_counts()"
   ]
  },
  {
   "cell_type": "code",
   "execution_count": 100,
   "metadata": {
    "collapsed": false,
    "nbpresent": {
     "id": "740fb1bf-9491-48ac-83f8-12be98087be4"
    }
   },
   "outputs": [
    {
     "data": {
      "text/plain": [
       "B    0.5\n",
       "H    0.5\n",
       "Name: race, dtype: float64"
      ]
     },
     "execution_count": 100,
     "metadata": {},
     "output_type": "execute_result"
    }
   ],
   "source": [
    "df_whole[(df_whole[\"armed\"]==\"unarmed\") \n",
    "         & (df_whole[\"fleeing?\"]==\"YES\") \n",
    "         & (df_whole[\"threat_level\"]==\"other\") \n",
    "         & (df_whole[\"suspect?\"]==0)].race.fillna(value=\"?\").value_counts(normalize=True)"
   ]
  },
  {
   "cell_type": "markdown",
   "metadata": {
    "nbpresent": {
     "id": "b39b14a6-2bda-441c-9220-4a91490e0014"
    }
   },
   "source": [
    "_Proportion with respect to whole race group in dataset_"
   ]
  },
  {
   "cell_type": "code",
   "execution_count": 102,
   "metadata": {
    "collapsed": false,
    "nbpresent": {
     "id": "ae42ef0c-cabc-4da5-8c44-32f65d702464"
    }
   },
   "outputs": [
    {
     "data": {
      "text/plain": [
       "H    0.003030\n",
       "B    0.002079\n",
       "?         NaN\n",
       "A         NaN\n",
       "N         NaN\n",
       "O         NaN\n",
       "W         NaN\n",
       "Name: race, dtype: float64"
      ]
     },
     "execution_count": 102,
     "metadata": {},
     "output_type": "execute_result"
    }
   ],
   "source": [
    "(df_whole[(df_whole[\"armed\"]==\"unarmed\") \n",
    "         & (df_whole[\"fleeing?\"]==\"YES\") \n",
    "         & (df_whole[\"threat_level\"]==\"other\") \n",
    "         & (df_whole[\"suspect?\"]==0)].race.fillna(value=\"?\").value_counts()\n",
    "/df_whole.race.fillna(value=\"?\").value_counts()).sort_values(ascending=False)"
   ]
  },
  {
   "cell_type": "markdown",
   "metadata": {
    "nbpresent": {
     "id": "f07c33f1-bda3-4e74-a511-75f3501b96ab"
    }
   },
   "source": [
    "---"
   ]
  },
  {
   "cell_type": "markdown",
   "metadata": {
    "nbpresent": {
     "id": "bffaf5b0-a3e4-4a7e-a894-12faea42ebc4"
    }
   },
   "source": [
    "__EXTRA : (-1) dead who likely were perpetrating a violent crime__"
   ]
  },
  {
   "cell_type": "code",
   "execution_count": 212,
   "metadata": {
    "collapsed": false,
    "nbpresent": {
     "id": "32d7c604-088a-4d65-9bf2-d4214ab7f062"
    }
   },
   "outputs": [
    {
     "data": {
      "text/plain": [
       "1175"
      ]
     },
     "execution_count": 212,
     "metadata": {},
     "output_type": "execute_result"
    }
   ],
   "source": [
    "df_whole[(df_whole[\"armed\"]!=\"unarmed\") \n",
    "         & (df_whole[\"threat_level\"]==\"attack\")].shape[0]"
   ]
  },
  {
   "cell_type": "code",
   "execution_count": 213,
   "metadata": {
    "collapsed": false,
    "nbpresent": {
     "id": "8c5bc356-0cac-466e-94e9-07bdf654bcf7"
    }
   },
   "outputs": [
    {
     "data": {
      "text/plain": [
       "W    632\n",
       "B    301\n",
       "H    181\n",
       "N     16\n",
       "?     16\n",
       "O     15\n",
       "A     14\n",
       "Name: race, dtype: int64"
      ]
     },
     "execution_count": 213,
     "metadata": {},
     "output_type": "execute_result"
    }
   ],
   "source": [
    "df_whole[(df_whole[\"armed\"]!=\"unarmed\") \n",
    "         & (df_whole[\"threat_level\"]==\"attack\")].race.fillna(value=\"?\").value_counts()"
   ]
  },
  {
   "cell_type": "code",
   "execution_count": 214,
   "metadata": {
    "collapsed": false,
    "nbpresent": {
     "id": "d047f5e9-6f79-409d-8405-2d367ab85710"
    }
   },
   "outputs": [
    {
     "data": {
      "text/plain": [
       "W    0.537872\n",
       "B    0.256170\n",
       "H    0.154043\n",
       "N    0.013617\n",
       "?    0.013617\n",
       "O    0.012766\n",
       "A    0.011915\n",
       "Name: race, dtype: float64"
      ]
     },
     "execution_count": 214,
     "metadata": {},
     "output_type": "execute_result"
    }
   ],
   "source": [
    "df_whole[(df_whole[\"armed\"]!=\"unarmed\") \n",
    "         & (df_whole[\"threat_level\"]==\"attack\")].race.fillna(value=\"?\").value_counts(normalize=True)"
   ]
  },
  {
   "cell_type": "markdown",
   "metadata": {
    "nbpresent": {
     "id": "6d49dbf7-4cc6-4c21-885f-37bfca148097"
    }
   },
   "source": [
    "_Proportion with respect to whole race group in dataset_"
   ]
  },
  {
   "cell_type": "code",
   "execution_count": 215,
   "metadata": {
    "collapsed": false,
    "nbpresent": {
     "id": "de8424c2-2ee5-4fa2-805a-7f429bda27ab"
    }
   },
   "outputs": [
    {
     "data": {
      "text/plain": [
       "?    0.842105\n",
       "W    0.654922\n",
       "B    0.625780\n",
       "O    0.600000\n",
       "N    0.571429\n",
       "H    0.548485\n",
       "A    0.500000\n",
       "Name: race, dtype: float64"
      ]
     },
     "execution_count": 215,
     "metadata": {},
     "output_type": "execute_result"
    }
   ],
   "source": [
    "(df_whole[(df_whole[\"armed\"]!=\"unarmed\") \n",
    "         & (df_whole[\"threat_level\"]==\"attack\")].race.fillna(value=\"?\").value_counts()\n",
    "/df_whole.race.fillna(value=\"?\").value_counts()).sort_values(ascending=False)"
   ]
  },
  {
   "cell_type": "markdown",
   "metadata": {
    "nbpresent": {
     "id": "85dc62be-0d63-45df-8e5c-5987c9973174"
    }
   },
   "source": [
    "_Chi-Square test_"
   ]
  },
  {
   "cell_type": "code",
   "execution_count": 185,
   "metadata": {
    "collapsed": true,
    "nbpresent": {
     "id": "8553ac7c-26ed-4e45-87c1-a6bc565676cc"
    }
   },
   "outputs": [],
   "source": [
    "f_obs_x=[632, 301, 181]"
   ]
  },
  {
   "cell_type": "code",
   "execution_count": 315,
   "metadata": {
    "collapsed": false,
    "nbpresent": {
     "id": "1cc931eb-d95a-4eb3-908c-62d520f587cb"
    }
   },
   "outputs": [
    {
     "data": {
      "text/plain": [
       "Power_divergenceResult(statistic=4.4436616136860767, pvalue=0.10841044843519552)"
      ]
     },
     "execution_count": 315,
     "metadata": {},
     "output_type": "execute_result"
    }
   ],
   "source": [
    "total_positives= float(df_wh_top_3_races[(df_wh_top_3_races[\"armed\"]!=\"unarmed\") \n",
    "         & (df_wh_top_3_races[\"threat_level\"]==\"attack\")].shape[0])\n",
    "\n",
    "chisquare(f_obs_x,f_exp=([float(x) * total_positives for x in t3_group_proportions]))"
   ]
  },
  {
   "cell_type": "markdown",
   "metadata": {},
   "source": [
    "We can't reject the null hypothesis."
   ]
  },
  {
   "cell_type": "markdown",
   "metadata": {
    "nbpresent": {
     "id": "ef70664f-8f41-4883-8180-777fc3594ce4"
    }
   },
   "source": [
    "---"
   ]
  },
  {
   "cell_type": "markdown",
   "metadata": {
    "nbpresent": {
     "id": "a966ba68-2fac-4d30-86aa-1df33fabd8b6"
    }
   },
   "source": [
    "__Results__"
   ]
  },
  {
   "cell_type": "markdown",
   "metadata": {
    "nbpresent": {
     "id": "05f3796b-1154-42a1-af3c-c47bc45598f2"
    }
   },
   "source": [
    "What we can say:\n",
    "\n",
    "1) the kind of cases that are often second-guessed by the public make a very small proportions of all the killings, not only by the \"unarmed\" variable (which has been shown already by journalists working with the source dataset). This one makes but 7.3% of the whole (The proportion of unarmed shot people decreased from 9.28% to 5.08% from 2015 to 2016, but the difference is not statistically significant). The groups I defined myself examined captured limited numbers. That was to be expected since they build on the already marginal \"unarmed\" group. Their size is however too small for application of the Chi-Square test."
   ]
  },
  {
   "cell_type": "markdown",
   "metadata": {
    "nbpresent": {
     "id": "445daafd-8419-4172-93cb-4ba6a3049575"
    }
   },
   "source": [
    "2) By all but one of the proxies used, there are notable differences between races in the dataset as to the proportion of cases falling in my discriminant groups, and Black people stand before any single racial group when looking at the proportion of the whole group in the dataset. In other words: _\"for the Black people __that were killed__\"_ a greater proportion than other races were so in _circumstances for which justifiability would have needed investigation_, by my chosen proxies.\n",
    "However, only two cases had frequencies large enough for my statistical test (Chi-Square). For the \"unarmed cases\" group, we can reject the null hypothesis of no difference with p-value = 0.01 and for the \"unarmed cases not featuring an attacking person or a violent crime suspect\". "
   ]
  },
  {
   "cell_type": "markdown",
   "metadata": {
    "nbpresent": {
     "id": "473c52b7-df65-47d1-9673-c66b6bda1f1c"
    }
   },
   "source": [
    "__Discussion__\n",
    "\n",
    "As a reminder, the implications regarding probability of justifiability that can be derived using these factors, as there are still a plethora of possible circumstances that would argue against racial disadvantage: so far, I have not separated. For example, some \"unarmed\" shot people were actually collateral victims because of being in cars with people who they were armed and had a confrontation with police. All these factors need be accounted for. \n",
    "\n",
    "The general limitations I encountered with my proxies lend weight to the argument that for reliable tools to investigate 'justifiability' of police killings and their interaction with other factors as racial profiles, information available to the public like news data is not enough, and therefore the American authorities (FBI), who only can explore ways of obtaining the needed information from the police agencies, are the ones with a role to play.\n",
    "\n",
    "I must stress that I am JUST reporting the p-value using the Chi-Square test of variable independence. That was the one statistical test I found for categorical data, but I have yet to research its theoretical weight. I have nevertheless, as stated, sticked by the advice that the frequencies have a particular minimum (equal to 5)).\n",
    "\n",
    "Looking forward, the proxies that could not be statistically assessed can be as we get data for more years. "
   ]
  },
  {
   "cell_type": "markdown",
   "metadata": {
    "nbpresent": {
     "id": "9ab05da4-5ef2-44b1-92fb-cff9a4d0b4b2"
    }
   },
   "source": [
    "### Hierarchical Clustering"
   ]
  },
  {
   "cell_type": "markdown",
   "metadata": {
    "nbpresent": {
     "id": "ca197ddc-1a5d-4b9e-b772-723a01ef389c"
    }
   },
   "source": [
    "I applied clustering techniques to the variables relative to behaviour of the people shot (\"flee\", \"weapon_groups\" and \"threat-level\"). The \"flee\" variable values is thus explained:\n",
    "\n",
    "- \"Not fleeing\" are cases that did not feature a chase at any point.\n",
    "- \"Car\" & \"Foot\" are cases where the shot person tried to flee from police at some point, either by car or by foot\n",
    "- \"Other\" are cases where the question is irrelevant or makes no sense.\n",
    "\n",
    "The \"threat-level\" variable values are thus explained:\n",
    "\n",
    "- the \"attack\" value corresponds to cases where the individuals had already 1) fired shots, 2) brandished a gun or 3) started an attack on a person with a weapon or their bare hands.\n",
    "- \"other\" groups all other cases (they mention at least two distinct groups within (one of whom includes people holding non-firearm weapons) in their story, but they do not provide this information in the data put at our disposition).\n",
    "- \"undetermined\" are cases where the Washington Post was unable to determine the circumstances of the shootings because of limited information or ongoing investigations\n",
    "\n",
    "Clustering techniques use distance to form clusters. For categorical data, alternatives are needed. After exploring different alternatives. I believe hierarchical clustering that will re-use the distance function presented in the paper should be a more effective way to appreciate similarity."
   ]
  },
  {
   "cell_type": "markdown",
   "metadata": {
    "nbpresent": {
     "id": "a25fe073-c983-471b-8303-bcb13afa77ba"
    }
   },
   "source": [
    "---"
   ]
  },
  {
   "cell_type": "markdown",
   "metadata": {
    "nbpresent": {
     "id": "0d4242b7-702a-470f-b354-83251c06de20"
    }
   },
   "source": [
    "__Data transformation__"
   ]
  },
  {
   "cell_type": "code",
   "execution_count": null,
   "metadata": {
    "collapsed": true,
    "nbpresent": {
     "id": "3e309d73-8a67-4fbf-8499-f4abb603696c"
    }
   },
   "outputs": [],
   "source": [
    "#I define groups here rather than modifying the data in the dataset to be able to revert if wanted"
   ]
  },
  {
   "cell_type": "code",
   "execution_count": 279,
   "metadata": {
    "collapsed": false,
    "nbpresent": {
     "id": "f0324670-acb4-49e2-9851-0f018fbaa119"
    }
   },
   "outputs": [],
   "source": [
    "df_clust_ = pd.concat([df2015.drop(\"is_officer_charged\", axis=1), df2016], ignore_index=True)"
   ]
  },
  {
   "cell_type": "code",
   "execution_count": 280,
   "metadata": {
    "collapsed": false,
    "nbpresent": {
     "id": "2bf49b3d-e603-4cda-abe3-bb3c0054444b"
    }
   },
   "outputs": [],
   "source": [
    "def weapon_groups(weapon):\n",
    "    if weapon in [\"guns and explosives\", \"gun and knife\", \"hatchet and gun\"]:\n",
    "        weapon=\"gun\"\n",
    "    elif weapon==\"motorcycle\":\n",
    "        weapon=\"vehicle\"\n",
    "    elif weapon==\"in vehicle with criminal\":    \n",
    "        weapon=\"unarmed\"\n",
    "    elif weapon in [\"baseball bat\", \"hammer\", \"Taser\", \"metal pipe\", \"screwdriver\", \"crossbow\", \"rock\", \"baton\", \"metal pole\", \"brick\"                               \n",
    ",\"flashlight\",\"carjack\",\"pole\",\"chain\",\"flagpole\",\"pipe\",\"hand torch\",\"metal object\",\"metal rake\",\"piece of wood\",\"bean-bag gun\"\n",
    ",\"contractor's level\",\"beer bottle\"]:\n",
    "        weapon=\"blunt object\"\n",
    "    elif weapon not in [\"gun\", \"knife\", \"unarmed\", \"vehicle\",\"toy weapon\", \"undetermined\", \"unknown weapon\"]:\n",
    "        weapon=\"other\"\n",
    "    return weapon\n",
    "\n",
    "df_clust_[\"weapon_groups\"]=df_clust_[\"armed\"].apply(weapon_groups)"
   ]
  },
  {
   "cell_type": "code",
   "execution_count": 283,
   "metadata": {
    "collapsed": false,
    "nbpresent": {
     "id": "7c1f18bd-70cd-442b-b746-5cfcf9d34bfb"
    }
   },
   "outputs": [],
   "source": [
    "df_clust=df_clust_.drop([\"age\", \"full_state\",\"age_groups\",\"date_in_year\",\"armed\", \"description\", \"city\", \"name\", \"month\", \"day_of_month\", \"fleeing?\", \"suspect\", \"race\"], axis=1)"
   ]
  },
  {
   "cell_type": "code",
   "execution_count": 284,
   "metadata": {
    "collapsed": false,
    "nbpresent": {
     "id": "1571a152-b9a6-44d9-bc8e-a289cc881dfb"
    }
   },
   "outputs": [
    {
     "data": {
      "text/html": [
       "<div>\n",
       "<table border=\"1\" class=\"dataframe\">\n",
       "  <thead>\n",
       "    <tr style=\"text-align: right;\">\n",
       "      <th></th>\n",
       "      <th>flee</th>\n",
       "      <th>threat_level</th>\n",
       "      <th>weapon_groups</th>\n",
       "    </tr>\n",
       "  </thead>\n",
       "  <tbody>\n",
       "    <tr>\n",
       "      <th>0</th>\n",
       "      <td>Not fleeing</td>\n",
       "      <td>attack</td>\n",
       "      <td>gun</td>\n",
       "    </tr>\n",
       "    <tr>\n",
       "      <th>1</th>\n",
       "      <td>Not fleeing</td>\n",
       "      <td>attack</td>\n",
       "      <td>gun</td>\n",
       "    </tr>\n",
       "    <tr>\n",
       "      <th>2</th>\n",
       "      <td>Not fleeing</td>\n",
       "      <td>other</td>\n",
       "      <td>unarmed</td>\n",
       "    </tr>\n",
       "    <tr>\n",
       "      <th>3</th>\n",
       "      <td>Not fleeing</td>\n",
       "      <td>attack</td>\n",
       "      <td>toy weapon</td>\n",
       "    </tr>\n",
       "    <tr>\n",
       "      <th>4</th>\n",
       "      <td>Not fleeing</td>\n",
       "      <td>attack</td>\n",
       "      <td>other</td>\n",
       "    </tr>\n",
       "  </tbody>\n",
       "</table>\n",
       "</div>"
      ],
      "text/plain": [
       "          flee threat_level weapon_groups\n",
       "0  Not fleeing       attack           gun\n",
       "1  Not fleeing       attack           gun\n",
       "2  Not fleeing        other       unarmed\n",
       "3  Not fleeing       attack    toy weapon\n",
       "4  Not fleeing       attack         other"
      ]
     },
     "execution_count": 284,
     "metadata": {},
     "output_type": "execute_result"
    }
   ],
   "source": [
    "df_clust.head()"
   ]
  },
  {
   "cell_type": "markdown",
   "metadata": {
    "nbpresent": {
     "id": "0f9ea5c5-2218-4ddd-8978-c650cd905c76"
    }
   },
   "source": [
    "__Forming linkage matrix__"
   ]
  },
  {
   "cell_type": "code",
   "execution_count": 285,
   "metadata": {
    "collapsed": true,
    "nbpresent": {
     "id": "99a4fcb8-adce-46ca-8e44-aafd7ca01867"
    }
   },
   "outputs": [],
   "source": [
    "from sklearn import metrics\n",
    "from scipy.spatial.distance import pdist, squareform\n",
    "from sklearn.preprocessing import LabelEncoder"
   ]
  },
  {
   "cell_type": "code",
   "execution_count": 286,
   "metadata": {
    "collapsed": true,
    "nbpresent": {
     "id": "200ab282-0c40-4ed9-bd93-8f7ec5c0a348"
    }
   },
   "outputs": [],
   "source": [
    "from scipy.cluster.hierarchy import dendrogram, linkage, cophenet, fcluster"
   ]
  },
  {
   "cell_type": "code",
   "execution_count": 287,
   "metadata": {
    "collapsed": false,
    "nbpresent": {
     "id": "0edcee2f-a31c-4183-8bd3-2d69e348c15c"
    }
   },
   "outputs": [],
   "source": [
    "#scipy pdist requires label-encoded X values\n",
    "X=df_clust.copy()\n",
    "le = LabelEncoder()\n",
    "for x in X.columns:\n",
    "    X[x]=le.fit_transform(X[x])"
   ]
  },
  {
   "cell_type": "code",
   "execution_count": 288,
   "metadata": {
    "collapsed": false,
    "nbpresent": {
     "id": "1f5d2008-147b-47bc-ba6a-a38838f3d6db"
    }
   },
   "outputs": [],
   "source": [
    "#Basic Dissimilarity measure function, modeled on k-modes\n",
    "\n",
    "def diss(row1, row2):\n",
    "    diss=0\n",
    "    for i1,i2 in zip(row1, row2):\n",
    "        if i1!=i2:\n",
    "            diss+=1\n",
    "        else:\n",
    "            pass\n",
    "    return diss \n",
    "    \n",
    "my_metric = pdist(X, (lambda u,v: diss(u,v)))"
   ]
  },
  {
   "cell_type": "markdown",
   "metadata": {
    "nbpresent": {
     "id": "fbcd6f53-7488-4a8d-bf08-504b980198fd"
    }
   },
   "source": [
    "---------------"
   ]
  },
  {
   "cell_type": "code",
   "execution_count": 289,
   "metadata": {
    "collapsed": true,
    "nbpresent": {
     "id": "a6fa5f13-1d94-45ee-9faa-69aefc5865df"
    }
   },
   "outputs": [],
   "source": [
    "Z = linkage(my_metric,'complete') \n",
    "#works with single linkage as well,\n",
    "#but not with 'average linkage'"
   ]
  },
  {
   "cell_type": "code",
   "execution_count": 290,
   "metadata": {
    "collapsed": false,
    "nbpresent": {
     "id": "e21db138-cd21-4118-bc09-10a574409b6d"
    }
   },
   "outputs": [
    {
     "data": {
      "text/plain": [
       "0.77833885098270117"
      ]
     },
     "execution_count": 290,
     "metadata": {},
     "output_type": "execute_result"
    }
   ],
   "source": [
    "c, coph_dists = cophenet(Z, my_metric)\n",
    "c"
   ]
  },
  {
   "cell_type": "markdown",
   "metadata": {
    "nbpresent": {
     "id": "64309f2d-c25a-4d5f-9d8e-ea555d607ff0"
    }
   },
   "source": [
    "__What clusters do we have?__\n",
    "\n",
    "Hierarchical clustering leaves the final choice of clusters to the researcher, so exploration is as per interest.\n",
    "At a relatively low level of dissimilarity (1, the maximum being 4), I identified 18 clusters with non-homogenous sizes. Their number is quite apprehensible, so they are worth looking into."
   ]
  },
  {
   "cell_type": "code",
   "execution_count": 292,
   "metadata": {
    "collapsed": false,
    "nbpresent": {
     "id": "a6a9ee91-1e7d-4196-bd63-6daa1b5c6b04"
    }
   },
   "outputs": [],
   "source": [
    "max_dist = 1.0 #gives groups with 1 difference (so 2 variables in common)\n",
    "clusters = fcluster(Z, max_dist, criterion='distance') \n"
   ]
  },
  {
   "cell_type": "code",
   "execution_count": 293,
   "metadata": {
    "collapsed": false,
    "nbpresent": {
     "id": "90be5b8c-f64c-4b78-b7da-fc037e732af7"
    }
   },
   "outputs": [],
   "source": [
    "df_hier_clust=df_clust.copy()\n",
    "df_hier_clust[\"clusters_max_dist_1\"]=clusters\n",
    "#then would get count for each of the clusters with value_counts() & inspect\n",
    "#clusters with a chosen minimum count of samples"
   ]
  },
  {
   "cell_type": "code",
   "execution_count": 319,
   "metadata": {
    "collapsed": false,
    "nbpresent": {
     "id": "7f2a94ce-e472-4b12-9565-4e2141d18f11"
    }
   },
   "outputs": [
    {
     "name": "stdout",
     "output_type": "stream",
     "text": [
      "we have 18 clusters with a dissimilarity of 1 only.\n"
     ]
    }
   ],
   "source": [
    "print \"we have {} clusters with a dissimilarity of 1 only.\".format(df_hier_clust[\"clusters_max_dist_1\"].nunique())"
   ]
  },
  {
   "cell_type": "markdown",
   "metadata": {},
   "source": [
    "I only retain clusters making a large proportion of the total dataset (keeping in mind that proportions in our dataset are of more insterest than they would have been for a mere sample). "
   ]
  },
  {
   "cell_type": "code",
   "execution_count": 295,
   "metadata": {
    "collapsed": false,
    "nbpresent": {
     "id": "9cd0759d-aaa7-468b-9f30-89ee8d48c722"
    }
   },
   "outputs": [
    {
     "data": {
      "text/plain": [
       "11    0.458422\n",
       "12    0.201493\n",
       "17    0.146055\n",
       "8     0.048507\n",
       "7     0.031450\n",
       "10    0.028785\n",
       "16    0.022921\n",
       "2     0.010128\n",
       "9     0.008529\n",
       "4     0.008529\n",
       "Name: clusters_max_dist_1, dtype: float64"
      ]
     },
     "execution_count": 295,
     "metadata": {},
     "output_type": "execute_result"
    }
   ],
   "source": [
    "df_hier_clust[\"clusters_max_dist_1\"].value_counts(normalize=True).head(10)"
   ]
  },
  {
   "cell_type": "code",
   "execution_count": 296,
   "metadata": {
    "collapsed": false,
    "nbpresent": {
     "id": "85937f8b-5470-4323-8059-ca5dd164dbd9"
    }
   },
   "outputs": [],
   "source": [
    "groups=pd.groupby(df_hier_clust, by=\"clusters_max_dist_1\")\n"
   ]
  },
  {
   "cell_type": "markdown",
   "metadata": {},
   "source": [
    "Here are these notable groups:"
   ]
  },
  {
   "cell_type": "code",
   "execution_count": 297,
   "metadata": {
    "collapsed": false,
    "nbpresent": {
     "id": "9035022e-3986-4b17-b421-ff429d533c60"
    }
   },
   "outputs": [
    {
     "name": "stdout",
     "output_type": "stream",
     "text": [
      "cluster 11\n",
      "               flee threat_level weapon_groups\n",
      "count           860          860           860\n",
      "unique            1            1             9\n",
      "top     Not fleeing       attack           gun\n",
      "freq            860          860           629 \n",
      "\n",
      "cluster 12\n",
      "               flee threat_level weapon_groups\n",
      "count           378          378           378\n",
      "unique            1            1             9\n",
      "top     Not fleeing        other         knife\n",
      "freq            378          378           159 \n",
      "\n",
      "cluster 17\n",
      "       flee threat_level weapon_groups\n",
      "count   270          274           274\n",
      "unique    3            1             1\n",
      "top     Car       attack           gun\n",
      "freq    122          274           274 \n",
      "\n"
     ]
    }
   ],
   "source": [
    "for cluster in df_hier_clust[\"clusters_max_dist_1\"].value_counts().head(3).index:\n",
    "    print \"cluster {}\".format(cluster)\n",
    "    print groups.get_group(cluster).drop(\"clusters_max_dist_1\", axis=1).describe(), \"\\n\""
   ]
  },
  {
   "cell_type": "markdown",
   "metadata": {},
   "source": [
    "- 1) The first group (labelled cluster 11 above) is comprised of cases where no chase was involved at any point and the shot people evidenced the highest level of threat \"attack\". It makes at least 40% of the dataset. Within this cluster 73% had guns, 10% had knifes.\n",
    "\n",
    "- 2) The second group (labelled cluster 12 above) is comprised of cases where no chase was involved at any point and the shot people did not evidence the highest level of threat. It makes at least 20% of the dataset. Within this cluster 42% had knifes, 19% guns, 11% other non-blunt weapons, 9% were unarmed.\n",
    "\n",
    "- 3) The third group (labelled cluster 17 above) is comprised of cases where the shot people did evidence the highest level of threat, and all had guns. It makes at least 14% of the dataset. Within this cluster, an equal proportion of 45% were trying to flee by car or foot, and the rest of the cases have missing values with respect to that aspect (10%). There is no case in this cluster where it has been confirmed the person did not try to flee from police at any point."
   ]
  },
  {
   "cell_type": "markdown",
   "metadata": {
    "nbpresent": {
     "id": "68ff18e0-832b-4380-9482-4615690f5fd1"
    }
   },
   "source": [
    "Further steps missing: "
   ]
  },
  {
   "cell_type": "markdown",
   "metadata": {
    "nbpresent": {
     "id": "f45d1efc-5ef3-4c33-a675-bbf52e713d3f"
    }
   },
   "source": [
    "- State distribution of groups: showing these clusters on a map with the American states"
   ]
  },
  {
   "cell_type": "markdown",
   "metadata": {
    "nbpresent": {
     "id": "e55033aa-7aac-4575-9484-68890fd10a51"
    }
   },
   "source": [
    "#### Discussion"
   ]
  },
  {
   "cell_type": "markdown",
   "metadata": {},
   "source": [
    "Together, these groups make at least 74% of the whole Washington Post dataset of shot people. Their uniformity would make them worth further looking into as they could inform on the nature of cases where police shoot to kill (armed robberies? car stops? etc.). I plan to do that to complete this project, but as far as this report for marking is concerned, I have not done it."
   ]
  },
  {
   "cell_type": "markdown",
   "metadata": {
    "nbpresent": {
     "id": "311afd61-1ce6-4207-93a5-31eed4e3d862"
    }
   },
   "source": [
    "__*A more representative dissimilarity metric?*__"
   ]
  },
  {
   "cell_type": "markdown",
   "metadata": {
    "nbpresent": {
     "id": "4f00f0b8-b0f1-4958-b77f-9c7d0aa06e9b"
    }
   },
   "source": [
    "I thought of modifying the dissimilarity measure to account for category frequency for an attribute (the more frequent a category, the more important the dissimilarity implied by a mismatch). \n",
    "\n",
    "However, the basic form I have used is objective, whereas using category frequency gives intra-dataset similarity only (e.g. two cases with \"race\" == White need not be less similar than two cases with \"race\" == Black). If one where to develop this work, they could use data on demographics of those groups."
   ]
  },
  {
   "cell_type": "markdown",
   "metadata": {
    "nbpresent": {
     "id": "6a2842cc-2a3a-4203-8533-9d2e024d366b"
    }
   },
   "source": [
    "### III) Supervised part: Are higher relative numbers of killings mostly correlated to the levels of violent crime?"
   ]
  },
  {
   "cell_type": "markdown",
   "metadata": {
    "nbpresent": {
     "id": "7e24db87-32d8-48c0-b0ea-e3ce86275571"
    }
   },
   "source": [
    "As indicated, this part of my analysis is in mere support of the overall exploratory goal I have (\"What is happening\"). This is not to predict shootings, but to see how crime levels explain them. \n",
    "\n",
    "Taking into account my interests (both proving correlation and proving absence of correlation are good results), failing to reject the null hypothesis would not at this stage imply a failure, but suggest that police propensity to kill involve more complex factors worth exploring.\n",
    "\n",
    "---"
   ]
  },
  {
   "cell_type": "markdown",
   "metadata": {},
   "source": [
    "It would have featured a comparison between the trends in the police shootings from year to year against those in crime levels (\"does a lesser number of deaths in 2016 mean an improvement?\"), but a lack of common matching timeframes meant that it is not possible.\n",
    "\n",
    "Therefore, I instead correlate levels of crime and police shootings to examine the general idea that law enforcement killings are strictly as need comes. The only year for which data for these two variables intersect is 2015. The Uniform Crime Reporting from the FBI provides among other things the raw data reported by town and city law enforcement agencies, which is the data source I used.\n",
    "\n",
    "Although I originally designed the study as looking both at the per city counts and the per state counts, obtaining usable per city data showed many complications (I have raw reported data from PARTICIPATING city and town agencies, only those submitting 12 months of complete offense data for the year were included, and connecting agencies to cities (they can have more than one, the name is not always informative...) is not straightforward with the given information). I therefore restricted my study to per state crime levels in 2015. I did so by aggregating the raw data for reporting agencies by state."
   ]
  },
  {
   "cell_type": "code",
   "execution_count": 23,
   "metadata": {
    "collapsed": false,
    "nbpresent": {
     "id": "dbd49cf4-2b97-4b1e-bd81-8a4b8c1b64e6"
    }
   },
   "outputs": [],
   "source": [
    "state_counts=sql.read_sql(\"\"\"\n",
    "\n",
    "SELECT \n",
    "  * \n",
    "FROM\n",
    "(\n",
    " SELECT \n",
    "   COUNT(wp_json2015.*), \n",
    "   \"full_state\" \n",
    " FROM wp_json2015 \n",
    "              \n",
    " GROUP BY \"full_state\"\n",
    "                      ) AS Shootings_Count,\n",
    "(\n",
    "   SELECT \n",
    "     \"State\", \n",
    "     SUM(crime_by_loc.\"Population\") AS Population_for_agencies, \n",
    "     SUM(crime_by_loc.\"Violent crime\") AS violent_crime, \n",
    "     SUM(crime_by_loc.\"Murder and nonnegligent manslaughter\") AS murder, \n",
    "     SUM(crime_by_loc.\"Rape - revised def\") AS rape_r, \n",
    "     SUM(crime_by_loc.\"Rape - legacy def\") AS rape_l, \n",
    "     SUM(crime_by_loc.\"Robbery\") AS robbery, \n",
    "     SUM(crime_by_loc.\"Aggravated assault\") AS agg_assault \n",
    "   FROM crime_by_loc \n",
    "   GROUP BY \"State\"\n",
    "                   ) AS Aggreg_Crime\n",
    "\n",
    "WHERE UPPER(Shootings_Count.\"full_state\") = Aggreg_Crime.\"State\";\"\"\", engine)"
   ]
  },
  {
   "cell_type": "code",
   "execution_count": 24,
   "metadata": {
    "collapsed": false,
    "nbpresent": {
     "id": "cccde506-b865-4c46-a055-40e68da3e9ea"
    }
   },
   "outputs": [
    {
     "data": {
      "text/html": [
       "<div>\n",
       "<table border=\"1\" class=\"dataframe\">\n",
       "  <thead>\n",
       "    <tr style=\"text-align: right;\">\n",
       "      <th></th>\n",
       "      <th>count</th>\n",
       "      <th>full_state</th>\n",
       "      <th>State</th>\n",
       "      <th>population_for_agencies</th>\n",
       "      <th>violent_crime</th>\n",
       "      <th>murder</th>\n",
       "      <th>rape_r</th>\n",
       "      <th>rape_l</th>\n",
       "      <th>robbery</th>\n",
       "      <th>agg_assault</th>\n",
       "    </tr>\n",
       "  </thead>\n",
       "  <tbody>\n",
       "    <tr>\n",
       "      <th>0</th>\n",
       "      <td>5</td>\n",
       "      <td>Arkansas</td>\n",
       "      <td>ARKANSAS</td>\n",
       "      <td>1634199.0</td>\n",
       "      <td>11008.0</td>\n",
       "      <td>129.0</td>\n",
       "      <td>1170.0</td>\n",
       "      <td>NaN</td>\n",
       "      <td>1821.0</td>\n",
       "      <td>7888.0</td>\n",
       "    </tr>\n",
       "    <tr>\n",
       "      <th>1</th>\n",
       "      <td>42</td>\n",
       "      <td>Arizona</td>\n",
       "      <td>ARIZONA</td>\n",
       "      <td>5240098.0</td>\n",
       "      <td>21411.0</td>\n",
       "      <td>232.0</td>\n",
       "      <td>2448.0</td>\n",
       "      <td>NaN</td>\n",
       "      <td>5881.0</td>\n",
       "      <td>12850.0</td>\n",
       "    </tr>\n",
       "    <tr>\n",
       "      <th>2</th>\n",
       "      <td>29</td>\n",
       "      <td>Colorado</td>\n",
       "      <td>COLORADO</td>\n",
       "      <td>3713360.0</td>\n",
       "      <td>14374.0</td>\n",
       "      <td>147.0</td>\n",
       "      <td>2485.0</td>\n",
       "      <td>NaN</td>\n",
       "      <td>3080.0</td>\n",
       "      <td>8685.0</td>\n",
       "    </tr>\n",
       "    <tr>\n",
       "      <th>3</th>\n",
       "      <td>9</td>\n",
       "      <td>Kansas</td>\n",
       "      <td>KANSAS</td>\n",
       "      <td>1953215.0</td>\n",
       "      <td>9218.0</td>\n",
       "      <td>101.0</td>\n",
       "      <td>1341.0</td>\n",
       "      <td>NaN</td>\n",
       "      <td>1618.0</td>\n",
       "      <td>6158.0</td>\n",
       "    </tr>\n",
       "    <tr>\n",
       "      <th>4</th>\n",
       "      <td>19</td>\n",
       "      <td>Nevada</td>\n",
       "      <td>NEVADA</td>\n",
       "      <td>2496499.0</td>\n",
       "      <td>19013.0</td>\n",
       "      <td>164.0</td>\n",
       "      <td>1547.0</td>\n",
       "      <td>NaN</td>\n",
       "      <td>6187.0</td>\n",
       "      <td>11115.0</td>\n",
       "    </tr>\n",
       "  </tbody>\n",
       "</table>\n",
       "</div>"
      ],
      "text/plain": [
       "   count full_state     State  population_for_agencies  violent_crime  murder  \\\n",
       "0      5   Arkansas  ARKANSAS                1634199.0        11008.0   129.0   \n",
       "1     42    Arizona   ARIZONA                5240098.0        21411.0   232.0   \n",
       "2     29   Colorado  COLORADO                3713360.0        14374.0   147.0   \n",
       "3      9     Kansas    KANSAS                1953215.0         9218.0   101.0   \n",
       "4     19     Nevada    NEVADA                2496499.0        19013.0   164.0   \n",
       "\n",
       "   rape_r  rape_l  robbery  agg_assault  \n",
       "0  1170.0     NaN   1821.0       7888.0  \n",
       "1  2448.0     NaN   5881.0      12850.0  \n",
       "2  2485.0     NaN   3080.0       8685.0  \n",
       "3  1341.0     NaN   1618.0       6158.0  \n",
       "4  1547.0     NaN   6187.0      11115.0  "
      ]
     },
     "execution_count": 24,
     "metadata": {},
     "output_type": "execute_result"
    }
   ],
   "source": [
    "state_counts.head()"
   ]
  },
  {
   "cell_type": "markdown",
   "metadata": {
    "nbpresent": {
     "id": "d01729f1-b07f-4eff-82be-5609373fbea6"
    }
   },
   "source": [
    "The population count reported in this data is only for the cities of the state that were reported to the FBI and then included. My working assumption was that the rate of crime to total represented population (\"population_for_agencies\") was the same as the rate to total state population."
   ]
  },
  {
   "cell_type": "code",
   "execution_count": 28,
   "metadata": {
    "collapsed": true,
    "nbpresent": {
     "id": "db49f412-495c-4329-88c9-8df763f6482a"
    }
   },
   "outputs": [],
   "source": [
    "real_pop=pd.read_csv(\"Population_by_state.csv\", header=None, names=[\"State\", \"Population\"])\n",
    "real_pop.State=real_pop.State.apply(lambda x: x.replace(\"\\xc2\\xa0\",\"\")) #to deal with unicode before merge"
   ]
  },
  {
   "cell_type": "code",
   "execution_count": 29,
   "metadata": {
    "collapsed": false,
    "nbpresent": {
     "id": "24fec448-995f-4640-8a8b-afa524ae8d8f"
    }
   },
   "outputs": [],
   "source": [
    "merged_table=pd.merge(state_counts, real_pop, how='inner', left_on=\"full_state\", right_on=\"State\")"
   ]
  },
  {
   "cell_type": "code",
   "execution_count": 30,
   "metadata": {
    "collapsed": false,
    "nbpresent": {
     "id": "cd8644e7-2ba4-4a23-ab18-e42e09aead47"
    }
   },
   "outputs": [
    {
     "data": {
      "text/html": [
       "<div>\n",
       "<table border=\"1\" class=\"dataframe\">\n",
       "  <thead>\n",
       "    <tr style=\"text-align: right;\">\n",
       "      <th></th>\n",
       "      <th>count</th>\n",
       "      <th>full_state</th>\n",
       "      <th>State_x</th>\n",
       "      <th>population_for_agencies</th>\n",
       "      <th>violent_crime</th>\n",
       "      <th>murder</th>\n",
       "      <th>rape_r</th>\n",
       "      <th>rape_l</th>\n",
       "      <th>robbery</th>\n",
       "      <th>agg_assault</th>\n",
       "      <th>State_y</th>\n",
       "      <th>Population</th>\n",
       "    </tr>\n",
       "  </thead>\n",
       "  <tbody>\n",
       "    <tr>\n",
       "      <th>0</th>\n",
       "      <td>5</td>\n",
       "      <td>Arkansas</td>\n",
       "      <td>ARKANSAS</td>\n",
       "      <td>1634199.0</td>\n",
       "      <td>11008.0</td>\n",
       "      <td>129.0</td>\n",
       "      <td>1170.0</td>\n",
       "      <td>NaN</td>\n",
       "      <td>1821.0</td>\n",
       "      <td>7888.0</td>\n",
       "      <td>Arkansas</td>\n",
       "      <td>2915918</td>\n",
       "    </tr>\n",
       "    <tr>\n",
       "      <th>1</th>\n",
       "      <td>42</td>\n",
       "      <td>Arizona</td>\n",
       "      <td>ARIZONA</td>\n",
       "      <td>5240098.0</td>\n",
       "      <td>21411.0</td>\n",
       "      <td>232.0</td>\n",
       "      <td>2448.0</td>\n",
       "      <td>NaN</td>\n",
       "      <td>5881.0</td>\n",
       "      <td>12850.0</td>\n",
       "      <td>Arizona</td>\n",
       "      <td>6392017</td>\n",
       "    </tr>\n",
       "    <tr>\n",
       "      <th>2</th>\n",
       "      <td>29</td>\n",
       "      <td>Colorado</td>\n",
       "      <td>COLORADO</td>\n",
       "      <td>3713360.0</td>\n",
       "      <td>14374.0</td>\n",
       "      <td>147.0</td>\n",
       "      <td>2485.0</td>\n",
       "      <td>NaN</td>\n",
       "      <td>3080.0</td>\n",
       "      <td>8685.0</td>\n",
       "      <td>Colorado</td>\n",
       "      <td>5029196</td>\n",
       "    </tr>\n",
       "    <tr>\n",
       "      <th>3</th>\n",
       "      <td>9</td>\n",
       "      <td>Kansas</td>\n",
       "      <td>KANSAS</td>\n",
       "      <td>1953215.0</td>\n",
       "      <td>9218.0</td>\n",
       "      <td>101.0</td>\n",
       "      <td>1341.0</td>\n",
       "      <td>NaN</td>\n",
       "      <td>1618.0</td>\n",
       "      <td>6158.0</td>\n",
       "      <td>Kansas</td>\n",
       "      <td>2853118</td>\n",
       "    </tr>\n",
       "    <tr>\n",
       "      <th>4</th>\n",
       "      <td>19</td>\n",
       "      <td>Nevada</td>\n",
       "      <td>NEVADA</td>\n",
       "      <td>2496499.0</td>\n",
       "      <td>19013.0</td>\n",
       "      <td>164.0</td>\n",
       "      <td>1547.0</td>\n",
       "      <td>NaN</td>\n",
       "      <td>6187.0</td>\n",
       "      <td>11115.0</td>\n",
       "      <td>Nevada</td>\n",
       "      <td>2700551</td>\n",
       "    </tr>\n",
       "  </tbody>\n",
       "</table>\n",
       "</div>"
      ],
      "text/plain": [
       "   count full_state   State_x  population_for_agencies  violent_crime  murder  \\\n",
       "0      5   Arkansas  ARKANSAS                1634199.0        11008.0   129.0   \n",
       "1     42    Arizona   ARIZONA                5240098.0        21411.0   232.0   \n",
       "2     29   Colorado  COLORADO                3713360.0        14374.0   147.0   \n",
       "3      9     Kansas    KANSAS                1953215.0         9218.0   101.0   \n",
       "4     19     Nevada    NEVADA                2496499.0        19013.0   164.0   \n",
       "\n",
       "   rape_r  rape_l  robbery  agg_assault   State_y  Population  \n",
       "0  1170.0     NaN   1821.0       7888.0  Arkansas     2915918  \n",
       "1  2448.0     NaN   5881.0      12850.0   Arizona     6392017  \n",
       "2  2485.0     NaN   3080.0       8685.0  Colorado     5029196  \n",
       "3  1341.0     NaN   1618.0       6158.0    Kansas     2853118  \n",
       "4  1547.0     NaN   6187.0      11115.0    Nevada     2700551  "
      ]
     },
     "execution_count": 30,
     "metadata": {},
     "output_type": "execute_result"
    }
   ],
   "source": [
    "merged_table.head()"
   ]
  },
  {
   "cell_type": "code",
   "execution_count": 31,
   "metadata": {
    "collapsed": false,
    "nbpresent": {
     "id": "f547bc22-c820-41be-b816-7980f13bc047"
    }
   },
   "outputs": [],
   "source": [
    "merged_table = merged_table.drop([\"State_x\",\"State_y\"], axis=1)\n",
    "merged_table = merged_table.set_index(\"full_state\", drop=True)\n",
    "merged_table.fillna(value=0, inplace=True)\n",
    "\n",
    "merged_table[\"rape\"] = merged_table[\"rape_r\"] + merged_table[\"rape_l\"]\n",
    "merged_table = merged_table.drop([\"rape_r\", \"rape_l\"], axis=1)"
   ]
  },
  {
   "cell_type": "code",
   "execution_count": 32,
   "metadata": {
    "collapsed": false,
    "nbpresent": {
     "id": "7ffeb5e9-c828-44be-9985-7bf05d8c9554"
    }
   },
   "outputs": [],
   "source": [
    "for column in [\"count\",\"Population\"]:\n",
    "    merged_table[column]=merged_table[column].astype(float,copy=False)"
   ]
  },
  {
   "cell_type": "markdown",
   "metadata": {
    "nbpresent": {
     "id": "089ee297-7a4f-42b7-81a0-dde680d4e1df"
    }
   },
   "source": [
    "__Standardising Police Shootings__"
   ]
  },
  {
   "cell_type": "markdown",
   "metadata": {
    "nbpresent": {
     "id": "b0419fb0-33ab-407d-8981-4a2c8788c478"
    }
   },
   "source": [
    "- count / Population\n",
    "- violent_crime / population_for_agencies"
   ]
  },
  {
   "cell_type": "code",
   "execution_count": 33,
   "metadata": {
    "collapsed": false,
    "nbpresent": {
     "id": "a4988c15-57fb-445d-b7fb-6a2ad054a900"
    }
   },
   "outputs": [],
   "source": [
    "standardised_merged_table = merged_table.copy()"
   ]
  },
  {
   "cell_type": "code",
   "execution_count": 34,
   "metadata": {
    "collapsed": true,
    "nbpresent": {
     "id": "5d29fb6a-7470-4f9e-b168-b4e879cc7130"
    }
   },
   "outputs": [],
   "source": [
    "standardised_merged_table[\"police_shootings\"] = standardised_merged_table[\"count\"] / standardised_merged_table[\"Population\"]"
   ]
  },
  {
   "cell_type": "code",
   "execution_count": 35,
   "metadata": {
    "collapsed": false,
    "nbpresent": {
     "id": "d3d9477f-f8c7-418a-abb5-1fcdbb4e735b"
    }
   },
   "outputs": [],
   "source": [
    "for column in [\"violent_crime\",\"murder\",\"robbery\",\"agg_assault\",\"rape\"]:\n",
    "    standardised_merged_table[column]=standardised_merged_table[column]/standardised_merged_table[\"population_for_agencies\"]"
   ]
  },
  {
   "cell_type": "code",
   "execution_count": 36,
   "metadata": {
    "collapsed": false,
    "nbpresent": {
     "id": "da60b834-9d8e-45c2-ba0b-ebdb96c7de2d"
    }
   },
   "outputs": [],
   "source": [
    "standardised_merged_table=standardised_merged_table.drop([\"count\", \"population_for_agencies\", \"Population\"], axis=1)"
   ]
  },
  {
   "cell_type": "code",
   "execution_count": null,
   "metadata": {
    "collapsed": true,
    "nbpresent": {
     "id": "676201ad-1a13-45a8-ad41-3685618049b7"
    }
   },
   "outputs": [],
   "source": []
  },
  {
   "cell_type": "code",
   "execution_count": 37,
   "metadata": {
    "collapsed": false,
    "nbpresent": {
     "id": "f9c1a5db-bcb3-4f6a-b3c1-d3283465281b"
    }
   },
   "outputs": [
    {
     "data": {
      "text/html": [
       "<div>\n",
       "<table border=\"1\" class=\"dataframe\">\n",
       "  <thead>\n",
       "    <tr style=\"text-align: right;\">\n",
       "      <th></th>\n",
       "      <th>violent_crime</th>\n",
       "      <th>murder</th>\n",
       "      <th>robbery</th>\n",
       "      <th>agg_assault</th>\n",
       "      <th>rape</th>\n",
       "      <th>police_shootings</th>\n",
       "    </tr>\n",
       "    <tr>\n",
       "      <th>full_state</th>\n",
       "      <th></th>\n",
       "      <th></th>\n",
       "      <th></th>\n",
       "      <th></th>\n",
       "      <th></th>\n",
       "      <th></th>\n",
       "    </tr>\n",
       "  </thead>\n",
       "  <tbody>\n",
       "    <tr>\n",
       "      <th>Arkansas</th>\n",
       "      <td>0.006736</td>\n",
       "      <td>0.000079</td>\n",
       "      <td>0.001114</td>\n",
       "      <td>0.004827</td>\n",
       "      <td>0.000716</td>\n",
       "      <td>0.000002</td>\n",
       "    </tr>\n",
       "    <tr>\n",
       "      <th>Arizona</th>\n",
       "      <td>0.004086</td>\n",
       "      <td>0.000044</td>\n",
       "      <td>0.001122</td>\n",
       "      <td>0.002452</td>\n",
       "      <td>0.000467</td>\n",
       "      <td>0.000007</td>\n",
       "    </tr>\n",
       "    <tr>\n",
       "      <th>Colorado</th>\n",
       "      <td>0.003871</td>\n",
       "      <td>0.000040</td>\n",
       "      <td>0.000829</td>\n",
       "      <td>0.002339</td>\n",
       "      <td>0.000669</td>\n",
       "      <td>0.000006</td>\n",
       "    </tr>\n",
       "    <tr>\n",
       "      <th>Kansas</th>\n",
       "      <td>0.004719</td>\n",
       "      <td>0.000052</td>\n",
       "      <td>0.000828</td>\n",
       "      <td>0.003153</td>\n",
       "      <td>0.000687</td>\n",
       "      <td>0.000003</td>\n",
       "    </tr>\n",
       "    <tr>\n",
       "      <th>Nevada</th>\n",
       "      <td>0.007616</td>\n",
       "      <td>0.000066</td>\n",
       "      <td>0.002478</td>\n",
       "      <td>0.004452</td>\n",
       "      <td>0.000620</td>\n",
       "      <td>0.000007</td>\n",
       "    </tr>\n",
       "  </tbody>\n",
       "</table>\n",
       "</div>"
      ],
      "text/plain": [
       "            violent_crime    murder   robbery  agg_assault      rape  \\\n",
       "full_state                                                             \n",
       "Arkansas         0.006736  0.000079  0.001114     0.004827  0.000716   \n",
       "Arizona          0.004086  0.000044  0.001122     0.002452  0.000467   \n",
       "Colorado         0.003871  0.000040  0.000829     0.002339  0.000669   \n",
       "Kansas           0.004719  0.000052  0.000828     0.003153  0.000687   \n",
       "Nevada           0.007616  0.000066  0.002478     0.004452  0.000620   \n",
       "\n",
       "            police_shootings  \n",
       "full_state                    \n",
       "Arkansas            0.000002  \n",
       "Arizona             0.000007  \n",
       "Colorado            0.000006  \n",
       "Kansas              0.000003  \n",
       "Nevada              0.000007  "
      ]
     },
     "execution_count": 37,
     "metadata": {},
     "output_type": "execute_result"
    }
   ],
   "source": [
    "standardised_merged_table.head()"
   ]
  },
  {
   "cell_type": "markdown",
   "metadata": {},
   "source": [
    "__Distribution of variables__"
   ]
  },
  {
   "cell_type": "code",
   "execution_count": 333,
   "metadata": {
    "collapsed": false
   },
   "outputs": [
    {
     "data": {
      "text/plain": [
       "<matplotlib.axes._subplots.AxesSubplot at 0x1254bd990>"
      ]
     },
     "execution_count": 333,
     "metadata": {},
     "output_type": "execute_result"
    },
    {
     "data": {
      "image/png": "[encoded data removed]",
      "text/plain": [
       "<matplotlib.figure.Figure at 0x104461150>"
      ]
     },
     "metadata": {},
     "output_type": "display_data"
    }
   ],
   "source": [
    "standardised_merged_table[\"violent_crime\"].plot.hist()"
   ]
  },
  {
   "cell_type": "code",
   "execution_count": 335,
   "metadata": {
    "collapsed": false
   },
   "outputs": [
    {
     "data": {
      "text/plain": [
       "<matplotlib.axes._subplots.AxesSubplot at 0x125b4e550>"
      ]
     },
     "execution_count": 335,
     "metadata": {},
     "output_type": "execute_result"
    },
    {
     "data": {
      "image/png": "[encoded data removed]",
      "text/plain": [
       "<matplotlib.figure.Figure at 0x122622810>"
      ]
     },
     "metadata": {},
     "output_type": "display_data"
    }
   ],
   "source": [
    "standardised_merged_table[\"police_shootings\"].plot.hist()"
   ]
  },
  {
   "cell_type": "markdown",
   "metadata": {},
   "source": [
    "Both variables have right-skewed non-normal distribution."
   ]
  },
  {
   "cell_type": "markdown",
   "metadata": {
    "nbpresent": {
     "id": "d8262758-dd1c-4ff5-9858-17678e31a007"
    }
   },
   "source": [
    "__Scatter plot with total violence explaining police shootings__"
   ]
  },
  {
   "cell_type": "code",
   "execution_count": 321,
   "metadata": {
    "collapsed": false,
    "nbpresent": {
     "id": "2e8cb85c-50e6-45c1-bc97-8c89a87d1b9f"
    }
   },
   "outputs": [
    {
     "data": {
      "image/png": "[encoded data removed]",
      "text/plain": [
       "<matplotlib.figure.Figure at 0x122605b50>"
      ]
     },
     "metadata": {},
     "output_type": "display_data"
    }
   ],
   "source": [
    "plt.scatter(standardised_merged_table[\"violent_crime\"], standardised_merged_table[\"police_shootings\"])\n",
    "\n",
    "plt.xlim((min(standardised_merged_table[\"violent_crime\"])-np.std(standardised_merged_table[\"violent_crime\"])), \n",
    "         (max(standardised_merged_table[\"violent_crime\"])+np.std(standardised_merged_table[\"violent_crime\"])))\n",
    "plt.ylim((min(standardised_merged_table[\"police_shootings\"])-np.std(standardised_merged_table[\"police_shootings\"])), \n",
    "         (max(standardised_merged_table[\"police_shootings\"])+np.std(standardised_merged_table[\"police_shootings\"])))\n",
    "plt.xlabel(\"Violent crime rate\")\n",
    "plt.ylabel(\"Police shootings rate\")\n",
    "\n",
    "plt.show()"
   ]
  },
  {
   "cell_type": "markdown",
   "metadata": {
    "nbpresent": {
     "id": "747082c9-7bed-4ece-98ef-8b0a124fb796"
    }
   },
   "source": [
    "__Statistical Correlation__"
   ]
  },
  {
   "cell_type": "markdown",
   "metadata": {},
   "source": [
    "The Pearsons coefficient has an assumption of normality, which is not the case for police shooting rates and violent crime rates as we have seen when looking at their distributions. I use the _Spearman rank-order correlation coefficient_."
   ]
  },
  {
   "cell_type": "code",
   "execution_count": 337,
   "metadata": {
    "collapsed": true
   },
   "outputs": [],
   "source": [
    "from scipy.stats import spearmanr, pearsonr"
   ]
  },
  {
   "cell_type": "code",
   "execution_count": 332,
   "metadata": {
    "collapsed": false
   },
   "outputs": [
    {
     "data": {
      "text/plain": [
       "SpearmanrResult(correlation=0.37546218487394956, pvalue=0.0072129581824911526)"
      ]
     },
     "execution_count": 332,
     "metadata": {},
     "output_type": "execute_result"
    }
   ],
   "source": [
    "spearmanr(standardised_merged_table.police_shootings,standardised_merged_table.violent_crime)"
   ]
  },
  {
   "cell_type": "markdown",
   "metadata": {},
   "source": [
    "We can see a non-negligeable correlation."
   ]
  },
  {
   "cell_type": "markdown",
   "metadata": {},
   "source": [
    "__Models__"
   ]
  },
  {
   "cell_type": "code",
   "execution_count": 202,
   "metadata": {
    "collapsed": true,
    "nbpresent": {
     "id": "3d3a7d20-232b-4350-a677-958808acd5e5"
    }
   },
   "outputs": [],
   "source": [
    "from sklearn.decomposition import PCA\n",
    "from sklearn.linear_model import LinearRegression\n",
    "from sklearn.model_selection import cross_val_score"
   ]
  },
  {
   "cell_type": "code",
   "execution_count": 203,
   "metadata": {
    "collapsed": true,
    "nbpresent": {
     "id": "99a4cd1f-7504-4987-a8e2-74c703c3d35b"
    }
   },
   "outputs": [],
   "source": [
    "from sklearn.preprocessing import StandardScaler"
   ]
  },
  {
   "cell_type": "code",
   "execution_count": 204,
   "metadata": {
    "collapsed": false,
    "nbpresent": {
     "id": "8ec05b0e-487f-43be-8e77-f8201114cdf7"
    }
   },
   "outputs": [],
   "source": [
    "Xsc = StandardScaler().fit_transform(standardised_merged_table.drop([\"violent_crime\",\"police_shootings\"], axis=1))"
   ]
  },
  {
   "cell_type": "code",
   "execution_count": 323,
   "metadata": {
    "collapsed": false,
    "nbpresent": {
     "id": "8f4fb3d5-cc62-41dd-ad08-e9dd18b0cd10"
    }
   },
   "outputs": [
    {
     "data": {
      "image/png": "[encoded data removed]",
      "text/plain": [
       "<matplotlib.figure.Figure at 0x125d8ce90>"
      ]
     },
     "metadata": {},
     "output_type": "display_data"
    },
    {
     "name": "stdout",
     "output_type": "stream",
     "text": [
      "[ 0.66119775  0.91932973  0.97057376  1.        ]\n"
     ]
    }
   ],
   "source": [
    "pca = PCA(n_components=4)\n",
    "new_X = pca.fit_transform(Xsc)\n",
    "\n",
    "fig = plt.figure(figsize=(10,7))\n",
    "ax = fig.add_subplot(111)\n",
    "ax.plot(range(1, len(pca.explained_variance_ratio_)+1),pca.explained_variance_ratio_, label = 'Individual')\n",
    "ax.plot(range(1, len(pca.explained_variance_ratio_.cumsum())+1),pca.explained_variance_ratio_.cumsum(), label='Cumulative')\n",
    "\n",
    "ax.set(xlabel='number of components', ylabel='Variance explained')\n",
    "plt.legend(loc='center right')\n",
    "plt.show()\n",
    "print pca.explained_variance_ratio_.cumsum()"
   ]
  },
  {
   "cell_type": "markdown",
   "metadata": {},
   "source": [
    "I stuck to 2 components, that explained over 90% of the total variance."
   ]
  },
  {
   "cell_type": "markdown",
   "metadata": {
    "nbpresent": {
     "id": "a13a6aca-a89b-4e83-b52f-5b97345b182a"
    }
   },
   "source": [
    "__Results__"
   ]
  },
  {
   "cell_type": "markdown",
   "metadata": {
    "nbpresent": {
     "id": "485dc27d-b8bf-48d5-980b-ce49cfa18dda"
    }
   },
   "source": [
    "_With the total of violent crimes_"
   ]
  },
  {
   "cell_type": "code",
   "execution_count": 207,
   "metadata": {
    "collapsed": true,
    "nbpresent": {
     "id": "ea71427b-ec81-40a3-9cea-ee4f836c23d6"
    }
   },
   "outputs": [],
   "source": [
    "y=standardised_merged_table.police_shootings"
   ]
  },
  {
   "cell_type": "code",
   "execution_count": 210,
   "metadata": {
    "collapsed": false,
    "nbpresent": {
     "id": "370e2b2e-5db6-4afe-8b27-27c209d440aa"
    }
   },
   "outputs": [
    {
     "name": "stdout",
     "output_type": "stream",
     "text": [
      "[-0.03997454  0.17298661  0.01762065  0.07567779  0.05783132]\n",
      "0.056828365301\n"
     ]
    }
   ],
   "source": [
    "model=LinearRegression()\n",
    "\n",
    "print cross_val_score(model, standardised_merged_table.violent_crime.reshape(-1, 1), y, scoring=\"r2\", cv=5)\n",
    "print np.mean(cross_val_score(model, standardised_merged_table.violent_crime.reshape(-1, 1), y, scoring=\"r2\", cv=5))"
   ]
  },
  {
   "cell_type": "markdown",
   "metadata": {
    "nbpresent": {
     "id": "1e8b40d3-2d6d-4305-af45-70ed6365defe"
    }
   },
   "source": [
    "_With PCA components_"
   ]
  },
  {
   "cell_type": "code",
   "execution_count": 206,
   "metadata": {
    "collapsed": true,
    "nbpresent": {
     "id": "911545bb-73ec-42c4-8650-c7b4ab62703d"
    }
   },
   "outputs": [],
   "source": [
    "pca = PCA(n_components=2)\n",
    "new_X = pca.fit_transform(Xsc)"
   ]
  },
  {
   "cell_type": "code",
   "execution_count": 209,
   "metadata": {
    "collapsed": false,
    "nbpresent": {
     "id": "31a73fb5-9414-4219-a71a-c61154e0ece7"
    }
   },
   "outputs": [
    {
     "name": "stdout",
     "output_type": "stream",
     "text": [
      "[-0.02788727  0.34979848 -0.89099607  0.1296926   0.06345065]\n",
      "-0.0751883203335\n"
     ]
    }
   ],
   "source": [
    "print cross_val_score(model, new_X, y, scoring=\"r2\", cv=5)\n",
    "print np.mean(cross_val_score(model, new_X, y, scoring=\"r2\", cv=5))"
   ]
  },
  {
   "cell_type": "markdown",
   "metadata": {},
   "source": [
    "_With the total of murders_"
   ]
  },
  {
   "cell_type": "code",
   "execution_count": 212,
   "metadata": {
    "collapsed": false
   },
   "outputs": [
    {
     "name": "stdout",
     "output_type": "stream",
     "text": [
      "[-0.12422882  0.01596023 -0.10265634 -0.16344155  0.03776729]\n",
      "-0.0673198357043\n"
     ]
    }
   ],
   "source": [
    "print cross_val_score(model, standardised_merged_table[\"murder\"].reshape(-1, 1), y, scoring=\"r2\", cv=5)\n",
    "print np.mean(cross_val_score(model, standardised_merged_table[\"murder\"].reshape(-1, 1), y, scoring=\"r2\", cv=5))"
   ]
  },
  {
   "cell_type": "markdown",
   "metadata": {},
   "source": [
    "_With the total of aggravated assaults_"
   ]
  },
  {
   "cell_type": "code",
   "execution_count": 216,
   "metadata": {
    "collapsed": false
   },
   "outputs": [
    {
     "name": "stdout",
     "output_type": "stream",
     "text": [
      "[-0.13216845  0.20696463 -0.05609951  0.12487536  0.07069396]\n",
      "0.0428532003708\n"
     ]
    }
   ],
   "source": [
    "print cross_val_score(model, standardised_merged_table[\"agg_assault\"].reshape(-1, 1), y, scoring=\"r2\", cv=5)\n",
    "print np.mean(cross_val_score(model, standardised_merged_table[\"agg_assault\"].reshape(-1, 1), y, scoring=\"r2\", cv=5))"
   ]
  },
  {
   "cell_type": "markdown",
   "metadata": {},
   "source": [
    "_With the total of murders_"
   ]
  },
  {
   "cell_type": "code",
   "execution_count": 218,
   "metadata": {
    "collapsed": false
   },
   "outputs": [
    {
     "name": "stdout",
     "output_type": "stream",
     "text": [
      "[ 0.00527385 -0.05005805 -0.20161455 -0.0278195   0.03935352]\n",
      "-0.0469729455758\n"
     ]
    }
   ],
   "source": [
    "print cross_val_score(model, standardised_merged_table[\"robbery\"].reshape(-1, 1), y, scoring=\"r2\", cv=5)\n",
    "print np.mean(cross_val_score(model, standardised_merged_table[\"robbery\"].reshape(-1, 1), y, scoring=\"r2\", cv=5))"
   ]
  },
  {
   "cell_type": "markdown",
   "metadata": {},
   "source": [
    "__Discussion__"
   ]
  },
  {
   "cell_type": "markdown",
   "metadata": {
    "nbpresent": {
     "id": "8f0bf1f9-7a61-41ac-a55e-fa34b54afa89"
    }
   },
   "source": [
    "The Spearman's coefficient evidenced a 37% (p-value >0.01) correlation between state levels of violent crime and state police killings, but how far I got with the regression results allow me not to show that correlation. The variance was too important for them to withstand cross-validation."
   ]
  },
  {
   "cell_type": "markdown",
   "metadata": {},
   "source": [
    "As it was stated, my assumption was that of one-to-one equivalence between reported crime to covered population and real crime to total population. I have since identified that the FBI provides estimates for all states (as stated, I just aggregated by state the raw data I already was working with). This study should therefore be replicated with the FBI provided estimates."
   ]
  },
  {
   "cell_type": "markdown",
   "metadata": {
    "nbpresent": {
     "id": "6a391a82-79fa-4f67-8626-abfb79aa2cf5"
    }
   },
   "source": [
    "---"
   ]
  },
  {
   "cell_type": "markdown",
   "metadata": {
    "nbpresent": {
     "id": "df7e16bc-a380-4c20-b70d-8a7e83b49272"
    }
   },
   "source": [
    "---"
   ]
  }
 ],
 "metadata": {
  "anaconda-cloud": {},
  "celltoolbar": "Raw Cell Format",
  "kernelspec": {
   "display_name": "Python [conda root]",
   "language": "python",
   "name": "conda-root-py"
  },
  "language_info": {
   "codemirror_mode": {
    "name": "ipython",
    "version": 2
   },
   "file_extension": ".py",
   "mimetype": "text/x-python",
   "name": "python",
   "nbconvert_exporter": "python",
   "pygments_lexer": "ipython2",
   "version": "2.7.12"
  },
  "nbpresent": {
   "slides": {
    "0026a521-b5ea-4d4f-9fbf-ddd0ca393131": {
     "id": "0026a521-b5ea-4d4f-9fbf-ddd0ca393131",
     "prev": "636bab08-0265-43d7-8c14-28cb2d57bd64",
     "regions": {
      "c9466870-e1d0-495e-bbf4-b448d3610c44": {
       "attrs": {
        "height": 0.8,
        "width": 0.8,
        "x": 0.1,
        "y": 0.1
       },
       "content": {
        "cell": "b39b14a6-2bda-441c-9220-4a91490e0014",
        "part": "whole"
       },
       "id": "c9466870-e1d0-495e-bbf4-b448d3610c44"
      }
     }
    },
    "004b2311-bdd9-4ba9-b81e-8b06b3921b5e": {
     "id": "004b2311-bdd9-4ba9-b81e-8b06b3921b5e",
     "prev": "7c943925-4233-48ea-8a78-9977f9ae4707",
     "regions": {
      "b37d1cfa-3a84-452b-981e-2e4406b2e4c6": {
       "attrs": {
        "height": 0.8,
        "width": 0.8,
        "x": 0.1,
        "y": 0.1
       },
       "content": {
        "cell": "b67190d6-00fc-443b-b061-2584a9a97185",
        "part": "whole"
       },
       "id": "b37d1cfa-3a84-452b-981e-2e4406b2e4c6"
      }
     }
    },
    "06f073ba-150c-4287-ac1b-0b507d142198": {
     "id": "06f073ba-150c-4287-ac1b-0b507d142198",
     "prev": "9d7534a2-6bf4-4fb0-b4ce-4edf5edd5481",
     "regions": {
      "5db1e04d-af9d-4c22-8ec5-0540b585181d": {
       "attrs": {
        "height": 0.8,
        "width": 0.8,
        "x": 0.1,
        "y": 0.1
       },
       "content": {
        "cell": "4f00f0b8-b0f1-4958-b77f-9c7d0aa06e9b",
        "part": "whole"
       },
       "id": "5db1e04d-af9d-4c22-8ec5-0540b585181d"
      }
     }
    },
    "08be7e47-85be-454b-81be-0d05d3edf6f0": {
     "id": "08be7e47-85be-454b-81be-0d05d3edf6f0",
     "prev": "cac1750e-0107-4059-b0c4-f050a1f51488",
     "regions": {
      "73ad70f2-8d2c-4613-972e-9ebddf29dc6e": {
       "attrs": {
        "height": 0.8,
        "width": 0.8,
        "x": 0.1,
        "y": 0.1
       },
       "content": {
        "cell": "001cf251-5bc2-40d1-b440-24e41fd12b65",
        "part": "whole"
       },
       "id": "73ad70f2-8d2c-4613-972e-9ebddf29dc6e"
      }
     }
    },
    "099432b3-9619-4663-b595-ae983dac7ec7": {
     "id": "099432b3-9619-4663-b595-ae983dac7ec7",
     "prev": "5c3dda27-78f1-46a8-912c-2584b2a7abe4",
     "regions": {
      "a873894e-ab0c-4cb1-bdb1-0f9dcdc5f4c6": {
       "attrs": {
        "height": 0.8,
        "width": 0.8,
        "x": 0.1,
        "y": 0.1
       },
       "content": {
        "cell": "ea71427b-ec81-40a3-9cea-ee4f836c23d6",
        "part": "whole"
       },
       "id": "a873894e-ab0c-4cb1-bdb1-0f9dcdc5f4c6"
      }
     }
    },
    "0c565212-a10c-41c6-a929-977763e8b506": {
     "id": "0c565212-a10c-41c6-a929-977763e8b506",
     "prev": "b35bbaf8-d31e-42e3-9c7c-ef199ee60586",
     "regions": {
      "0e5ce9ab-b3de-4738-90e0-b74f0f7457e6": {
       "attrs": {
        "height": 0.8,
        "width": 0.8,
        "x": 0.1,
        "y": 0.1
       },
       "content": {
        "cell": "6d49dbf7-4cc6-4c21-885f-37bfca148097",
        "part": "whole"
       },
       "id": "0e5ce9ab-b3de-4738-90e0-b74f0f7457e6"
      }
     }
    },
    "0c7faaaa-c480-4458-841f-be10a9783b97": {
     "id": "0c7faaaa-c480-4458-841f-be10a9783b97",
     "prev": "4a6f96eb-53ac-4424-8356-48b392f01c96",
     "regions": {
      "be0c91e0-1776-48c1-972f-4988403cefa3": {
       "attrs": {
        "height": 0.8,
        "width": 0.8,
        "x": 0.1,
        "y": 0.1
       },
       "content": {
        "cell": "c91d74e2-c621-4fad-8546-87fc3ba04aa3",
        "part": "whole"
       },
       "id": "be0c91e0-1776-48c1-972f-4988403cefa3"
      }
     }
    },
    "0f42251f-53a8-41dd-9bc2-fdb72285849a": {
     "id": "0f42251f-53a8-41dd-9bc2-fdb72285849a",
     "prev": "f717db1a-2760-4154-981c-d0ea8cee7abd",
     "regions": {
      "bd35dee6-a340-47b5-aa99-ebb766231ea8": {
       "attrs": {
        "height": 0.8,
        "width": 0.8,
        "x": 0.1,
        "y": 0.1
       },
       "content": {
        "cell": "7f2a94ce-e472-4b12-9565-4e2141d18f11",
        "part": "whole"
       },
       "id": "bd35dee6-a340-47b5-aa99-ebb766231ea8"
      }
     }
    },
    "10196564-9633-4969-9710-dad3266b9954": {
     "id": "10196564-9633-4969-9710-dad3266b9954",
     "prev": "abc96155-4907-456f-a961-8dfc1993acb0",
     "regions": {
      "c609f7ee-6cc7-4d95-b994-e9a6b5fa1ed3": {
       "attrs": {
        "height": 0.8,
        "width": 0.8,
        "x": 0.1,
        "y": 0.1
       },
       "content": {
        "cell": "da60b834-9d8e-45c2-ba0b-ebdb96c7de2d",
        "part": "whole"
       },
       "id": "c609f7ee-6cc7-4d95-b994-e9a6b5fa1ed3"
      }
     }
    },
    "1048b854-84f4-4deb-b694-45d97970634f": {
     "id": "1048b854-84f4-4deb-b694-45d97970634f",
     "prev": "2a1ac709-6f47-4e13-be2a-dbe2b04035c1",
     "regions": {
      "787aaf91-7415-4318-a334-06b48f7e1221": {
       "attrs": {
        "height": 0.8,
        "width": 0.8,
        "x": 0.1,
        "y": 0.1
       },
       "content": {
        "cell": "db49f412-495c-4329-88c9-8df763f6482a",
        "part": "whole"
       },
       "id": "787aaf91-7415-4318-a334-06b48f7e1221"
      }
     }
    },
    "108bbaf7-2219-48c1-ad62-bc34b845a288": {
     "id": "108bbaf7-2219-48c1-ad62-bc34b845a288",
     "prev": "95dde429-fa1d-49dc-a95c-28b09da62367",
     "regions": {
      "b5498a3f-e56e-422a-bf11-28f3053243a4": {
       "attrs": {
        "height": 0.8,
        "width": 0.8,
        "x": 0.1,
        "y": 0.1
       },
       "content": {
        "cell": "cd8644e7-2ba4-4a23-ab18-e42e09aead47",
        "part": "whole"
       },
       "id": "b5498a3f-e56e-422a-bf11-28f3053243a4"
      }
     }
    },
    "13562070-7738-47ed-9b2d-44aa8afb63e9": {
     "id": "13562070-7738-47ed-9b2d-44aa8afb63e9",
     "prev": "877d7953-86e4-460b-b9bb-7d2786972315",
     "regions": {
      "ba68b144-19da-4c98-96b3-5ea4d0f58cda": {
       "attrs": {
        "height": 0.8,
        "width": 0.8,
        "x": 0.1,
        "y": 0.1
       },
       "content": {
        "cell": "513e9b32-ad02-4ed3-8da0-d663899e21e3",
        "part": "whole"
       },
       "id": "ba68b144-19da-4c98-96b3-5ea4d0f58cda"
      }
     }
    },
    "138a28ab-cd61-4373-92a6-45cca85891df": {
     "id": "138a28ab-cd61-4373-92a6-45cca85891df",
     "prev": "2b162aa5-d05e-4b82-85de-71413a4c5b36",
     "regions": {
      "2ac730ed-873d-4a7f-8f73-5f9e324532fb": {
       "attrs": {
        "height": 0.8,
        "width": 0.8,
        "x": 0.1,
        "y": 0.1
       },
       "content": {
        "cell": "b04a7d0d-d8ee-40a0-bf7b-11cedd1e5f93",
        "part": "whole"
       },
       "id": "2ac730ed-873d-4a7f-8f73-5f9e324532fb"
      }
     }
    },
    "16226639-a75c-46da-83e2-3effd3cda167": {
     "id": "16226639-a75c-46da-83e2-3effd3cda167",
     "prev": "108bbaf7-2219-48c1-ad62-bc34b845a288",
     "regions": {
      "c9d03168-432c-419e-8168-bf6d0ac7dfdb": {
       "attrs": {
        "height": 0.8,
        "width": 0.8,
        "x": 0.1,
        "y": 0.1
       },
       "content": {
        "cell": "f547bc22-c820-41be-b816-7980f13bc047",
        "part": "whole"
       },
       "id": "c9d03168-432c-419e-8168-bf6d0ac7dfdb"
      }
     }
    },
    "164f4106-aeee-41a5-89ce-7d92f582da62": {
     "id": "164f4106-aeee-41a5-89ce-7d92f582da62",
     "prev": "ec700c77-1add-498b-9e23-47561a09b430",
     "regions": {
      "eca1f481-c1e5-4e8b-a862-6e663459b851": {
       "attrs": {
        "height": 0.8,
        "width": 0.8,
        "x": 0.1,
        "y": 0.1
       },
       "content": {
        "cell": "3b032de7-249f-41bd-aaf0-115e2708f66e",
        "part": "whole"
       },
       "id": "eca1f481-c1e5-4e8b-a862-6e663459b851"
      }
     }
    },
    "17dcd3db-3aaf-46a8-9e99-4c5060c005f2": {
     "id": "17dcd3db-3aaf-46a8-9e99-4c5060c005f2",
     "prev": "47d06ed6-0f31-47db-93a8-b79438fa1390",
     "regions": {
      "9e144040-dbf7-4ae6-814e-832ac64c1d04": {
       "attrs": {
        "height": 0.8,
        "width": 0.8,
        "x": 0.1,
        "y": 0.1
       },
       "content": {
        "cell": "d9d488a0-8f46-426a-b683-80099d749a04",
        "part": "whole"
       },
       "id": "9e144040-dbf7-4ae6-814e-832ac64c1d04"
      }
     }
    },
    "18f1fc85-fe0f-4ec3-a504-942e3cea1608": {
     "id": "18f1fc85-fe0f-4ec3-a504-942e3cea1608",
     "prev": "0c565212-a10c-41c6-a929-977763e8b506",
     "regions": {
      "bb3e7d0e-0deb-4cc5-a824-8c64f403260f": {
       "attrs": {
        "height": 0.8,
        "width": 0.8,
        "x": 0.1,
        "y": 0.1
       },
       "content": {
        "cell": "de8424c2-2ee5-4fa2-805a-7f429bda27ab",
        "part": "whole"
       },
       "id": "bb3e7d0e-0deb-4cc5-a824-8c64f403260f"
      }
     }
    },
    "1d5b7916-063a-4179-8660-db258d8ad540": {
     "id": "1d5b7916-063a-4179-8660-db258d8ad540",
     "prev": "21b5524a-de1c-4b04-9d73-b8a3c0af2e9b",
     "regions": {
      "0f2be324-9aab-462e-8c9f-c941450d8284": {
       "attrs": {
        "height": 0.8,
        "width": 0.8,
        "x": 0.1,
        "y": 0.1
       },
       "content": {
        "cell": "f24cd766-7e23-40d9-818e-364ef8b3adf4",
        "part": "whole"
       },
       "id": "0f2be324-9aab-462e-8c9f-c941450d8284"
      }
     }
    },
    "1e095ef7-b8a5-44e2-a63c-445fb484f365": {
     "id": "1e095ef7-b8a5-44e2-a63c-445fb484f365",
     "prev": "84bf0a29-8d06-44c9-a642-0e763d52ad97",
     "regions": {
      "1f5fd34a-7641-4820-9263-e7462f340750": {
       "attrs": {
        "height": 0.8,
        "width": 0.8,
        "x": 0.1,
        "y": 0.1
       },
       "content": {
        "cell": "3cadd369-d070-4599-b9fb-75db8c4ffc2f",
        "part": "whole"
       },
       "id": "1f5fd34a-7641-4820-9263-e7462f340750"
      }
     }
    },
    "21b5524a-de1c-4b04-9d73-b8a3c0af2e9b": {
     "id": "21b5524a-de1c-4b04-9d73-b8a3c0af2e9b",
     "prev": "60bb47f2-1f05-438b-99b5-f2418424b61a",
     "regions": {
      "f68d07e4-f478-436a-b67e-422403039aa1": {
       "attrs": {
        "height": 0.8,
        "width": 0.8,
        "x": 0.1,
        "y": 0.1
       },
       "content": {
        "cell": "be026016-d4e8-468f-a3bf-4297ffc4bc14",
        "part": "whole"
       },
       "id": "f68d07e4-f478-436a-b67e-422403039aa1"
      }
     }
    },
    "21d97ff0-5570-4195-bf74-ffb0039f7359": {
     "id": "21d97ff0-5570-4195-bf74-ffb0039f7359",
     "prev": "b57698b5-c633-424d-943c-82ffdc975c17",
     "regions": {
      "089a9d86-d736-462a-9c34-4a0b1a3c659c": {
       "attrs": {
        "height": 0.8,
        "width": 0.8,
        "x": 0.1,
        "y": 0.1
       },
       "content": {
        "cell": "4f3a7492-f236-447a-99d9-33d5c74988c3",
        "part": "whole"
       },
       "id": "089a9d86-d736-462a-9c34-4a0b1a3c659c"
      }
     }
    },
    "24536c88-7ef9-4463-93ab-586e7c9eac42": {
     "id": "24536c88-7ef9-4463-93ab-586e7c9eac42",
     "prev": "1d5b7916-063a-4179-8660-db258d8ad540",
     "regions": {
      "e11a0213-1206-47f2-9f46-701ffa2a9a9c": {
       "attrs": {
        "height": 0.8,
        "width": 0.8,
        "x": 0.1,
        "y": 0.1
       },
       "content": {
        "cell": "d85ce6c6-4a97-48bd-9386-da879e3a871a",
        "part": "whole"
       },
       "id": "e11a0213-1206-47f2-9f46-701ffa2a9a9c"
      }
     }
    },
    "25b6cf63-8b14-41d9-819d-36d6339506dc": {
     "id": "25b6cf63-8b14-41d9-819d-36d6339506dc",
     "prev": "17dcd3db-3aaf-46a8-9e99-4c5060c005f2",
     "regions": {
      "aab50d7f-a62b-468b-8df1-2c8c1676c2e6": {
       "attrs": {
        "height": 0.8,
        "width": 0.8,
        "x": 0.1,
        "y": 0.1
       },
       "content": {
        "cell": "764b276e-e4bf-404a-9593-76070dc28d64",
        "part": "whole"
       },
       "id": "aab50d7f-a62b-468b-8df1-2c8c1676c2e6"
      }
     }
    },
    "26c6622c-da63-49e7-859e-92b3f2fe113f": {
     "id": "26c6622c-da63-49e7-859e-92b3f2fe113f",
     "prev": "099432b3-9619-4663-b595-ae983dac7ec7",
     "regions": {
      "9246d77a-daf3-464e-973c-0a0471b9e114": {
       "attrs": {
        "height": 0.8,
        "width": 0.8,
        "x": 0.1,
        "y": 0.1
       },
       "content": {
        "cell": "370e2b2e-5db6-4afe-8b27-27c209d440aa",
        "part": "whole"
       },
       "id": "9246d77a-daf3-464e-973c-0a0471b9e114"
      }
     }
    },
    "26da53f9-9672-48af-afaf-6c2836cddbf0": {
     "id": "26da53f9-9672-48af-afaf-6c2836cddbf0",
     "prev": "4eed8964-fd1e-4ae2-916c-3ad1822c7158",
     "regions": {
      "c958581c-3e96-4e2b-9888-1cf696a3c410": {
       "attrs": {
        "height": 0.8,
        "width": 0.8,
        "x": 0.1,
        "y": 0.1
       },
       "content": {
        "cell": "05f3796b-1154-42a1-af3c-c47bc45598f2",
        "part": "whole"
       },
       "id": "c958581c-3e96-4e2b-9888-1cf696a3c410"
      }
     }
    },
    "26fed021-d324-49bd-9e6f-1c4e1ea0f71c": {
     "id": "26fed021-d324-49bd-9e6f-1c4e1ea0f71c",
     "prev": "138a28ab-cd61-4373-92a6-45cca85891df",
     "regions": {
      "35f96a1e-d9f6-48c2-bca3-44fcc0daef77": {
       "attrs": {
        "height": 0.8,
        "width": 0.8,
        "x": 0.1,
        "y": 0.1
       },
       "content": {
        "cell": "58e75301-f7a1-4c08-b862-e16512a93e3c",
        "part": "whole"
       },
       "id": "35f96a1e-d9f6-48c2-bca3-44fcc0daef77"
      }
     }
    },
    "2703f0f8-dd79-43fd-91c9-06fa43685932": {
     "id": "2703f0f8-dd79-43fd-91c9-06fa43685932",
     "prev": "b59f85ac-ac51-4750-93dd-98bb23dc3016",
     "regions": {
      "c566774d-a6a3-4919-99f7-cd1412df59f8": {
       "attrs": {
        "height": 0.8,
        "width": 0.8,
        "x": 0.1,
        "y": 0.1
       },
       "content": {
        "cell": "271c8b29-4c1e-40d4-9262-b97bee83de30",
        "part": "whole"
       },
       "id": "c566774d-a6a3-4919-99f7-cd1412df59f8"
      }
     }
    },
    "27d1e9a3-9c23-40d9-8234-6165b1956df2": {
     "id": "27d1e9a3-9c23-40d9-8234-6165b1956df2",
     "prev": "38daef86-ba2a-4ba3-bab6-5cb3c21a6063",
     "regions": {
      "e63f80d4-b991-469c-96bc-78742c9c78d7": {
       "attrs": {
        "height": 0.8,
        "width": 0.8,
        "x": 0.1,
        "y": 0.1
       },
       "content": {
        "cell": "10dd9424-2b6a-4c08-812c-6adf5a7107d8",
        "part": "whole"
       },
       "id": "e63f80d4-b991-469c-96bc-78742c9c78d7"
      }
     }
    },
    "27f9788a-b24c-43d0-885e-ffa1fbbbf3a4": {
     "id": "27f9788a-b24c-43d0-885e-ffa1fbbbf3a4",
     "prev": "ca4a2840-e64c-43e9-a9a8-4b80a15dd141",
     "regions": {
      "98466427-9c0f-41d2-a9fd-2900e9635a19": {
       "attrs": {
        "height": 0.8,
        "width": 0.8,
        "x": 0.1,
        "y": 0.1
       },
       "content": {
        "cell": "ef70664f-8f41-4883-8180-777fc3594ce4",
        "part": "whole"
       },
       "id": "98466427-9c0f-41d2-a9fd-2900e9635a19"
      }
     }
    },
    "28aabf98-d5eb-41ac-96e5-0e740b50551a": {
     "id": "28aabf98-d5eb-41ac-96e5-0e740b50551a",
     "prev": "bda51ce8-6812-4272-915c-de305535ca82",
     "regions": {
      "e2521873-25f5-4160-8afc-89138d348661": {
       "attrs": {
        "height": 0.8,
        "width": 0.8,
        "x": 0.1,
        "y": 0.1
       },
       "content": {
        "cell": "7deddd2d-6968-4aae-8e73-396425d3bd98",
        "part": "whole"
       },
       "id": "e2521873-25f5-4160-8afc-89138d348661"
      }
     }
    },
    "28afc0a3-eae3-4f87-bc2f-25f92b41007d": {
     "id": "28afc0a3-eae3-4f87-bc2f-25f92b41007d",
     "prev": "e363a28b-d311-46fc-94fc-e4406f1585fa",
     "regions": {
      "9287e535-1876-4c29-900a-4755d69e722f": {
       "attrs": {
        "height": 0.8,
        "width": 0.8,
        "x": 0.1,
        "y": 0.1
       },
       "content": {
        "cell": "200ab282-0c40-4ed9-bd93-8f7ec5c0a348",
        "part": "whole"
       },
       "id": "9287e535-1876-4c29-900a-4755d69e722f"
      }
     }
    },
    "2a1ac709-6f47-4e13-be2a-dbe2b04035c1": {
     "id": "2a1ac709-6f47-4e13-be2a-dbe2b04035c1",
     "prev": "7c8ccd39-9692-4e5c-a035-e54f319d427d",
     "regions": {
      "32e83602-00a2-47c3-b852-371780a5c49d": {
       "attrs": {
        "height": 0.8,
        "width": 0.8,
        "x": 0.1,
        "y": 0.1
       },
       "content": {
        "cell": "d01729f1-b07f-4eff-82be-5609373fbea6",
        "part": "whole"
       },
       "id": "32e83602-00a2-47c3-b852-371780a5c49d"
      }
     }
    },
    "2b162aa5-d05e-4b82-85de-71413a4c5b36": {
     "id": "2b162aa5-d05e-4b82-85de-71413a4c5b36",
     "prev": "939dc35a-1d14-4799-8762-233df8daad34",
     "regions": {
      "5e4be9c4-a6fb-4c75-8de3-ff4345d26e48": {
       "attrs": {
        "height": 0.8,
        "width": 0.8,
        "x": 0.1,
        "y": 0.1
       },
       "content": {
        "cell": "00084784-5d36-4786-b53d-f6bb34af7e3c",
        "part": "whole"
       },
       "id": "5e4be9c4-a6fb-4c75-8de3-ff4345d26e48"
      }
     }
    },
    "2d49b151-6352-46d6-8c87-15da03cfd8b4": {
     "id": "2d49b151-6352-46d6-8c87-15da03cfd8b4",
     "prev": "33d9f278-168e-4af5-9632-7d9d46520f63",
     "regions": {
      "5cef5696-1772-4b13-8789-5fa2c0bd8f46": {
       "attrs": {
        "height": 0.8,
        "width": 0.8,
        "x": 0.1,
        "y": 0.1
       },
       "content": {
        "cell": "1571a152-b9a6-44d9-bc8e-a289cc881dfb",
        "part": "whole"
       },
       "id": "5cef5696-1772-4b13-8789-5fa2c0bd8f46"
      }
     }
    },
    "2dcf58cb-be0e-4c70-91c8-55548c5d6c5b": {
     "id": "2dcf58cb-be0e-4c70-91c8-55548c5d6c5b",
     "prev": "e6d06dda-5d83-4388-a601-4ff216f694a0",
     "regions": {
      "1275e6ed-ba7a-4279-a2dd-2d5cdadeacf4": {
       "attrs": {
        "height": 0.8,
        "width": 0.8,
        "x": 0.1,
        "y": 0.1
       },
       "content": {
        "cell": "a8729938-e7e2-4772-860e-8be7484498c4",
        "part": "whole"
       },
       "id": "1275e6ed-ba7a-4279-a2dd-2d5cdadeacf4"
      }
     }
    },
    "2e91e284-3413-4876-81e1-227ea9977bbb": {
     "id": "2e91e284-3413-4876-81e1-227ea9977bbb",
     "prev": "f7055f6c-f9b8-4ec5-b2ec-8d74fc0c9e91",
     "regions": {
      "aa343d32-b88a-4aa8-a198-d18ffeccbe19": {
       "attrs": {
        "height": 0.8,
        "width": 0.8,
        "x": 0.1,
        "y": 0.1
       },
       "content": {
        "cell": "72ae6fdd-a14e-4051-b586-28f505da018c",
        "part": "whole"
       },
       "id": "aa343d32-b88a-4aa8-a198-d18ffeccbe19"
      }
     }
    },
    "307128ad-1a89-48fb-992e-e77e0b6332bf": {
     "id": "307128ad-1a89-48fb-992e-e77e0b6332bf",
     "prev": "5bebff1b-fe46-4a29-a511-9ae0835e3d24",
     "regions": {
      "24da2ae5-cca7-490e-bdde-307349af76db": {
       "attrs": {
        "height": 0.8,
        "width": 0.8,
        "x": 0.1,
        "y": 0.1
       },
       "content": {
        "cell": "68ff18e0-832b-4380-9482-4615690f5fd1",
        "part": "whole"
       },
       "id": "24da2ae5-cca7-490e-bdde-307349af76db"
      }
     }
    },
    "33d9f278-168e-4af5-9632-7d9d46520f63": {
     "id": "33d9f278-168e-4af5-9632-7d9d46520f63",
     "prev": "bd6c0997-74e3-484a-a05e-6dfb007a1d8b",
     "regions": {
      "90a271ee-8690-48c7-bf30-785b3ce8d6aa": {
       "attrs": {
        "height": 0.8,
        "width": 0.8,
        "x": 0.1,
        "y": 0.1
       },
       "content": {
        "cell": "7c1f18bd-70cd-442b-b746-5cfcf9d34bfb",
        "part": "whole"
       },
       "id": "90a271ee-8690-48c7-bf30-785b3ce8d6aa"
      }
     }
    },
    "372d7b76-4b8e-4d22-b7b6-bcc377af8ea2": {
     "id": "372d7b76-4b8e-4d22-b7b6-bcc377af8ea2",
     "prev": "d5435a0d-5ade-4ef9-8b8a-028c027ad997",
     "regions": {
      "5c7a3d8c-8c61-4734-bf7a-ff11fa6a9d0b": {
       "attrs": {
        "height": 0.8,
        "width": 0.8,
        "x": 0.1,
        "y": 0.1
       },
       "content": {
        "cell": "1852c0fd-1fa0-4ef7-b2bc-d3b4b738d7ad",
        "part": "whole"
       },
       "id": "5c7a3d8c-8c61-4734-bf7a-ff11fa6a9d0b"
      }
     }
    },
    "382a691d-ec3a-4f81-8b61-f74ff7e76452": {
     "id": "382a691d-ec3a-4f81-8b61-f74ff7e76452",
     "prev": "7068e916-9b88-42af-ab42-241e08d5e530",
     "regions": {
      "f43b6159-62cd-435f-8299-141cdc8e26e2": {
       "attrs": {
        "height": 0.8,
        "width": 0.8,
        "x": 0.1,
        "y": 0.1
       },
       "content": {
        "cell": "bffaf5b0-a3e4-4a7e-a894-12faea42ebc4",
        "part": "whole"
       },
       "id": "f43b6159-62cd-435f-8299-141cdc8e26e2"
      }
     }
    },
    "38daef86-ba2a-4ba3-bab6-5cb3c21a6063": {
     "id": "38daef86-ba2a-4ba3-bab6-5cb3c21a6063",
     "prev": "961822d7-5d7f-4a2e-add7-cfd8e514dd30",
     "regions": {
      "3413c563-2dae-463e-ade8-dba7af0b19b3": {
       "attrs": {
        "height": 0.8,
        "width": 0.8,
        "x": 0.1,
        "y": 0.1
       },
       "content": {
        "cell": "c1400abd-75bf-414f-9c8c-7455bb13e640",
        "part": "whole"
       },
       "id": "3413c563-2dae-463e-ade8-dba7af0b19b3"
      }
     }
    },
    "38ef29fd-7f95-4019-b383-21dcb9e8a41a": {
     "id": "38ef29fd-7f95-4019-b383-21dcb9e8a41a",
     "prev": "8186b7c5-4f2a-4476-8f86-3aabb3e45a03",
     "regions": {
      "263b1f66-9d97-4c73-9634-311b67d7f1ac": {
       "attrs": {
        "height": 0.8,
        "width": 0.8,
        "x": 0.1,
        "y": 0.1
       },
       "content": {
        "cell": "2bf49b3d-e603-4cda-abe3-bb3c0054444b",
        "part": "whole"
       },
       "id": "263b1f66-9d97-4c73-9634-311b67d7f1ac"
      }
     }
    },
    "3a5594c6-df33-4abc-a0f7-a3ea5fbaf19b": {
     "id": "3a5594c6-df33-4abc-a0f7-a3ea5fbaf19b",
     "prev": "06f073ba-150c-4287-ac1b-0b507d142198",
     "regions": {
      "fef1b89f-80f8-422b-b7a9-08011f6eb1a2": {
       "attrs": {
        "height": 0.8,
        "width": 0.8,
        "x": 0.1,
        "y": 0.1
       },
       "content": {
        "cell": "6a2842cc-2a3a-4203-8533-9d2e024d366b",
        "part": "whole"
       },
       "id": "fef1b89f-80f8-422b-b7a9-08011f6eb1a2"
      }
     }
    },
    "3aa304ca-f928-42e3-b344-be7246cab3dc": {
     "id": "3aa304ca-f928-42e3-b344-be7246cab3dc",
     "prev": "a1e2e04e-b131-4b9a-8f58-12aee5222623",
     "regions": {
      "e0d93102-2dde-48cd-8761-32820f0027e2": {
       "attrs": {
        "height": 0.8,
        "width": 0.8,
        "x": 0.1,
        "y": 0.1
       },
       "content": {
        "cell": "e782f596-ed42-46f3-ae39-76e070cbc3cd",
        "part": "whole"
       },
       "id": "e0d93102-2dde-48cd-8761-32820f0027e2"
      }
     }
    },
    "3d3467f4-fb7b-4c39-8851-0b2e184f96c5": {
     "id": "3d3467f4-fb7b-4c39-8851-0b2e184f96c5",
     "prev": "d497b81b-0b9a-4300-b18a-e3b09cf5a247",
     "regions": {
      "4a397a76-0033-40ed-bcc5-42c64316d12f": {
       "attrs": {
        "height": 0.8,
        "width": 0.8,
        "x": 0.1,
        "y": 0.1
       },
       "content": {
        "cell": "75c94b14-e632-4897-9b7f-a0ce2d742702",
        "part": "whole"
       },
       "id": "4a397a76-0033-40ed-bcc5-42c64316d12f"
      }
     }
    },
    "40a008c5-b5b0-4aea-9eae-80853b2e378f": {
     "id": "40a008c5-b5b0-4aea-9eae-80853b2e378f",
     "prev": "b65d61bf-2dc7-47a1-93a6-4858ae8b47ed",
     "regions": {
      "cf1e1d38-4540-4792-b5f7-a42cfb7afd6d": {
       "attrs": {
        "height": 0.8,
        "width": 0.8,
        "x": 0.1,
        "y": 0.1
       },
       "content": {
        "cell": "3e309d73-8a67-4fbf-8499-f4abb603696c",
        "part": "whole"
       },
       "id": "cf1e1d38-4540-4792-b5f7-a42cfb7afd6d"
      }
     }
    },
    "410e80e3-90fb-4b31-90e7-abb4c09dc84b": {
     "id": "410e80e3-90fb-4b31-90e7-abb4c09dc84b",
     "prev": "d6bf9515-2d6b-4ed6-9c1b-5c1976a545c7",
     "regions": {
      "6ddf59a0-8983-4c82-9a57-32eb9e522a58": {
       "attrs": {
        "height": 0.8,
        "width": 0.8,
        "x": 0.1,
        "y": 0.1
       },
       "content": {
        "cell": "b68ccae3-7d05-4433-923e-50e617dbdd46",
        "part": "whole"
       },
       "id": "6ddf59a0-8983-4c82-9a57-32eb9e522a58"
      }
     }
    },
    "45390110-8a88-410e-bb3f-6345f58d3a62": {
     "id": "45390110-8a88-410e-bb3f-6345f58d3a62",
     "prev": "9d9075ba-ce90-4a1a-a81b-375c4234fcc9",
     "regions": {
      "08991324-05b8-470f-8679-0755c0eb73cf": {
       "attrs": {
        "height": 0.8,
        "width": 0.8,
        "x": 0.1,
        "y": 0.1
       },
       "content": {
        "cell": "e21db138-cd21-4118-bc09-10a574409b6d",
        "part": "whole"
       },
       "id": "08991324-05b8-470f-8679-0755c0eb73cf"
      }
     }
    },
    "45c600ac-ce3f-49aa-a2ff-ee310d7fa744": {
     "id": "45c600ac-ce3f-49aa-a2ff-ee310d7fa744",
     "prev": "a6999320-798e-4779-bf49-2bdee363ea74",
     "regions": {
      "2cc9ad8b-39b1-441f-b15f-bbfc5740a792": {
       "attrs": {
        "height": 0.8,
        "width": 0.8,
        "x": 0.1,
        "y": 0.1
       },
       "content": {
        "cell": "1b46a252-557e-4e16-b23d-63676eb22f8c",
        "part": "whole"
       },
       "id": "2cc9ad8b-39b1-441f-b15f-bbfc5740a792"
      }
     }
    },
    "45cd8833-bde8-43dc-a40a-defe90e594a4": {
     "id": "45cd8833-bde8-43dc-a40a-defe90e594a4",
     "prev": "91d67234-de2b-44e4-94f5-419c7c56a31a",
     "regions": {
      "dfce91c3-98bb-4504-8d06-abd5c0191b23": {
       "attrs": {
        "height": 0.8,
        "width": 0.8,
        "x": 0.1,
        "y": 0.1
       },
       "content": {
        "cell": "6e3e81f3-47dd-4e5f-8983-416a81baec4b",
        "part": "whole"
       },
       "id": "dfce91c3-98bb-4504-8d06-abd5c0191b23"
      }
     }
    },
    "45d15646-80d2-4a58-9f5f-a9a3c54e902f": {
     "id": "45d15646-80d2-4a58-9f5f-a9a3c54e902f",
     "prev": "28afc0a3-eae3-4f87-bc2f-25f92b41007d",
     "regions": {
      "2169fa25-67bc-4156-8fa5-dc0f477cf0a1": {
       "attrs": {
        "height": 0.8,
        "width": 0.8,
        "x": 0.1,
        "y": 0.1
       },
       "content": {
        "cell": "0edcee2f-a31c-4183-8bd3-2d69e348c15c",
        "part": "whole"
       },
       "id": "2169fa25-67bc-4156-8fa5-dc0f477cf0a1"
      }
     }
    },
    "4646d4a3-5805-436c-9c87-c23d50cbbde0": {
     "id": "4646d4a3-5805-436c-9c87-c23d50cbbde0",
     "prev": "a1593bb7-4004-4c8f-aa04-daa4f880a79f",
     "regions": {
      "378a4278-a307-44d5-a04f-c31e8b0edcb7": {
       "attrs": {
        "height": 0.8,
        "width": 0.8,
        "x": 0.1,
        "y": 0.1
       },
       "content": {
        "cell": "4f841d7a-e0ff-4208-8905-0f1f052f62a9",
        "part": "whole"
       },
       "id": "378a4278-a307-44d5-a04f-c31e8b0edcb7"
      }
     }
    },
    "46533e90-37c4-42b8-9961-30d02c2a0805": {
     "id": "46533e90-37c4-42b8-9961-30d02c2a0805",
     "prev": "4f67c234-14dc-4db2-87c7-c25d7c572ab7",
     "regions": {
      "0a016dfb-54d9-4d43-9309-1499d9689682": {
       "attrs": {
        "height": 0.8,
        "width": 0.8,
        "x": 0.1,
        "y": 0.1
       },
       "content": {
        "cell": "b0419fb0-33ab-407d-8981-4a2c8788c478",
        "part": "whole"
       },
       "id": "0a016dfb-54d9-4d43-9309-1499d9689682"
      }
     }
    },
    "47d06ed6-0f31-47db-93a8-b79438fa1390": {
     "id": "47d06ed6-0f31-47db-93a8-b79438fa1390",
     "prev": "f06f7548-c6ca-462c-82a6-88516984e3e8",
     "regions": {
      "1de3fa86-1a08-4d06-a283-0fa51ce725b7": {
       "attrs": {
        "height": 0.8,
        "width": 0.8,
        "x": 0.1,
        "y": 0.1
       },
       "content": {
        "cell": "2108723c-5326-4791-8004-6253c54c2fbb",
        "part": "whole"
       },
       "id": "1de3fa86-1a08-4d06-a283-0fa51ce725b7"
      }
     }
    },
    "484c6fd0-992c-4012-826a-3e8b69694e46": {
     "id": "484c6fd0-992c-4012-826a-3e8b69694e46",
     "prev": "82ceb8fb-762f-4d23-a5c4-8956c38bd96a",
     "regions": {
      "01e06238-7ab3-4c8c-b2c5-756ac2328201": {
       "attrs": {
        "height": 0.8,
        "width": 0.8,
        "x": 0.1,
        "y": 0.1
       },
       "content": {
        "cell": "d045462b-21eb-468c-9feb-d78ceae68f37",
        "part": "whole"
       },
       "id": "01e06238-7ab3-4c8c-b2c5-756ac2328201"
      }
     }
    },
    "4a6f96eb-53ac-4424-8356-48b392f01c96": {
     "id": "4a6f96eb-53ac-4424-8356-48b392f01c96",
     "prev": "f5ca8c3c-bde6-4b8f-871d-183c347d9f90",
     "regions": {
      "c23d84b5-d5c7-4988-a90a-dae86b22cbac": {
       "attrs": {
        "height": 0.8,
        "width": 0.8,
        "x": 0.1,
        "y": 0.1
       },
       "content": {
        "cell": "7dd9f4ba-47aa-4167-892b-c6de721b400e",
        "part": "whole"
       },
       "id": "c23d84b5-d5c7-4988-a90a-dae86b22cbac"
      }
     }
    },
    "4b5fc626-733e-4eab-b93b-b27d49f4323f": {
     "id": "4b5fc626-733e-4eab-b93b-b27d49f4323f",
     "prev": "372d7b76-4b8e-4d22-b7b6-bcc377af8ea2",
     "regions": {
      "57d912f4-37d0-4573-9711-ade47c9a9be6": {
       "attrs": {
        "height": 0.8,
        "width": 0.8,
        "x": 0.1,
        "y": 0.1
       },
       "content": {
        "cell": "96f00fff-000d-4c4d-aada-7e9912056618",
        "part": "whole"
       },
       "id": "57d912f4-37d0-4573-9711-ade47c9a9be6"
      }
     }
    },
    "4c4f5849-cea4-430b-ae62-7d2428697cdb": {
     "id": "4c4f5849-cea4-430b-ae62-7d2428697cdb",
     "prev": "9072552e-c292-44a8-90f2-671ee079724c",
     "regions": {
      "0d30ee8b-6f51-49a3-b3e1-7795a5dd8e30": {
       "attrs": {
        "height": 0.8,
        "width": 0.8,
        "x": 0.1,
        "y": 0.1
       },
       "content": {
        "cell": "62c0d67b-c37e-4dc4-8555-9a5e1470ead4",
        "part": "whole"
       },
       "id": "0d30ee8b-6f51-49a3-b3e1-7795a5dd8e30"
      }
     }
    },
    "4ce55192-089b-4eaf-a48f-7e7f87e4c38e": {
     "id": "4ce55192-089b-4eaf-a48f-7e7f87e4c38e",
     "prev": "faa96be3-0b6b-45bb-a824-78955ab519a8",
     "regions": {
      "cd4331ca-a9ab-4c3e-9cbe-c61a37229ae1": {
       "attrs": {
        "height": 0.8,
        "width": 0.8,
        "x": 0.1,
        "y": 0.1
       },
       "content": {
        "cell": "4c9c5a7a-8aa9-45b6-8dc1-329c18a9e0ed",
        "part": "whole"
       },
       "id": "cd4331ca-a9ab-4c3e-9cbe-c61a37229ae1"
      }
     }
    },
    "4de5df67-af8e-4a42-bd2b-94842587ce02": {
     "id": "4de5df67-af8e-4a42-bd2b-94842587ce02",
     "prev": "ff812ebe-d877-4e8c-a2b8-7bf9b3269442",
     "regions": {
      "15d0f719-c8af-4ef4-a1c4-cbc7768364fc": {
       "attrs": {
        "height": 0.8,
        "width": 0.8,
        "x": 0.1,
        "y": 0.1
       },
       "content": {
        "cell": "39cb22aa-2362-4fd8-8934-f229ec8745be",
        "part": "whole"
       },
       "id": "15d0f719-c8af-4ef4-a1c4-cbc7768364fc"
      }
     }
    },
    "4eed8964-fd1e-4ae2-916c-3ad1822c7158": {
     "id": "4eed8964-fd1e-4ae2-916c-3ad1822c7158",
     "prev": "c44f7697-8d5c-475a-9705-2a45954f737e",
     "regions": {
      "bda94d03-2c9e-42e6-b0bf-6cfdc5ebfdd1": {
       "attrs": {
        "height": 0.8,
        "width": 0.8,
        "x": 0.1,
        "y": 0.1
       },
       "content": {
        "cell": "473c52b7-df65-47d1-9673-c66b6bda1f1c",
        "part": "whole"
       },
       "id": "bda94d03-2c9e-42e6-b0bf-6cfdc5ebfdd1"
      }
     }
    },
    "4f67c234-14dc-4db2-87c7-c25d7c572ab7": {
     "id": "4f67c234-14dc-4db2-87c7-c25d7c572ab7",
     "prev": "e9dcf565-e49f-4a82-b36f-7b32798fd7dd",
     "regions": {
      "2006f78e-ee36-4c5a-a53d-b68afaae91c7": {
       "attrs": {
        "height": 0.8,
        "width": 0.8,
        "x": 0.1,
        "y": 0.1
       },
       "content": {
        "cell": "089ee297-7a4f-42b7-81a0-dde680d4e1df",
        "part": "whole"
       },
       "id": "2006f78e-ee36-4c5a-a53d-b68afaae91c7"
      }
     }
    },
    "560e26a6-6d3e-4ae4-83c6-740ae8228466": {
     "id": "560e26a6-6d3e-4ae4-83c6-740ae8228466",
     "prev": "382a691d-ec3a-4f81-8b61-f74ff7e76452",
     "regions": {
      "c1b2fd17-a78f-4ef6-a1ad-e5b7ffe5f264": {
       "attrs": {
        "height": 0.8,
        "width": 0.8,
        "x": 0.1,
        "y": 0.1
       },
       "content": {
        "cell": "32d7c604-088a-4d65-9bf2-d4214ab7f062",
        "part": "whole"
       },
       "id": "c1b2fd17-a78f-4ef6-a1ad-e5b7ffe5f264"
      }
     }
    },
    "59347f5c-e07d-4a99-8fcb-660a86805599": {
     "id": "59347f5c-e07d-4a99-8fcb-660a86805599",
     "prev": "8d5496f8-66f4-42bf-b911-e972135ac4ad",
     "regions": {
      "38a35e8c-0b5c-4be6-81f4-38d998c226ed": {
       "attrs": {
        "height": 0.8,
        "width": 0.8,
        "x": 0.1,
        "y": 0.1
       },
       "content": {
        "cell": "a7f3d891-2c07-4070-9214-29d1dd39bc34",
        "part": "whole"
       },
       "id": "38a35e8c-0b5c-4be6-81f4-38d998c226ed"
      }
     }
    },
    "5a3d3a83-f9f9-4ca0-9e8f-8c50425eae40": {
     "id": "5a3d3a83-f9f9-4ca0-9e8f-8c50425eae40",
     "prev": "13562070-7738-47ed-9b2d-44aa8afb63e9",
     "regions": {
      "859a0e0a-aab8-4dd4-903c-7b34272e369a": {
       "attrs": {
        "height": 0.8,
        "width": 0.8,
        "x": 0.1,
        "y": 0.1
       },
       "content": {
        "cell": "b727debe-bef3-44e0-b6c0-82bba64d2b1c",
        "part": "whole"
       },
       "id": "859a0e0a-aab8-4dd4-903c-7b34272e369a"
      }
     }
    },
    "5b63e1e4-93ce-4a4b-82d4-a70cde0f7800": {
     "id": "5b63e1e4-93ce-4a4b-82d4-a70cde0f7800",
     "prev": "3d3467f4-fb7b-4c39-8851-0b2e184f96c5",
     "regions": {
      "48b15f9c-3498-4d50-8ae5-6848226f8ce4": {
       "attrs": {
        "height": 0.8,
        "width": 0.8,
        "x": 0.1,
        "y": 0.1
       },
       "content": {
        "cell": "b76cf865-cb9c-4c53-9da0-82a81b265291",
        "part": "whole"
       },
       "id": "48b15f9c-3498-4d50-8ae5-6848226f8ce4"
      }
     }
    },
    "5bebff1b-fe46-4a29-a511-9ae0835e3d24": {
     "id": "5bebff1b-fe46-4a29-a511-9ae0835e3d24",
     "prev": "763e8ecb-174c-4ad8-8e6d-bd9515755809",
     "regions": {
      "6bf306d0-9b8e-45a8-b5e4-62993f794dd2": {
       "attrs": {
        "height": 0.8,
        "width": 0.8,
        "x": 0.1,
        "y": 0.1
       },
       "content": {
        "cell": "fc9b83a2-1414-4003-b6d6-26af42a83ac5",
        "part": "whole"
       },
       "id": "6bf306d0-9b8e-45a8-b5e4-62993f794dd2"
      }
     }
    },
    "5c3dda27-78f1-46a8-912c-2584b2a7abe4": {
     "id": "5c3dda27-78f1-46a8-912c-2584b2a7abe4",
     "prev": "ae3bdec4-825c-44e4-b0ee-905d555adaf7",
     "regions": {
      "649f927a-f1cd-4a81-9016-a58c3cca06d1": {
       "attrs": {
        "height": 0.8,
        "width": 0.8,
        "x": 0.1,
        "y": 0.1
       },
       "content": {
        "cell": "485dc27d-b8bf-48d5-980b-ce49cfa18dda",
        "part": "whole"
       },
       "id": "649f927a-f1cd-4a81-9016-a58c3cca06d1"
      }
     }
    },
    "5e3f9ed9-5af8-4475-a6d7-c14e52b0b09a": {
     "id": "5e3f9ed9-5af8-4475-a6d7-c14e52b0b09a",
     "prev": "25b6cf63-8b14-41d9-819d-36d6339506dc",
     "regions": {
      "d3a4408f-ac49-416b-90cd-dd5d02bf3057": {
       "attrs": {
        "height": 0.8,
        "width": 0.8,
        "x": 0.1,
        "y": 0.1
       },
       "content": {
        "cell": "b78f1b1c-7690-4055-9da2-606892956e4f",
        "part": "whole"
       },
       "id": "d3a4408f-ac49-416b-90cd-dd5d02bf3057"
      }
     }
    },
    "5ed65bdb-f161-4fbe-b943-d7d11c337390": {
     "id": "5ed65bdb-f161-4fbe-b943-d7d11c337390",
     "prev": "18f1fc85-fe0f-4ec3-a504-942e3cea1608",
     "regions": {
      "34512aa5-629b-482a-aa5f-e961388269e6": {
       "attrs": {
        "height": 0.8,
        "width": 0.8,
        "x": 0.1,
        "y": 0.1
       },
       "content": {
        "cell": "85dc62be-0d63-45df-8e5c-5987c9973174",
        "part": "whole"
       },
       "id": "34512aa5-629b-482a-aa5f-e961388269e6"
      }
     }
    },
    "60bb47f2-1f05-438b-99b5-f2418424b61a": {
     "id": "60bb47f2-1f05-438b-99b5-f2418424b61a",
     "prev": "27d1e9a3-9c23-40d9-8234-6165b1956df2",
     "regions": {
      "a25d1828-eb7e-4683-96b9-01d30d75c436": {
       "attrs": {
        "height": 0.8,
        "width": 0.8,
        "x": 0.1,
        "y": 0.1
       },
       "content": {
        "cell": "7f229eaf-b4ea-4003-bd02-abdb78b9312b",
        "part": "whole"
       },
       "id": "a25d1828-eb7e-4683-96b9-01d30d75c436"
      }
     }
    },
    "6360d0d6-099f-476a-b7de-fbba3b966fcb": {
     "id": "6360d0d6-099f-476a-b7de-fbba3b966fcb",
     "prev": "a1ad00bc-8046-4d7b-9560-3998dd022892",
     "regions": {
      "1d5da395-5d42-447e-8c92-8949ff916dae": {
       "attrs": {
        "height": 0.8,
        "width": 0.8,
        "x": 0.1,
        "y": 0.1
       },
       "content": {
        "cell": "a13a6aca-a89b-4e83-b52f-5b97345b182a",
        "part": "whole"
       },
       "id": "1d5da395-5d42-447e-8c92-8949ff916dae"
      }
     }
    },
    "636b1949-7cf0-4298-8d57-e0a05c7fb169": {
     "id": "636b1949-7cf0-4298-8d57-e0a05c7fb169",
     "prev": "724600f4-ee22-4b4a-93bd-f07e70b6f277",
     "regions": {
      "2da214aa-90e0-458f-8bc0-0cde9126af64": {
       "attrs": {
        "height": 0.8,
        "width": 0.8,
        "x": 0.1,
        "y": 0.1
       },
       "content": {
        "cell": "9035022e-3986-4b17-b421-ff429d533c60",
        "part": "whole"
       },
       "id": "2da214aa-90e0-458f-8bc0-0cde9126af64"
      }
     }
    },
    "636bab08-0265-43d7-8c14-28cb2d57bd64": {
     "id": "636bab08-0265-43d7-8c14-28cb2d57bd64",
     "prev": "647f529a-b34e-495b-91ef-e838dd45c7dc",
     "regions": {
      "73b381af-acff-4b33-bfa2-2a0705051008": {
       "attrs": {
        "height": 0.8,
        "width": 0.8,
        "x": 0.1,
        "y": 0.1
       },
       "content": {
        "cell": "740fb1bf-9491-48ac-83f8-12be98087be4",
        "part": "whole"
       },
       "id": "73b381af-acff-4b33-bfa2-2a0705051008"
      }
     }
    },
    "647f529a-b34e-495b-91ef-e838dd45c7dc": {
     "id": "647f529a-b34e-495b-91ef-e838dd45c7dc",
     "prev": "bee07c5d-a5b5-48e5-8365-11685188fcc5",
     "regions": {
      "6f33593d-f8f5-45f5-9519-57e383b472a2": {
       "attrs": {
        "height": 0.8,
        "width": 0.8,
        "x": 0.1,
        "y": 0.1
       },
       "content": {
        "cell": "213df769-962f-43a5-b91c-86ab760e2b42",
        "part": "whole"
       },
       "id": "6f33593d-f8f5-45f5-9519-57e383b472a2"
      }
     }
    },
    "67f9c82f-5b61-4659-9306-7ef379cafaac": {
     "id": "67f9c82f-5b61-4659-9306-7ef379cafaac",
     "prev": "46533e90-37c4-42b8-9961-30d02c2a0805",
     "regions": {
      "f304381b-a54f-42c6-8a71-b0db7ea1f302": {
       "attrs": {
        "height": 0.8,
        "width": 0.8,
        "x": 0.1,
        "y": 0.1
       },
       "content": {
        "cell": "a4988c15-57fb-445d-b7fb-6a2ad054a900",
        "part": "whole"
       },
       "id": "f304381b-a54f-42c6-8a71-b0db7ea1f302"
      }
     }
    },
    "68706210-8711-4427-ab7e-17e67374a053": {
     "id": "68706210-8711-4427-ab7e-17e67374a053",
     "prev": "eb858fd5-6105-4870-98c5-8e7575463655",
     "regions": {
      "af782b64-a71d-460d-afc1-8ded4f5d64e6": {
       "attrs": {
        "height": 0.8,
        "width": 0.8,
        "x": 0.1,
        "y": 0.1
       },
       "content": {
        "cell": "818cfda9-5e7e-4538-8cc2-9162057cb66d",
        "part": "whole"
       },
       "id": "af782b64-a71d-460d-afc1-8ded4f5d64e6"
      }
     }
    },
    "6aa78adf-389f-417c-a734-a1f5b87c742f": {
     "id": "6aa78adf-389f-417c-a734-a1f5b87c742f",
     "prev": "77d5ca95-dd3d-4697-a516-26e67310b50b",
     "regions": {
      "b1d1f278-210b-45cc-bb06-7586a26ac1b0": {
       "attrs": {
        "height": 0.8,
        "width": 0.8,
        "x": 0.1,
        "y": 0.1
       },
       "content": {
        "cell": "31a73fb5-9414-4219-a71a-c61154e0ece7",
        "part": "whole"
       },
       "id": "b1d1f278-210b-45cc-bb06-7586a26ac1b0"
      }
     }
    },
    "6b529603-bf14-4764-9d74-d8858232503b": {
     "id": "6b529603-bf14-4764-9d74-d8858232503b",
     "prev": "c8474955-5b01-4801-b010-8a50b13b089a",
     "regions": {
      "60d96ef1-0085-4d73-9ea5-72bb69e25e33": {
       "attrs": {
        "height": 0.8,
        "width": 0.8,
        "x": 0.1,
        "y": 0.1
       },
       "content": {
        "cell": "51ebe0aa-aecb-4b32-8f68-3685b554b74f",
        "part": "whole"
       },
       "id": "60d96ef1-0085-4d73-9ea5-72bb69e25e33"
      }
     }
    },
    "6d79d43a-cc21-4823-9bce-144e5df0aa29": {
     "id": "6d79d43a-cc21-4823-9bce-144e5df0aa29",
     "prev": "68706210-8711-4427-ab7e-17e67374a053",
     "regions": {
      "170fd763-9f93-4d48-bdf6-55645716ab28": {
       "attrs": {
        "height": 0.8,
        "width": 0.8,
        "x": 0.1,
        "y": 0.1
       },
       "content": {
        "cell": "49d9b827-8e6b-4cca-a04a-475705e7aedf",
        "part": "whole"
       },
       "id": "170fd763-9f93-4d48-bdf6-55645716ab28"
      }
     }
    },
    "6e65ca7c-7b7e-4691-935d-1b4579d1c5f7": {
     "id": "6e65ca7c-7b7e-4691-935d-1b4579d1c5f7",
     "prev": "bacab91e-b98b-4bc1-8a8e-5fbd3fa81e0b",
     "regions": {
      "ae7f8d88-d665-493c-a98e-95c9b8e4fb06": {
       "attrs": {
        "height": 0.8,
        "width": 0.8,
        "x": 0.1,
        "y": 0.1
       },
       "content": {
        "cell": "df7e16bc-a380-4c20-b70d-8a7e83b49272",
        "part": "whole"
       },
       "id": "ae7f8d88-d665-493c-a98e-95c9b8e4fb06"
      }
     }
    },
    "6f0dbd89-6cc4-4d26-a07c-c15438abd02f": {
     "id": "6f0dbd89-6cc4-4d26-a07c-c15438abd02f",
     "prev": "5b63e1e4-93ce-4a4b-82d4-a70cde0f7800",
     "regions": {
      "dc5038f0-7e43-4911-bbc2-ef4073ca1ad3": {
       "attrs": {
        "height": 0.8,
        "width": 0.8,
        "x": 0.1,
        "y": 0.1
       },
       "content": {
        "cell": "aa055f7c-6618-4fa0-bf3a-0a2ff2f58b0b",
        "part": "whole"
       },
       "id": "dc5038f0-7e43-4911-bbc2-ef4073ca1ad3"
      }
     }
    },
    "6fc5cb1c-c64b-4c1d-a4f5-d2157ff154de": {
     "id": "6fc5cb1c-c64b-4c1d-a4f5-d2157ff154de",
     "prev": "0c7faaaa-c480-4458-841f-be10a9783b97",
     "regions": {
      "082588fb-6d93-43de-8231-59b79303ce03": {
       "attrs": {
        "height": 0.8,
        "width": 0.8,
        "x": 0.1,
        "y": 0.1
       },
       "content": {
        "cell": "67030e4e-601a-428c-b59a-0fa9bbc93db8",
        "part": "whole"
       },
       "id": "082588fb-6d93-43de-8231-59b79303ce03"
      }
     }
    },
    "7068e916-9b88-42af-ab42-241e08d5e530": {
     "id": "7068e916-9b88-42af-ab42-241e08d5e530",
     "prev": "e800e931-d55f-41ab-9d2e-7c3844c6d5c8",
     "regions": {
      "f593a884-b027-4919-8c07-b1966637ce43": {
       "attrs": {
        "height": 0.8,
        "width": 0.8,
        "x": 0.1,
        "y": 0.1
       },
       "content": {
        "cell": "f07c33f1-bda3-4e74-a511-75f3501b96ab",
        "part": "whole"
       },
       "id": "f593a884-b027-4919-8c07-b1966637ce43"
      }
     }
    },
    "724600f4-ee22-4b4a-93bd-f07e70b6f277": {
     "id": "724600f4-ee22-4b4a-93bd-f07e70b6f277",
     "prev": "9bb96691-5177-470b-8b26-745529f044d8",
     "regions": {
      "7bd9ccd2-87e1-4f42-8a9d-45046289630d": {
       "attrs": {
        "height": 0.8,
        "width": 0.8,
        "x": 0.1,
        "y": 0.1
       },
       "content": {
        "cell": "26ae7aa9-e4e6-42e5-a616-51c53683025f",
        "part": "whole"
       },
       "id": "7bd9ccd2-87e1-4f42-8a9d-45046289630d"
      }
     }
    },
    "727a7679-b66b-477f-a3eb-4da1c01fe4a4": {
     "id": "727a7679-b66b-477f-a3eb-4da1c01fe4a4",
     "prev": "c634e298-e183-4167-b6c6-15cca124d9ff",
     "regions": {
      "1de2a9a8-3d6c-43c6-aa20-9f214e17a606": {
       "attrs": {
        "height": 0.8,
        "width": 0.8,
        "x": 0.1,
        "y": 0.1
       },
       "content": {
        "cell": "02e8e935-bd34-4dfc-98a4-23ea3d26cb4e",
        "part": "whole"
       },
       "id": "1de2a9a8-3d6c-43c6-aa20-9f214e17a606"
      }
     }
    },
    "7329b472-9855-4fc3-8bc6-c7949e3b1bba": {
     "id": "7329b472-9855-4fc3-8bc6-c7949e3b1bba",
     "prev": "0f42251f-53a8-41dd-9bc2-fdb72285849a",
     "regions": {
      "9a4673e8-1f43-4760-b09c-e0e0e34f060f": {
       "attrs": {
        "height": 0.8,
        "width": 0.8,
        "x": 0.1,
        "y": 0.1
       },
       "content": {
        "cell": "9cd0759d-aaa7-468b-9f30-89ee8d48c722",
        "part": "whole"
       },
       "id": "9a4673e8-1f43-4760-b09c-e0e0e34f060f"
      }
     }
    },
    "751ff3c8-be47-4df7-831c-fb9a2552c7ba": {
     "id": "751ff3c8-be47-4df7-831c-fb9a2552c7ba",
     "prev": "be70cb50-f66f-4d00-9370-484e14659be9",
     "regions": {
      "a19ccd97-be08-44d8-833f-16474a866c38": {
       "attrs": {
        "height": 0.8,
        "width": 0.8,
        "x": 0.1,
        "y": 0.1
       },
       "content": {
        "cell": "99a4cd1f-7504-4987-a8e2-74c703c3d35b",
        "part": "whole"
       },
       "id": "a19ccd97-be08-44d8-833f-16474a866c38"
      }
     }
    },
    "763e8ecb-174c-4ad8-8e6d-bd9515755809": {
     "id": "763e8ecb-174c-4ad8-8e6d-bd9515755809",
     "prev": "aa6f64ea-93e2-4aca-94a3-ea3bb7a32ec5",
     "regions": {
      "23200ffb-48cd-4be5-aaf3-480c179b77e3": {
       "attrs": {
        "height": 0.8,
        "width": 0.8,
        "x": 0.1,
        "y": 0.1
       },
       "content": {
        "cell": "e55033aa-7aac-4575-9484-68890fd10a51",
        "part": "whole"
       },
       "id": "23200ffb-48cd-4be5-aaf3-480c179b77e3"
      }
     }
    },
    "77d5ca95-dd3d-4697-a516-26e67310b50b": {
     "id": "77d5ca95-dd3d-4697-a516-26e67310b50b",
     "prev": "26c6622c-da63-49e7-859e-92b3f2fe113f",
     "regions": {
      "11edc6a5-8892-4660-b0cf-cba443fc93f5": {
       "attrs": {
        "height": 0.8,
        "width": 0.8,
        "x": 0.1,
        "y": 0.1
       },
       "content": {
        "cell": "1e8b40d3-2d6d-4305-af45-70ed6365defe",
        "part": "whole"
       },
       "id": "11edc6a5-8892-4660-b0cf-cba443fc93f5"
      }
     }
    },
    "7af00b07-be48-4744-974a-7416143aab1d": {
     "id": "7af00b07-be48-4744-974a-7416143aab1d",
     "prev": "38ef29fd-7f95-4019-b383-21dcb9e8a41a",
     "regions": {
      "c4bc9f06-4b0c-40bb-a400-ef2d39a4304d": {
       "attrs": {
        "height": 0.8,
        "width": 0.8,
        "x": 0.1,
        "y": 0.1
       },
       "content": {
        "cell": "715c26cb-10c5-4452-86df-f03615aacf0e",
        "part": "whole"
       },
       "id": "c4bc9f06-4b0c-40bb-a400-ef2d39a4304d"
      }
     }
    },
    "7c8ccd39-9692-4e5c-a035-e54f319d427d": {
     "id": "7c8ccd39-9692-4e5c-a035-e54f319d427d",
     "prev": "fd4d5e03-d831-4ba4-9099-bcd1214cf73c",
     "regions": {
      "30c0a967-77a6-421a-9e98-17bba62cf7e6": {
       "attrs": {
        "height": 0.8,
        "width": 0.8,
        "x": 0.1,
        "y": 0.1
       },
       "content": {
        "cell": "cccde506-b865-4c46-a055-40e68da3e9ea",
        "part": "whole"
       },
       "id": "30c0a967-77a6-421a-9e98-17bba62cf7e6"
      }
     }
    },
    "7c943925-4233-48ea-8a78-9977f9ae4707": {
     "id": "7c943925-4233-48ea-8a78-9977f9ae4707",
     "prev": "164f4106-aeee-41a5-89ce-7d92f582da62",
     "regions": {
      "08cf422b-c18c-4d3e-9e11-1fe9e008fe0c": {
       "attrs": {
        "height": 0.8,
        "width": 0.8,
        "x": 0.1,
        "y": 0.1
       },
       "content": {
        "cell": "474feb8b-61c8-4550-905c-ee7d28125f77",
        "part": "whole"
       },
       "id": "08cf422b-c18c-4d3e-9e11-1fe9e008fe0c"
      }
     }
    },
    "7d6fe83e-44b9-4395-9d82-3cb9862c5a70": {
     "id": "7d6fe83e-44b9-4395-9d82-3cb9862c5a70",
     "prev": "2e91e284-3413-4876-81e1-227ea9977bbb",
     "regions": {
      "e072c584-f80d-4c46-87d7-b3cdea9cec40": {
       "attrs": {
        "height": 0.8,
        "width": 0.8,
        "x": 0.1,
        "y": 0.1
       },
       "content": {
        "cell": "45e527d5-16e7-48bb-9d5b-ee9e086cc330",
        "part": "whole"
       },
       "id": "e072c584-f80d-4c46-87d7-b3cdea9cec40"
      }
     }
    },
    "8186b7c5-4f2a-4476-8f86-3aabb3e45a03": {
     "id": "8186b7c5-4f2a-4476-8f86-3aabb3e45a03",
     "prev": "40a008c5-b5b0-4aea-9eae-80853b2e378f",
     "regions": {
      "cc8ae870-898d-4a1e-b23d-c2150d10cd94": {
       "attrs": {
        "height": 0.8,
        "width": 0.8,
        "x": 0.1,
        "y": 0.1
       },
       "content": {
        "cell": "f0324670-acb4-49e2-9851-0f018fbaa119",
        "part": "whole"
       },
       "id": "cc8ae870-898d-4a1e-b23d-c2150d10cd94"
      }
     }
    },
    "826567e7-f911-457c-9c66-33a6818b4372": {
     "id": "826567e7-f911-457c-9c66-33a6818b4372",
     "prev": "db3440da-283c-474d-a067-f7b1df3b98ec",
     "regions": {
      "eebf631f-2045-4a15-9a9f-b4a212acba4c": {
       "attrs": {
        "height": 0.8,
        "width": 0.8,
        "x": 0.1,
        "y": 0.1
       },
       "content": {
        "cell": "f9c1a5db-bcb3-4f6a-b3c1-d3283465281b",
        "part": "whole"
       },
       "id": "eebf631f-2045-4a15-9a9f-b4a212acba4c"
      }
     }
    },
    "82ceb8fb-762f-4d23-a5c4-8956c38bd96a": {
     "id": "82ceb8fb-762f-4d23-a5c4-8956c38bd96a",
     "prev": "6d79d43a-cc21-4823-9bce-144e5df0aa29",
     "regions": {
      "3331488c-0581-47ca-8a68-7ac018da14a4": {
       "attrs": {
        "height": 0.8,
        "width": 0.8,
        "x": 0.1,
        "y": 0.1
       },
       "content": {
        "cell": "efe82c6c-22ca-4fb6-a12d-3cb094e9f239",
        "part": "whole"
       },
       "id": "3331488c-0581-47ca-8a68-7ac018da14a4"
      }
     }
    },
    "84bf0a29-8d06-44c9-a642-0e763d52ad97": {
     "id": "84bf0a29-8d06-44c9-a642-0e763d52ad97",
     "prev": "4646d4a3-5805-436c-9c87-c23d50cbbde0",
     "regions": {
      "399bbef9-122c-44db-9e43-44416b6d12c0": {
       "attrs": {
        "height": 0.8,
        "width": 0.8,
        "x": 0.1,
        "y": 0.1
       },
       "content": {
        "cell": "4cdb40a5-0c2a-4b78-ad80-f7361c609982",
        "part": "whole"
       },
       "id": "399bbef9-122c-44db-9e43-44416b6d12c0"
      }
     }
    },
    "86d1a8a7-8788-4f43-a301-a301d5d424a4": {
     "id": "86d1a8a7-8788-4f43-a301-a301d5d424a4",
     "prev": "f08d9a20-49b7-430e-8fc9-52e924265a17",
     "regions": {
      "cbe6617e-8a05-4e8a-b4c1-4483003c0249": {
       "attrs": {
        "height": 0.8,
        "width": 0.8,
        "x": 0.1,
        "y": 0.1
       },
       "content": {
        "cell": "2e8cb85c-50e6-45c1-bc97-8c89a87d1b9f",
        "part": "whole"
       },
       "id": "cbe6617e-8a05-4e8a-b4c1-4483003c0249"
      }
     }
    },
    "877d7953-86e4-460b-b9bb-7d2786972315": {
     "id": "877d7953-86e4-460b-b9bb-7d2786972315",
     "prev": "baf5f6f3-1175-4b5c-a175-8b6fde1331d5",
     "regions": {
      "a95d3a8e-8a50-46d1-bd7c-a1b3d6bd0bf8": {
       "attrs": {
        "height": 0.8,
        "width": 0.8,
        "x": 0.1,
        "y": 0.1
       },
       "content": {
        "cell": "503b2860-053d-497e-84b3-ffd20b6cd2a4",
        "part": "whole"
       },
       "id": "a95d3a8e-8a50-46d1-bd7c-a1b3d6bd0bf8"
      }
     }
    },
    "8a4ecb66-ac57-47da-87db-492de014472c": {
     "id": "8a4ecb66-ac57-47da-87db-492de014472c",
     "prev": "26da53f9-9672-48af-afaf-6c2836cddbf0",
     "regions": {
      "cba95cc7-8fc7-4903-a99e-6cd860dc6469": {
       "attrs": {
        "height": 0.8,
        "width": 0.8,
        "x": 0.1,
        "y": 0.1
       },
       "content": {
        "cell": "445daafd-8419-4172-93cb-4ba6a3049575",
        "part": "whole"
       },
       "id": "cba95cc7-8fc7-4903-a99e-6cd860dc6469"
      }
     }
    },
    "8b9d01c5-50e0-4044-a15d-35d557354f00": {
     "id": "8b9d01c5-50e0-4044-a15d-35d557354f00",
     "prev": "28aabf98-d5eb-41ac-96e5-0e740b50551a",
     "regions": {
      "5a3a4682-44f2-4636-97a0-2bf9532d2a39": {
       "attrs": {
        "height": 0.8,
        "width": 0.8,
        "x": 0.1,
        "y": 0.1
       },
       "content": {
        "cell": "c780f724-c2aa-4acb-b4c5-140d70e969e3",
        "part": "whole"
       },
       "id": "5a3a4682-44f2-4636-97a0-2bf9532d2a39"
      }
     }
    },
    "8d5496f8-66f4-42bf-b911-e972135ac4ad": {
     "id": "8d5496f8-66f4-42bf-b911-e972135ac4ad",
     "prev": "977787f3-4294-4361-af08-c01aaf636316",
     "regions": {
      "34279d74-3048-49e1-a9a6-c2a4b4ba4e7d": {
       "attrs": {
        "height": 0.8,
        "width": 0.8,
        "x": 0.1,
        "y": 0.1
       },
       "content": {
        "cell": "0247c343-4008-4fee-9fbd-895a67991d46",
        "part": "whole"
       },
       "id": "34279d74-3048-49e1-a9a6-c2a4b4ba4e7d"
      }
     }
    },
    "8d92a7b3-3bfb-4693-902d-584354358fa9": {
     "id": "8d92a7b3-3bfb-4693-902d-584354358fa9",
     "prev": "ee4545ab-cf12-4636-bc70-eb51750c9000",
     "regions": {
      "90feda86-6d8d-4a22-b28e-1ea5a74f898e": {
       "attrs": {
        "height": 0.8,
        "width": 0.8,
        "x": 0.1,
        "y": 0.1
       },
       "content": {
        "cell": "2e400f02-a2e0-437d-b69b-6f568c658cb4",
        "part": "whole"
       },
       "id": "90feda86-6d8d-4a22-b28e-1ea5a74f898e"
      }
     }
    },
    "9072552e-c292-44a8-90f2-671ee079724c": {
     "id": "9072552e-c292-44a8-90f2-671ee079724c",
     "prev": "21d97ff0-5570-4195-bf74-ffb0039f7359",
     "regions": {
      "87fea3ef-a806-4f62-852b-4a7bccb247bb": {
       "attrs": {
        "height": 0.8,
        "width": 0.8,
        "x": 0.1,
        "y": 0.1
       },
       "content": {
        "cell": "3897ff2b-8a6a-472f-8b80-c920e769098b",
        "part": "whole"
       },
       "id": "87fea3ef-a806-4f62-852b-4a7bccb247bb"
      }
     }
    },
    "91d67234-de2b-44e4-94f5-419c7c56a31a": {
     "id": "91d67234-de2b-44e4-94f5-419c7c56a31a",
     "prev": "6b529603-bf14-4764-9d74-d8858232503b",
     "regions": {
      "24475a1f-a73e-47a8-9287-5c363b749e78": {
       "attrs": {
        "height": 0.8,
        "width": 0.8,
        "x": 0.1,
        "y": 0.1
       },
       "content": {
        "cell": "4f7e076b-389d-43b6-bd4a-9ce8f6e85864",
        "part": "whole"
       },
       "id": "24475a1f-a73e-47a8-9287-5c363b749e78"
      }
     }
    },
    "939dc35a-1d14-4799-8762-233df8daad34": {
     "id": "939dc35a-1d14-4799-8762-233df8daad34",
     "prev": "484c6fd0-992c-4012-826a-3e8b69694e46",
     "regions": {
      "1b39e962-36c6-4739-a722-7db9211f6c33": {
       "attrs": {
        "height": 0.8,
        "width": 0.8,
        "x": 0.1,
        "y": 0.1
       },
       "content": {
        "cell": "30a393e6-93d1-4a6e-9353-38e32ce415d8",
        "part": "whole"
       },
       "id": "1b39e962-36c6-4739-a722-7db9211f6c33"
      }
     }
    },
    "95dde429-fa1d-49dc-a95c-28b09da62367": {
     "id": "95dde429-fa1d-49dc-a95c-28b09da62367",
     "prev": "1048b854-84f4-4deb-b694-45d97970634f",
     "regions": {
      "101d2480-b036-48eb-9e57-cee656918a0c": {
       "attrs": {
        "height": 0.8,
        "width": 0.8,
        "x": 0.1,
        "y": 0.1
       },
       "content": {
        "cell": "24fec448-995f-4640-8a8b-afa524ae8d8f",
        "part": "whole"
       },
       "id": "101d2480-b036-48eb-9e57-cee656918a0c"
      }
     }
    },
    "961822d7-5d7f-4a2e-add7-cfd8e514dd30": {
     "id": "961822d7-5d7f-4a2e-add7-cfd8e514dd30",
     "prev": "5a3d3a83-f9f9-4ca0-9e8f-8c50425eae40",
     "regions": {
      "c8e6b4cc-0f75-44cb-b825-9e47251eafc2": {
       "attrs": {
        "height": 0.8,
        "width": 0.8,
        "x": 0.1,
        "y": 0.1
       },
       "content": {
        "cell": "1fa06fdc-f17f-4cf5-bf5d-641a79820e66",
        "part": "whole"
       },
       "id": "c8e6b4cc-0f75-44cb-b825-9e47251eafc2"
      }
     }
    },
    "977787f3-4294-4361-af08-c01aaf636316": {
     "id": "977787f3-4294-4361-af08-c01aaf636316",
     "prev": "727a7679-b66b-477f-a3eb-4da1c01fe4a4",
     "regions": {
      "d5ee6ca2-ac66-4762-9b97-822bb47ce502": {
       "attrs": {
        "height": 0.8,
        "width": 0.8,
        "x": 0.1,
        "y": 0.1
       },
       "content": {
        "cell": "4d608c9f-b29c-485c-8d1b-49d63a92fd12",
        "part": "whole"
       },
       "id": "d5ee6ca2-ac66-4762-9b97-822bb47ce502"
      }
     }
    },
    "9bb96691-5177-470b-8b26-745529f044d8": {
     "id": "9bb96691-5177-470b-8b26-745529f044d8",
     "prev": "7329b472-9855-4fc3-8bc6-c7949e3b1bba",
     "regions": {
      "3a225497-526a-4758-b976-e67b9a591acd": {
       "attrs": {
        "height": 0.8,
        "width": 0.8,
        "x": 0.1,
        "y": 0.1
       },
       "content": {
        "cell": "85937f8b-5470-4323-8059-ca5dd164dbd9",
        "part": "whole"
       },
       "id": "3a225497-526a-4758-b976-e67b9a591acd"
      }
     }
    },
    "9d7534a2-6bf4-4fb0-b4ce-4edf5edd5481": {
     "id": "9d7534a2-6bf4-4fb0-b4ce-4edf5edd5481",
     "prev": "d2a1cd2e-fe4d-40b3-8b65-54e3746e32de",
     "regions": {
      "1b8b0fcd-4850-44e8-af4f-9b91f58401a4": {
       "attrs": {
        "height": 0.8,
        "width": 0.8,
        "x": 0.1,
        "y": 0.1
       },
       "content": {
        "cell": "311afd61-1ce6-4207-93a5-31eed4e3d862",
        "part": "whole"
       },
       "id": "1b8b0fcd-4850-44e8-af4f-9b91f58401a4"
      }
     }
    },
    "9d9075ba-ce90-4a1a-a81b-375c4234fcc9": {
     "id": "9d9075ba-ce90-4a1a-a81b-375c4234fcc9",
     "prev": "aa6d2a7e-08fc-4c8b-8c2a-e916628198d6",
     "regions": {
      "b63cbfbc-bc77-4c91-89d2-08190a49fff3": {
       "attrs": {
        "height": 0.8,
        "width": 0.8,
        "x": 0.1,
        "y": 0.1
       },
       "content": {
        "cell": "a6fa5f13-1d94-45ee-9faa-69aefc5865df",
        "part": "whole"
       },
       "id": "b63cbfbc-bc77-4c91-89d2-08190a49fff3"
      }
     }
    },
    "9dfd1a47-6e92-406e-b151-89ca680cc1d7": {
     "id": "9dfd1a47-6e92-406e-b151-89ca680cc1d7",
     "prev": "67f9c82f-5b61-4659-9306-7ef379cafaac",
     "regions": {
      "60968517-2bbf-41ab-9368-c29683b2541d": {
       "attrs": {
        "height": 0.8,
        "width": 0.8,
        "x": 0.1,
        "y": 0.1
       },
       "content": {
        "cell": "5d29fb6a-7470-4f9e-b168-b4e879cc7130",
        "part": "whole"
       },
       "id": "60968517-2bbf-41ab-9368-c29683b2541d"
      }
     }
    },
    "a1593bb7-4004-4c8f-aa04-daa4f880a79f": {
     "id": "a1593bb7-4004-4c8f-aa04-daa4f880a79f",
     "prev": "7d6fe83e-44b9-4395-9d82-3cb9862c5a70",
     "regions": {
      "caaf4ba5-701a-4e23-98cf-d9f0686e27a0": {
       "attrs": {
        "height": 0.8,
        "width": 0.8,
        "x": 0.1,
        "y": 0.1
       },
       "content": {
        "cell": "52c4a0fc-0a19-41bf-b17b-a187eafc0c43",
        "part": "whole"
       },
       "id": "caaf4ba5-701a-4e23-98cf-d9f0686e27a0"
      }
     }
    },
    "a1704518-127d-4dd5-bf9d-0cec1df2f156": {
     "id": "a1704518-127d-4dd5-bf9d-0cec1df2f156",
     "prev": "f91107c8-ee3a-4026-b4ea-12c6143ee059",
     "regions": {
      "8804c703-c594-461f-bbc3-9cd826b0ec08": {
       "attrs": {
        "height": 0.8,
        "width": 0.8,
        "x": 0.1,
        "y": 0.1
       },
       "content": {
        "cell": "bbb50c30-c807-4c82-b2ff-cdf5795f7091",
        "part": "whole"
       },
       "id": "8804c703-c594-461f-bbc3-9cd826b0ec08"
      }
     }
    },
    "a1ad00bc-8046-4d7b-9560-3998dd022892": {
     "id": "a1ad00bc-8046-4d7b-9560-3998dd022892",
     "prev": "bbadd292-3ed6-4c52-91f2-c3882d2b2c80",
     "regions": {
      "e6386843-1a08-4d88-8b45-4db9e30b3596": {
       "attrs": {
        "height": 0.8,
        "width": 0.8,
        "x": 0.1,
        "y": 0.1
       },
       "content": {
        "cell": "8f4fb3d5-cc62-41dd-ad08-e9dd18b0cd10",
        "part": "whole"
       },
       "id": "e6386843-1a08-4d88-8b45-4db9e30b3596"
      }
     }
    },
    "a1e2e04e-b131-4b9a-8f58-12aee5222623": {
     "id": "a1e2e04e-b131-4b9a-8f58-12aee5222623",
     "prev": "f00ce53a-6f89-4b0f-8420-01b1c2424131",
     "regions": {
      "0456569a-9268-4014-8dde-19e94394bd96": {
       "attrs": {
        "height": 0.8,
        "width": 0.8,
        "x": 0.1,
        "y": 0.1
       },
       "content": {
        "cell": "6ed7e431-1bc5-4085-a6da-c9f1ecd66b50",
        "part": "whole"
       },
       "id": "0456569a-9268-4014-8dde-19e94394bd96"
      }
     }
    },
    "a271c0c5-d7c5-4b93-9296-5f124d79f3fa": {
     "id": "a271c0c5-d7c5-4b93-9296-5f124d79f3fa",
     "prev": "3a5594c6-df33-4abc-a0f7-a3ea5fbaf19b",
     "regions": {
      "22f21be7-65d5-4221-bdd5-ed5d2ec65c75": {
       "attrs": {
        "height": 0.8,
        "width": 0.8,
        "x": 0.1,
        "y": 0.1
       },
       "content": {
        "cell": "7e24db87-32d8-48c0-b0ea-e3ce86275571",
        "part": "whole"
       },
       "id": "22f21be7-65d5-4221-bdd5-ed5d2ec65c75"
      }
     }
    },
    "a37c12e3-58b5-4899-a732-16c8b23d25c1": {
     "id": "a37c12e3-58b5-4899-a732-16c8b23d25c1",
     "prev": "5e3f9ed9-5af8-4475-a6d7-c14e52b0b09a",
     "regions": {
      "757a6f0a-fae8-4369-bc51-e498896bdeee": {
       "attrs": {
        "height": 0.8,
        "width": 0.8,
        "x": 0.1,
        "y": 0.1
       },
       "content": {
        "cell": "940b0655-73dc-44f3-a9b2-80209bfb56ca",
        "part": "whole"
       },
       "id": "757a6f0a-fae8-4369-bc51-e498896bdeee"
      }
     }
    },
    "a6999320-798e-4779-bf49-2bdee363ea74": {
     "id": "a6999320-798e-4779-bf49-2bdee363ea74",
     "prev": "fb9a0cd9-f507-4b41-8b5a-88ccd490e801",
     "regions": {
      "21580f0d-0343-4f0b-a468-e64cd5ba730b": {
       "attrs": {
        "height": 0.8,
        "width": 0.8,
        "x": 0.1,
        "y": 0.1
       },
       "content": {
        "cell": "9c639cd7-886b-408b-81c9-2a48ce036585",
        "part": "whole"
       },
       "id": "21580f0d-0343-4f0b-a468-e64cd5ba730b"
      }
     }
    },
    "aa6d2a7e-08fc-4c8b-8c2a-e916628198d6": {
     "id": "aa6d2a7e-08fc-4c8b-8c2a-e916628198d6",
     "prev": "b517c37f-1af3-420d-9803-cfceeb341c76",
     "regions": {
      "fb7c386d-422a-4d99-94ea-40ef281f3519": {
       "attrs": {
        "height": 0.8,
        "width": 0.8,
        "x": 0.1,
        "y": 0.1
       },
       "content": {
        "cell": "fbcd6f53-7488-4a8d-bf08-504b980198fd",
        "part": "whole"
       },
       "id": "fb7c386d-422a-4d99-94ea-40ef281f3519"
      }
     }
    },
    "aa6f64ea-93e2-4aca-94a3-ea3bb7a32ec5": {
     "id": "aa6f64ea-93e2-4aca-94a3-ea3bb7a32ec5",
     "prev": "636b1949-7cf0-4298-8d57-e0a05c7fb169",
     "regions": {
      "a6721a4e-71f1-4277-8fac-b10b432b4300": {
       "attrs": {
        "height": 0.8,
        "width": 0.8,
        "x": 0.1,
        "y": 0.1
       },
       "content": {
        "cell": "405fbe7f-af18-44d4-8b20-6ae9876dff8b",
        "part": "whole"
       },
       "id": "a6721a4e-71f1-4277-8fac-b10b432b4300"
      }
     }
    },
    "abb4d329-313d-4ccb-93ae-524b15cbaf2c": {
     "id": "abb4d329-313d-4ccb-93ae-524b15cbaf2c",
     "prev": "f2698cdf-a61b-48b9-bc0d-dbc0fa0f9715",
     "regions": {
      "5d8ecefc-649b-4914-8981-bac011f356e1": {
       "attrs": {
        "height": 0.8,
        "width": 0.8,
        "x": 0.1,
        "y": 0.1
       },
       "content": {
        "cell": "ca197ddc-1a5d-4b9e-b772-723a01ef389c",
        "part": "whole"
       },
       "id": "5d8ecefc-649b-4914-8981-bac011f356e1"
      }
     }
    },
    "abc96155-4907-456f-a961-8dfc1993acb0": {
     "id": "abc96155-4907-456f-a961-8dfc1993acb0",
     "prev": "9dfd1a47-6e92-406e-b151-89ca680cc1d7",
     "regions": {
      "ef1d553d-5a12-4aa9-b956-03974655ada6": {
       "attrs": {
        "height": 0.8,
        "width": 0.8,
        "x": 0.1,
        "y": 0.1
       },
       "content": {
        "cell": "d3d9477f-f8c7-418a-abb5-1fcdbb4e735b",
        "part": "whole"
       },
       "id": "ef1d553d-5a12-4aa9-b956-03974655ada6"
      }
     }
    },
    "ae3bdec4-825c-44e4-b0ee-905d555adaf7": {
     "id": "ae3bdec4-825c-44e4-b0ee-905d555adaf7",
     "prev": "6360d0d6-099f-476a-b7de-fbba3b966fcb",
     "regions": {
      "7538ef4e-75bd-4889-92a7-97a6e05150f8": {
       "attrs": {
        "height": 0.8,
        "width": 0.8,
        "x": 0.1,
        "y": 0.1
       },
       "content": {
        "cell": "911545bb-73ec-42c4-8650-c7b4ab62703d",
        "part": "whole"
       },
       "id": "7538ef4e-75bd-4889-92a7-97a6e05150f8"
      }
     }
    },
    "affa0d94-9d76-4c01-a62b-07ca7f34cc39": {
     "id": "affa0d94-9d76-4c01-a62b-07ca7f34cc39",
     "prev": "2703f0f8-dd79-43fd-91c9-06fa43685932",
     "regions": {
      "a4fbaf91-c7a1-47fd-9ff0-6d69272e74b3": {
       "attrs": {
        "height": 0.8,
        "width": 0.8,
        "x": 0.1,
        "y": 0.1
       },
       "content": {
        "cell": "b9896def-132b-4d0e-8cb3-62c21f2de95a",
        "part": "whole"
       },
       "id": "a4fbaf91-c7a1-47fd-9ff0-6d69272e74b3"
      }
     }
    },
    "b0c82fbc-eb33-4ae5-a65d-298822ba09b4": {
     "id": "b0c82fbc-eb33-4ae5-a65d-298822ba09b4",
     "prev": "86d1a8a7-8788-4f43-a301-a301d5d424a4",
     "regions": {
      "6b870b8c-6bec-4c60-b1fc-e80c7e1420e7": {
       "attrs": {
        "height": 0.8,
        "width": 0.8,
        "x": 0.1,
        "y": 0.1
       },
       "content": {
        "cell": "747082c9-7bed-4ece-98ef-8b0a124fb796",
        "part": "whole"
       },
       "id": "6b870b8c-6bec-4c60-b1fc-e80c7e1420e7"
      }
     }
    },
    "b35bbaf8-d31e-42e3-9c7c-ef199ee60586": {
     "id": "b35bbaf8-d31e-42e3-9c7c-ef199ee60586",
     "prev": "dda10071-f152-4c96-9d58-f688d6667561",
     "regions": {
      "b8cc9cbc-99ec-4bac-8ff7-35a7831d59e4": {
       "attrs": {
        "height": 0.8,
        "width": 0.8,
        "x": 0.1,
        "y": 0.1
       },
       "content": {
        "cell": "d047f5e9-6f79-409d-8405-2d367ab85710",
        "part": "whole"
       },
       "id": "b8cc9cbc-99ec-4bac-8ff7-35a7831d59e4"
      }
     }
    },
    "b517c37f-1af3-420d-9803-cfceeb341c76": {
     "id": "b517c37f-1af3-420d-9803-cfceeb341c76",
     "prev": "45d15646-80d2-4a58-9f5f-a9a3c54e902f",
     "regions": {
      "60958e52-0f2e-461b-a881-5469e6a2cdf0": {
       "attrs": {
        "height": 0.8,
        "width": 0.8,
        "x": 0.1,
        "y": 0.1
       },
       "content": {
        "cell": "1f5d2008-147b-47bc-ba6a-a38838f3d6db",
        "part": "whole"
       },
       "id": "60958e52-0f2e-461b-a881-5469e6a2cdf0"
      }
     }
    },
    "b57698b5-c633-424d-943c-82ffdc975c17": {
     "id": "b57698b5-c633-424d-943c-82ffdc975c17",
     "prev": "24536c88-7ef9-4463-93ab-586e7c9eac42",
     "regions": {
      "ec028a1e-97bf-473d-9b82-80dfa2b8254b": {
       "attrs": {
        "height": 0.8,
        "width": 0.8,
        "x": 0.1,
        "y": 0.1
       },
       "content": {
        "cell": "77263f9a-812e-4206-bae8-2fda931e83ba",
        "part": "whole"
       },
       "id": "ec028a1e-97bf-473d-9b82-80dfa2b8254b"
      }
     }
    },
    "b59f85ac-ac51-4750-93dd-98bb23dc3016": {
     "id": "b59f85ac-ac51-4750-93dd-98bb23dc3016",
     "prev": null,
     "regions": {
      "73ae3398-a6f3-4bd7-b790-7f550ce4afa7": {
       "attrs": {
        "height": 0.8,
        "width": 0.8,
        "x": 0.1,
        "y": 0.1
       },
       "content": {
        "cell": "70cee897-67ce-48fc-b96d-6b9d72611a79",
        "part": "whole"
       },
       "id": "73ae3398-a6f3-4bd7-b790-7f550ce4afa7"
      }
     }
    },
    "b65d61bf-2dc7-47a1-93a6-4858ae8b47ed": {
     "id": "b65d61bf-2dc7-47a1-93a6-4858ae8b47ed",
     "prev": "b74804ea-434d-4edf-9c20-fb6a99a7edbf",
     "regions": {
      "acdc07ee-3ef8-4369-abba-fb9ff36e6cca": {
       "attrs": {
        "height": 0.8,
        "width": 0.8,
        "x": 0.1,
        "y": 0.1
       },
       "content": {
        "cell": "0d4242b7-702a-470f-b354-83251c06de20",
        "part": "whole"
       },
       "id": "acdc07ee-3ef8-4369-abba-fb9ff36e6cca"
      }
     }
    },
    "b74804ea-434d-4edf-9c20-fb6a99a7edbf": {
     "id": "b74804ea-434d-4edf-9c20-fb6a99a7edbf",
     "prev": "f6b9643b-02f4-4749-9a89-dd97a69e852e",
     "regions": {
      "0683a408-b329-44fc-9320-34e6a9856885": {
       "attrs": {
        "height": 0.8,
        "width": 0.8,
        "x": 0.1,
        "y": 0.1
       },
       "content": {
        "cell": "39df9171-6f5e-4dc3-9744-ba96e3231ea2",
        "part": "whole"
       },
       "id": "0683a408-b329-44fc-9320-34e6a9856885"
      }
     }
    },
    "b8ba8467-8e7d-4c38-a5c2-fb27b960cb39": {
     "id": "b8ba8467-8e7d-4c38-a5c2-fb27b960cb39",
     "prev": "6aa78adf-389f-417c-a734-a1f5b87c742f",
     "regions": {
      "ca816544-a5e8-4b84-8014-57a096d26443": {
       "attrs": {
        "height": 0.8,
        "width": 0.8,
        "x": 0.1,
        "y": 0.1
       },
       "content": {
        "cell": "8f0bf1f9-7a61-41ac-a55e-fa34b54afa89",
        "part": "whole"
       },
       "id": "ca816544-a5e8-4b84-8014-57a096d26443"
      }
     }
    },
    "bacab91e-b98b-4bc1-8a8e-5fbd3fa81e0b": {
     "id": "bacab91e-b98b-4bc1-8a8e-5fbd3fa81e0b",
     "prev": "b8ba8467-8e7d-4c38-a5c2-fb27b960cb39",
     "regions": {
      "25fae255-4751-4e48-b234-25c882fae7f2": {
       "attrs": {
        "height": 0.8,
        "width": 0.8,
        "x": 0.1,
        "y": 0.1
       },
       "content": {
        "cell": "6a391a82-79fa-4f67-8626-abfb79aa2cf5",
        "part": "whole"
       },
       "id": "25fae255-4751-4e48-b234-25c882fae7f2"
      }
     }
    },
    "baf5f6f3-1175-4b5c-a175-8b6fde1331d5": {
     "id": "baf5f6f3-1175-4b5c-a175-8b6fde1331d5",
     "prev": "4ce55192-089b-4eaf-a48f-7e7f87e4c38e",
     "regions": {
      "585f12b8-5343-4871-9dea-e3ad0f3bc02e": {
       "attrs": {
        "height": 0.8,
        "width": 0.8,
        "x": 0.1,
        "y": 0.1
       },
       "content": {
        "cell": "667ce818-5daf-4236-b9e9-06ef82aea0ef",
        "part": "whole"
       },
       "id": "585f12b8-5343-4871-9dea-e3ad0f3bc02e"
      }
     }
    },
    "bbadd292-3ed6-4c52-91f2-c3882d2b2c80": {
     "id": "bbadd292-3ed6-4c52-91f2-c3882d2b2c80",
     "prev": "751ff3c8-be47-4df7-831c-fb9a2552c7ba",
     "regions": {
      "3e18b312-6ef2-433a-9733-e70198d4ad58": {
       "attrs": {
        "height": 0.8,
        "width": 0.8,
        "x": 0.1,
        "y": 0.1
       },
       "content": {
        "cell": "8ec05b0e-487f-43be-8e77-f8201114cdf7",
        "part": "whole"
       },
       "id": "3e18b312-6ef2-433a-9733-e70198d4ad58"
      }
     }
    },
    "bd6c0997-74e3-484a-a05e-6dfb007a1d8b": {
     "id": "bd6c0997-74e3-484a-a05e-6dfb007a1d8b",
     "prev": "7af00b07-be48-4744-974a-7416143aab1d",
     "regions": {
      "ee071c22-aea5-4e53-975c-4fb374d35493": {
       "attrs": {
        "height": 0.8,
        "width": 0.8,
        "x": 0.1,
        "y": 0.1
       },
       "content": {
        "cell": "a283ef27-fafa-4505-b5ea-07e145059cde",
        "part": "whole"
       },
       "id": "ee071c22-aea5-4e53-975c-4fb374d35493"
      }
     }
    },
    "bda51ce8-6812-4272-915c-de305535ca82": {
     "id": "bda51ce8-6812-4272-915c-de305535ca82",
     "prev": "a1704518-127d-4dd5-bf9d-0cec1df2f156",
     "regions": {
      "bd88a7a4-b3e8-4292-9fef-054f2bbf067d": {
       "attrs": {
        "height": 0.8,
        "width": 0.8,
        "x": 0.1,
        "y": 0.1
       },
       "content": {
        "cell": "38516f85-953b-4ddd-94f8-ef2c800ee063",
        "part": "whole"
       },
       "id": "bd88a7a4-b3e8-4292-9fef-054f2bbf067d"
      }
     }
    },
    "be70cb50-f66f-4d00-9370-484e14659be9": {
     "id": "be70cb50-f66f-4d00-9370-484e14659be9",
     "prev": "b0c82fbc-eb33-4ae5-a65d-298822ba09b4",
     "regions": {
      "4ed43d5d-18bf-4be1-be67-30d98e5a2251": {
       "attrs": {
        "height": 0.8,
        "width": 0.8,
        "x": 0.1,
        "y": 0.1
       },
       "content": {
        "cell": "3d3a7d20-232b-4350-a677-958808acd5e5",
        "part": "whole"
       },
       "id": "4ed43d5d-18bf-4be1-be67-30d98e5a2251"
      }
     }
    },
    "bee07c5d-a5b5-48e5-8365-11685188fcc5": {
     "id": "bee07c5d-a5b5-48e5-8365-11685188fcc5",
     "prev": "f9250121-a56a-4bf8-b9b5-d6f27ef0df61",
     "regions": {
      "6196b68e-9390-47c8-9a2e-8ab40b58c3b2": {
       "attrs": {
        "height": 0.8,
        "width": 0.8,
        "x": 0.1,
        "y": 0.1
       },
       "content": {
        "cell": "721e47a7-41bf-49d9-9ce5-cd555f1c1e77",
        "part": "whole"
       },
       "id": "6196b68e-9390-47c8-9a2e-8ab40b58c3b2"
      }
     }
    },
    "bfb5992a-a6ac-4611-a72c-ebae8d42c479": {
     "id": "bfb5992a-a6ac-4611-a72c-ebae8d42c479",
     "prev": "2d49b151-6352-46d6-8c87-15da03cfd8b4",
     "regions": {
      "2a79fcd2-6a70-4d6c-9384-6eeda330999e": {
       "attrs": {
        "height": 0.8,
        "width": 0.8,
        "x": 0.1,
        "y": 0.1
       },
       "content": {
        "cell": "0f9ea5c5-2218-4ddd-8978-c650cd905c76",
        "part": "whole"
       },
       "id": "2a79fcd2-6a70-4d6c-9384-6eeda330999e"
      }
     }
    },
    "c0a08d00-1127-49fe-b09b-c2a1eea3447c": {
     "id": "c0a08d00-1127-49fe-b09b-c2a1eea3447c",
     "prev": "4c4f5849-cea4-430b-ae62-7d2428697cdb",
     "regions": {
      "27a1e377-966e-4ffe-877d-9f7f6b97c12a": {
       "attrs": {
        "height": 0.8,
        "width": 0.8,
        "x": 0.1,
        "y": 0.1
       },
       "content": {
        "cell": "a47b4638-0eb9-4766-b53f-8c305fd8b3c2",
        "part": "whole"
       },
       "id": "27a1e377-966e-4ffe-877d-9f7f6b97c12a"
      }
     }
    },
    "c44f7697-8d5c-475a-9705-2a45954f737e": {
     "id": "c44f7697-8d5c-475a-9705-2a45954f737e",
     "prev": "ff9ce38e-a874-44da-a962-d3a7adc9a5a6",
     "regions": {
      "1a73b86c-bdad-4143-a818-85d49503b9dc": {
       "attrs": {
        "height": 0.8,
        "width": 0.8,
        "x": 0.1,
        "y": 0.1
       },
       "content": {
        "cell": "a966ba68-2fac-4d30-86aa-1df33fabd8b6",
        "part": "whole"
       },
       "id": "1a73b86c-bdad-4143-a818-85d49503b9dc"
      }
     }
    },
    "c634e298-e183-4167-b6c6-15cca124d9ff": {
     "id": "c634e298-e183-4167-b6c6-15cca124d9ff",
     "prev": "410e80e3-90fb-4b31-90e7-abb4c09dc84b",
     "regions": {
      "49579d02-f18f-41c3-997c-00bb64949162": {
       "attrs": {
        "height": 0.8,
        "width": 0.8,
        "x": 0.1,
        "y": 0.1
       },
       "content": {
        "cell": "e6af05a8-4544-45b0-b2bd-261e9c8f06de",
        "part": "whole"
       },
       "id": "49579d02-f18f-41c3-997c-00bb64949162"
      }
     }
    },
    "c8474955-5b01-4801-b010-8a50b13b089a": {
     "id": "c8474955-5b01-4801-b010-8a50b13b089a",
     "prev": "26fed021-d324-49bd-9e6f-1c4e1ea0f71c",
     "regions": {
      "cc0eaf68-19cd-4f25-b403-d28bb1ea0244": {
       "attrs": {
        "height": 0.8,
        "width": 0.8,
        "x": 0.1,
        "y": 0.1
       },
       "content": {
        "cell": "cf2ee8e6-8b53-4383-bab7-ef58114551b6",
        "part": "whole"
       },
       "id": "cc0eaf68-19cd-4f25-b403-d28bb1ea0244"
      }
     }
    },
    "ca4a2840-e64c-43e9-a9a8-4b80a15dd141": {
     "id": "ca4a2840-e64c-43e9-a9a8-4b80a15dd141",
     "prev": "f158c4c0-56d4-4473-a478-84e24f808104",
     "regions": {
      "7a19e4cd-64ba-4292-b523-8cd8516dd712": {
       "attrs": {
        "height": 0.8,
        "width": 0.8,
        "x": 0.1,
        "y": 0.1
       },
       "content": {
        "cell": "1cc931eb-d95a-4eb3-908c-62d520f587cb",
        "part": "whole"
       },
       "id": "7a19e4cd-64ba-4292-b523-8cd8516dd712"
      }
     }
    },
    "cac1750e-0107-4059-b0c4-f050a1f51488": {
     "id": "cac1750e-0107-4059-b0c4-f050a1f51488",
     "prev": "45390110-8a88-410e-bb3f-6345f58d3a62",
     "regions": {
      "385d91b3-d062-4202-9924-ddd8773ee870": {
       "attrs": {
        "height": 0.8,
        "width": 0.8,
        "x": 0.1,
        "y": 0.1
       },
       "content": {
        "cell": "64309f2d-c25a-4d5f-9d8e-ea555d607ff0",
        "part": "whole"
       },
       "id": "385d91b3-d062-4202-9924-ddd8773ee870"
      }
     }
    },
    "d2a1cd2e-fe4d-40b3-8b65-54e3746e32de": {
     "id": "d2a1cd2e-fe4d-40b3-8b65-54e3746e32de",
     "prev": "307128ad-1a89-48fb-992e-e77e0b6332bf",
     "regions": {
      "c66e3c76-060c-4559-ab1f-562fda63c477": {
       "attrs": {
        "height": 0.8,
        "width": 0.8,
        "x": 0.1,
        "y": 0.1
       },
       "content": {
        "cell": "f45d1efc-5ef3-4c33-a675-bbf52e713d3f",
        "part": "whole"
       },
       "id": "c66e3c76-060c-4559-ab1f-562fda63c477"
      }
     }
    },
    "d30dfd65-9faa-4cb6-8261-aad7e32d154f": {
     "id": "d30dfd65-9faa-4cb6-8261-aad7e32d154f",
     "prev": "08be7e47-85be-454b-81be-0d05d3edf6f0",
     "regions": {
      "8f4d31b8-3067-4ec5-a7c5-4a6d1a234eac": {
       "attrs": {
        "height": 0.8,
        "width": 0.8,
        "x": 0.1,
        "y": 0.1
       },
       "content": {
        "cell": "a6a9ee91-1e7d-4196-bd63-6daa1b5c6b04",
        "part": "whole"
       },
       "id": "8f4d31b8-3067-4ec5-a7c5-4a6d1a234eac"
      }
     }
    },
    "d497b81b-0b9a-4300-b18a-e3b09cf5a247": {
     "id": "d497b81b-0b9a-4300-b18a-e3b09cf5a247",
     "prev": "4de5df67-af8e-4a42-bd2b-94842587ce02",
     "regions": {
      "1e7238ab-c6a3-4511-9a02-7ac1f36d62c5": {
       "attrs": {
        "height": 0.8,
        "width": 0.8,
        "x": 0.1,
        "y": 0.1
       },
       "content": {
        "cell": "73d5777d-b1d3-4336-988f-a09e45ed0a0f",
        "part": "whole"
       },
       "id": "1e7238ab-c6a3-4511-9a02-7ac1f36d62c5"
      }
     }
    },
    "d5435a0d-5ade-4ef9-8b8a-028c027ad997": {
     "id": "d5435a0d-5ade-4ef9-8b8a-028c027ad997",
     "prev": "e425fc2c-aa7e-44df-95fa-bc7df212ddc2",
     "regions": {
      "9584c0df-6c6c-4b85-85d1-c089317e588c": {
       "attrs": {
        "height": 0.8,
        "width": 0.8,
        "x": 0.1,
        "y": 0.1
       },
       "content": {
        "cell": "a73bd7fc-333c-42b0-8711-3d4b52dbaf62",
        "part": "whole"
       },
       "id": "9584c0df-6c6c-4b85-85d1-c089317e588c"
      }
     }
    },
    "d6bf9515-2d6b-4ed6-9c1b-5c1976a545c7": {
     "id": "d6bf9515-2d6b-4ed6-9c1b-5c1976a545c7",
     "prev": "1e095ef7-b8a5-44e2-a63c-445fb484f365",
     "regions": {
      "84e5b358-86b7-4389-b078-ac0d01a709d0": {
       "attrs": {
        "height": 0.8,
        "width": 0.8,
        "x": 0.1,
        "y": 0.1
       },
       "content": {
        "cell": "65ad2429-9be5-4c5b-a987-8d2093cdb852",
        "part": "whole"
       },
       "id": "84e5b358-86b7-4389-b078-ac0d01a709d0"
      }
     }
    },
    "db03c89f-f059-4bf5-9dd2-e1a69e9d0fea": {
     "id": "db03c89f-f059-4bf5-9dd2-e1a69e9d0fea",
     "prev": "e0c9a293-6940-40e3-9be5-828a2c77b486",
     "regions": {
      "3ae99592-41d4-4d5b-a641-b847e287ef8c": {
       "attrs": {
        "height": 0.8,
        "width": 0.8,
        "x": 0.1,
        "y": 0.1
       },
       "content": {
        "cell": "192a0455-0e3b-471d-a317-d9e17a71477f",
        "part": "whole"
       },
       "id": "3ae99592-41d4-4d5b-a641-b847e287ef8c"
      }
     }
    },
    "db3440da-283c-474d-a067-f7b1df3b98ec": {
     "id": "db3440da-283c-474d-a067-f7b1df3b98ec",
     "prev": "10196564-9633-4969-9710-dad3266b9954",
     "regions": {
      "53eff5aa-2392-47a4-9665-3f2d30b708c9": {
       "attrs": {
        "height": 0.8,
        "width": 0.8,
        "x": 0.1,
        "y": 0.1
       },
       "content": {
        "cell": "676201ad-1a13-45a8-ad41-3685618049b7",
        "part": "whole"
       },
       "id": "53eff5aa-2392-47a4-9665-3f2d30b708c9"
      }
     }
    },
    "dd9fe7d5-de5b-43fe-8a3e-19307f5b91fe": {
     "id": "dd9fe7d5-de5b-43fe-8a3e-19307f5b91fe",
     "prev": "fa3afab4-6ec6-4ba5-a93b-38425d811c42",
     "regions": {
      "55b04066-6c3f-4a56-9084-0ac956373888": {
       "attrs": {
        "height": 0.8,
        "width": 0.8,
        "x": 0.1,
        "y": 0.1
       },
       "content": {
        "cell": "1ccc8df6-4a5f-4a9d-a279-f9e41a6d4252",
        "part": "whole"
       },
       "id": "55b04066-6c3f-4a56-9084-0ac956373888"
      }
     }
    },
    "dda10071-f152-4c96-9d58-f688d6667561": {
     "id": "dda10071-f152-4c96-9d58-f688d6667561",
     "prev": "560e26a6-6d3e-4ae4-83c6-740ae8228466",
     "regions": {
      "db8f857b-ede9-40f9-8f03-ad0340d89003": {
       "attrs": {
        "height": 0.8,
        "width": 0.8,
        "x": 0.1,
        "y": 0.1
       },
       "content": {
        "cell": "8c5bc356-0cac-466e-94e9-07bdf654bcf7",
        "part": "whole"
       },
       "id": "db8f857b-ede9-40f9-8f03-ad0340d89003"
      }
     }
    },
    "e0c9a293-6940-40e3-9be5-828a2c77b486": {
     "id": "e0c9a293-6940-40e3-9be5-828a2c77b486",
     "prev": "ebd94a95-7028-4c2d-93a9-a989a4864819",
     "regions": {
      "9aa07e37-92fd-4c36-a45f-654135c9f0bc": {
       "attrs": {
        "height": 0.8,
        "width": 0.8,
        "x": 0.1,
        "y": 0.1
       },
       "content": {
        "cell": "9090d6a2-ea56-40dd-8e44-13a6f6af184e",
        "part": "whole"
       },
       "id": "9aa07e37-92fd-4c36-a45f-654135c9f0bc"
      }
     }
    },
    "e363a28b-d311-46fc-94fc-e4406f1585fa": {
     "id": "e363a28b-d311-46fc-94fc-e4406f1585fa",
     "prev": "bfb5992a-a6ac-4611-a72c-ebae8d42c479",
     "regions": {
      "b742b438-01b7-4ce4-89e1-6fc219609038": {
       "attrs": {
        "height": 0.8,
        "width": 0.8,
        "x": 0.1,
        "y": 0.1
       },
       "content": {
        "cell": "99a4fcb8-adce-46ca-8e44-aafd7ca01867",
        "part": "whole"
       },
       "id": "b742b438-01b7-4ce4-89e1-6fc219609038"
      }
     }
    },
    "e425fc2c-aa7e-44df-95fa-bc7df212ddc2": {
     "id": "e425fc2c-aa7e-44df-95fa-bc7df212ddc2",
     "prev": "59347f5c-e07d-4a99-8fcb-660a86805599",
     "regions": {
      "40a433a4-78fc-4e77-bdad-ca7cf13e44e9": {
       "attrs": {
        "height": 0.8,
        "width": 0.8,
        "x": 0.1,
        "y": 0.1
       },
       "content": {
        "cell": "b279bf17-ba69-42f4-9e45-19c96db25c56",
        "part": "whole"
       },
       "id": "40a433a4-78fc-4e77-bdad-ca7cf13e44e9"
      }
     }
    },
    "e6d06dda-5d83-4388-a601-4ff216f694a0": {
     "id": "e6d06dda-5d83-4388-a601-4ff216f694a0",
     "prev": "004b2311-bdd9-4ba9-b81e-8b06b3921b5e",
     "regions": {
      "045f9898-16e8-4a55-9c20-a8409cb7f091": {
       "attrs": {
        "height": 0.8,
        "width": 0.8,
        "x": 0.1,
        "y": 0.1
       },
       "content": {
        "cell": "7a43ca2c-5ae9-406c-a404-c481d763dfa7",
        "part": "whole"
       },
       "id": "045f9898-16e8-4a55-9c20-a8409cb7f091"
      }
     }
    },
    "e800e931-d55f-41ab-9d2e-7c3844c6d5c8": {
     "id": "e800e931-d55f-41ab-9d2e-7c3844c6d5c8",
     "prev": "0026a521-b5ea-4d4f-9fbf-ddd0ca393131",
     "regions": {
      "e2c7f190-49f4-40b8-8b8c-3fb571ed58b9": {
       "attrs": {
        "height": 0.8,
        "width": 0.8,
        "x": 0.1,
        "y": 0.1
       },
       "content": {
        "cell": "ae42ef0c-cabc-4da5-8c44-32f65d702464",
        "part": "whole"
       },
       "id": "e2c7f190-49f4-40b8-8b8c-3fb571ed58b9"
      }
     }
    },
    "e9dcf565-e49f-4a82-b36f-7b32798fd7dd": {
     "id": "e9dcf565-e49f-4a82-b36f-7b32798fd7dd",
     "prev": "16226639-a75c-46da-83e2-3effd3cda167",
     "regions": {
      "0204bdb8-bbce-461f-a4ee-9837f14176fe": {
       "attrs": {
        "height": 0.8,
        "width": 0.8,
        "x": 0.1,
        "y": 0.1
       },
       "content": {
        "cell": "7ffeb5e9-c828-44be-9985-7bf05d8c9554",
        "part": "whole"
       },
       "id": "0204bdb8-bbce-461f-a4ee-9837f14176fe"
      }
     }
    },
    "eb4e7661-a8ca-4c8c-904f-48fdd968e44c": {
     "id": "eb4e7661-a8ca-4c8c-904f-48fdd968e44c",
     "prev": "4b5fc626-733e-4eab-b93b-b27d49f4323f",
     "regions": {
      "2d6685c8-1d0b-4c5c-8ca6-dc6da63c7a4b": {
       "attrs": {
        "height": 0.8,
        "width": 0.8,
        "x": 0.1,
        "y": 0.1
       },
       "content": {
        "cell": "e3af8994-4a1a-4cbf-9b67-6c7bff14e9fb",
        "part": "whole"
       },
       "id": "2d6685c8-1d0b-4c5c-8ca6-dc6da63c7a4b"
      }
     }
    },
    "eb858fd5-6105-4870-98c5-8e7575463655": {
     "id": "eb858fd5-6105-4870-98c5-8e7575463655",
     "prev": "6fc5cb1c-c64b-4c1d-a4f5-d2157ff154de",
     "regions": {
      "fa7a37aa-75e8-4691-881b-822c07608e24": {
       "attrs": {
        "height": 0.8,
        "width": 0.8,
        "x": 0.1,
        "y": 0.1
       },
       "content": {
        "cell": "7f63a5b9-1279-4c4f-9591-f37bdc4bd61c",
        "part": "whole"
       },
       "id": "fa7a37aa-75e8-4691-881b-822c07608e24"
      }
     }
    },
    "ebd94a95-7028-4c2d-93a9-a989a4864819": {
     "id": "ebd94a95-7028-4c2d-93a9-a989a4864819",
     "prev": "c0a08d00-1127-49fe-b09b-c2a1eea3447c",
     "regions": {
      "26d519be-0c7f-4a0c-b4c1-85e3f21c384f": {
       "attrs": {
        "height": 0.8,
        "width": 0.8,
        "x": 0.1,
        "y": 0.1
       },
       "content": {
        "cell": "695d5d63-274c-4d7d-9f24-55026951cf2f",
        "part": "whole"
       },
       "id": "26d519be-0c7f-4a0c-b4c1-85e3f21c384f"
      }
     }
    },
    "ec700c77-1add-498b-9e23-47561a09b430": {
     "id": "ec700c77-1add-498b-9e23-47561a09b430",
     "prev": "45c600ac-ce3f-49aa-a2ff-ee310d7fa744",
     "regions": {
      "e5458a69-d2e2-4d51-84b8-7584d56730c4": {
       "attrs": {
        "height": 0.8,
        "width": 0.8,
        "x": 0.1,
        "y": 0.1
       },
       "content": {
        "cell": "094645ba-56af-43ad-a2c3-135776a01c15",
        "part": "whole"
       },
       "id": "e5458a69-d2e2-4d51-84b8-7584d56730c4"
      }
     }
    },
    "ee4545ab-cf12-4636-bc70-eb51750c9000": {
     "id": "ee4545ab-cf12-4636-bc70-eb51750c9000",
     "prev": "dd9fe7d5-de5b-43fe-8a3e-19307f5b91fe",
     "regions": {
      "8e5031bd-3253-4de3-aa80-13742c19855a": {
       "attrs": {
        "height": 0.8,
        "width": 0.8,
        "x": 0.1,
        "y": 0.1
       },
       "content": {
        "cell": "3f702b16-ae3d-40bd-aac6-7bb5b19bd1aa",
        "part": "whole"
       },
       "id": "8e5031bd-3253-4de3-aa80-13742c19855a"
      }
     }
    },
    "f00ce53a-6f89-4b0f-8420-01b1c2424131": {
     "id": "f00ce53a-6f89-4b0f-8420-01b1c2424131",
     "prev": "8d92a7b3-3bfb-4693-902d-584354358fa9",
     "regions": {
      "bd8ed926-3dc9-408d-a63d-6ee4a51fe588": {
       "attrs": {
        "height": 0.8,
        "width": 0.8,
        "x": 0.1,
        "y": 0.1
       },
       "content": {
        "cell": "3eb907a7-98aa-402f-b4c4-be959ee2e2c1",
        "part": "whole"
       },
       "id": "bd8ed926-3dc9-408d-a63d-6ee4a51fe588"
      }
     }
    },
    "f06f7548-c6ca-462c-82a6-88516984e3e8": {
     "id": "f06f7548-c6ca-462c-82a6-88516984e3e8",
     "prev": "3aa304ca-f928-42e3-b344-be7246cab3dc",
     "regions": {
      "a2898b53-23f4-41ce-be41-ffee33ab5ce8": {
       "attrs": {
        "height": 0.8,
        "width": 0.8,
        "x": 0.1,
        "y": 0.1
       },
       "content": {
        "cell": "7e7a14ab-9b74-4f63-a074-37a52096310e",
        "part": "whole"
       },
       "id": "a2898b53-23f4-41ce-be41-ffee33ab5ce8"
      }
     }
    },
    "f08d9a20-49b7-430e-8fc9-52e924265a17": {
     "id": "f08d9a20-49b7-430e-8fc9-52e924265a17",
     "prev": "826567e7-f911-457c-9c66-33a6818b4372",
     "regions": {
      "664f0192-ae2e-488e-ba30-19804f458a05": {
       "attrs": {
        "height": 0.8,
        "width": 0.8,
        "x": 0.1,
        "y": 0.1
       },
       "content": {
        "cell": "d8262758-dd1c-4ff5-9858-17678e31a007",
        "part": "whole"
       },
       "id": "664f0192-ae2e-488e-ba30-19804f458a05"
      }
     }
    },
    "f158c4c0-56d4-4473-a478-84e24f808104": {
     "id": "f158c4c0-56d4-4473-a478-84e24f808104",
     "prev": "f721608a-c566-4a52-9478-e76ac37bce25",
     "regions": {
      "a8d29ae3-f3c3-4b6e-973c-4e91a3a4f7a1": {
       "attrs": {
        "height": 0.8,
        "width": 0.8,
        "x": 0.1,
        "y": 0.1
       },
       "content": {
        "cell": "8553ac7c-26ed-4e45-87c1-a6bc565676cc",
        "part": "whole"
       },
       "id": "a8d29ae3-f3c3-4b6e-973c-4e91a3a4f7a1"
      }
     }
    },
    "f2698cdf-a61b-48b9-bc0d-dbc0fa0f9715": {
     "id": "f2698cdf-a61b-48b9-bc0d-dbc0fa0f9715",
     "prev": "8a4ecb66-ac57-47da-87db-492de014472c",
     "regions": {
      "e9f5f5f9-57d3-4a62-834c-532f634b63b9": {
       "attrs": {
        "height": 0.8,
        "width": 0.8,
        "x": 0.1,
        "y": 0.1
       },
       "content": {
        "cell": "9ab05da4-5ef2-44b1-92fb-cff9a4d0b4b2",
        "part": "whole"
       },
       "id": "e9f5f5f9-57d3-4a62-834c-532f634b63b9"
      }
     }
    },
    "f5ca8c3c-bde6-4b8f-871d-183c347d9f90": {
     "id": "f5ca8c3c-bde6-4b8f-871d-183c347d9f90",
     "prev": "eb4e7661-a8ca-4c8c-904f-48fdd968e44c",
     "regions": {
      "24ac538b-a5dc-4bda-a315-492be9e98ab2": {
       "attrs": {
        "height": 0.8,
        "width": 0.8,
        "x": 0.1,
        "y": 0.1
       },
       "content": {
        "cell": "ce337979-1002-44e1-9da0-b5021fa3771e",
        "part": "whole"
       },
       "id": "24ac538b-a5dc-4bda-a315-492be9e98ab2"
      }
     }
    },
    "f6b9643b-02f4-4749-9a89-dd97a69e852e": {
     "id": "f6b9643b-02f4-4749-9a89-dd97a69e852e",
     "prev": "abb4d329-313d-4ccb-93ae-524b15cbaf2c",
     "regions": {
      "a08f2480-2ce9-457d-ab68-8b232694b3d3": {
       "attrs": {
        "height": 0.8,
        "width": 0.8,
        "x": 0.1,
        "y": 0.1
       },
       "content": {
        "cell": "a25fe073-c983-471b-8303-bcb13afa77ba",
        "part": "whole"
       },
       "id": "a08f2480-2ce9-457d-ab68-8b232694b3d3"
      }
     }
    },
    "f7055f6c-f9b8-4ec5-b2ec-8d74fc0c9e91": {
     "id": "f7055f6c-f9b8-4ec5-b2ec-8d74fc0c9e91",
     "prev": "8b9d01c5-50e0-4044-a15d-35d557354f00",
     "regions": {
      "ee897a81-6749-4073-b384-6b736a5e4b9a": {
       "attrs": {
        "height": 0.8,
        "width": 0.8,
        "x": 0.1,
        "y": 0.1
       },
       "content": {
        "cell": "3fe659f6-b10c-4219-9af8-6bca32ebf03d",
        "part": "whole"
       },
       "id": "ee897a81-6749-4073-b384-6b736a5e4b9a"
      }
     }
    },
    "f717db1a-2760-4154-981c-d0ea8cee7abd": {
     "id": "f717db1a-2760-4154-981c-d0ea8cee7abd",
     "prev": "d30dfd65-9faa-4cb6-8261-aad7e32d154f",
     "regions": {
      "f70ef30a-9778-4510-8af7-1de236c4de0e": {
       "attrs": {
        "height": 0.8,
        "width": 0.8,
        "x": 0.1,
        "y": 0.1
       },
       "content": {
        "cell": "90be5b8c-f64c-4b78-b7da-fc037e732af7",
        "part": "whole"
       },
       "id": "f70ef30a-9778-4510-8af7-1de236c4de0e"
      }
     }
    },
    "f721608a-c566-4a52-9478-e76ac37bce25": {
     "id": "f721608a-c566-4a52-9478-e76ac37bce25",
     "prev": "5ed65bdb-f161-4fbe-b943-d7d11c337390",
     "regions": {
      "70647891-79f0-4dc9-ab63-57d89e78e77c": {
       "attrs": {
        "height": 0.8,
        "width": 0.8,
        "x": 0.1,
        "y": 0.1
       },
       "content": {
        "cell": "6f2bff77-9295-470e-8142-6a4940cc6f33",
        "part": "whole"
       },
       "id": "70647891-79f0-4dc9-ab63-57d89e78e77c"
      }
     }
    },
    "f91107c8-ee3a-4026-b4ea-12c6143ee059": {
     "id": "f91107c8-ee3a-4026-b4ea-12c6143ee059",
     "prev": "db03c89f-f059-4bf5-9dd2-e1a69e9d0fea",
     "regions": {
      "f47568ca-b8d5-46df-9e9e-d55d8e9ce468": {
       "attrs": {
        "height": 0.8,
        "width": 0.8,
        "x": 0.1,
        "y": 0.1
       },
       "content": {
        "cell": "5121426f-15ee-4d7c-bf2b-e9f75b21fdb6",
        "part": "whole"
       },
       "id": "f47568ca-b8d5-46df-9e9e-d55d8e9ce468"
      }
     }
    },
    "f9250121-a56a-4bf8-b9b5-d6f27ef0df61": {
     "id": "f9250121-a56a-4bf8-b9b5-d6f27ef0df61",
     "prev": "a37c12e3-58b5-4899-a732-16c8b23d25c1",
     "regions": {
      "97aa9b15-1307-4745-ae33-a3d6cb450d13": {
       "attrs": {
        "height": 0.8,
        "width": 0.8,
        "x": 0.1,
        "y": 0.1
       },
       "content": {
        "cell": "b370734d-13b8-475b-9fdf-5557cdeab103",
        "part": "whole"
       },
       "id": "97aa9b15-1307-4745-ae33-a3d6cb450d13"
      }
     }
    },
    "fa3afab4-6ec6-4ba5-a93b-38425d811c42": {
     "id": "fa3afab4-6ec6-4ba5-a93b-38425d811c42",
     "prev": "45cd8833-bde8-43dc-a40a-defe90e594a4",
     "regions": {
      "09b978b0-d74b-4798-88a9-5f44e47fd2ec": {
       "attrs": {
        "height": 0.8,
        "width": 0.8,
        "x": 0.1,
        "y": 0.1
       },
       "content": {
        "cell": "c8b991bc-34d8-4e1b-9c31-41bc909bc9e9",
        "part": "whole"
       },
       "id": "09b978b0-d74b-4798-88a9-5f44e47fd2ec"
      }
     }
    },
    "faa96be3-0b6b-45bb-a824-78955ab519a8": {
     "id": "faa96be3-0b6b-45bb-a824-78955ab519a8",
     "prev": "6f0dbd89-6cc4-4d26-a07c-c15438abd02f",
     "regions": {
      "63adf6ed-e138-4053-9473-c19a233f6d16": {
       "attrs": {
        "height": 0.8,
        "width": 0.8,
        "x": 0.1,
        "y": 0.1
       },
       "content": {
        "cell": "8bd4ebd1-353e-4660-967c-ba8b32c9d7b5",
        "part": "whole"
       },
       "id": "63adf6ed-e138-4053-9473-c19a233f6d16"
      }
     }
    },
    "fb9a0cd9-f507-4b41-8b5a-88ccd490e801": {
     "id": "fb9a0cd9-f507-4b41-8b5a-88ccd490e801",
     "prev": "affa0d94-9d76-4c01-a62b-07ca7f34cc39",
     "regions": {
      "3836171a-bebc-4314-9152-0b51aabb778f": {
       "attrs": {
        "height": 0.8,
        "width": 0.8,
        "x": 0.1,
        "y": 0.1
       },
       "content": {
        "cell": "ea377d56-4fef-441a-ac75-57f97310b8e4",
        "part": "whole"
       },
       "id": "3836171a-bebc-4314-9152-0b51aabb778f"
      }
     }
    },
    "fd4d5e03-d831-4ba4-9099-bcd1214cf73c": {
     "id": "fd4d5e03-d831-4ba4-9099-bcd1214cf73c",
     "prev": "a271c0c5-d7c5-4b93-9296-5f124d79f3fa",
     "regions": {
      "fa4f4ac1-cf02-44b2-9e0c-838d201143b8": {
       "attrs": {
        "height": 0.8,
        "width": 0.8,
        "x": 0.1,
        "y": 0.1
       },
       "content": {
        "cell": "dbd49cf4-2b97-4b1e-bd81-8a4b8c1b64e6",
        "part": "whole"
       },
       "id": "fa4f4ac1-cf02-44b2-9e0c-838d201143b8"
      }
     }
    },
    "ff812ebe-d877-4e8c-a2b8-7bf9b3269442": {
     "id": "ff812ebe-d877-4e8c-a2b8-7bf9b3269442",
     "prev": "2dcf58cb-be0e-4c70-91c8-55548c5d6c5b",
     "regions": {
      "c28eda65-5522-4195-98ce-b050b529a2e3": {
       "attrs": {
        "height": 0.8,
        "width": 0.8,
        "x": 0.1,
        "y": 0.1
       },
       "content": {
        "cell": "4d257182-f6fa-46f0-bae5-ff969f27b40a",
        "part": "whole"
       },
       "id": "c28eda65-5522-4195-98ce-b050b529a2e3"
      }
     }
    },
    "ff9ce38e-a874-44da-a962-d3a7adc9a5a6": {
     "id": "ff9ce38e-a874-44da-a962-d3a7adc9a5a6",
     "prev": "27f9788a-b24c-43d0-885e-ffa1fbbbf3a4",
     "regions": {
      "f2ce954e-e01f-4524-b2d2-116a14f7de56": {
       "attrs": {
        "height": 0.8,
        "width": 0.8,
        "x": 0.1,
        "y": 0.1
       },
       "content": {
        "cell": "babc9791-9f51-4c94-bc02-5acc8f12ed50",
        "part": "whole"
       },
       "id": "f2ce954e-e01f-4524-b2d2-116a14f7de56"
      }
     }
    }
   },
   "themes": {}
  }
 },
 "nbformat": 4,
 "nbformat_minor": 1
}
