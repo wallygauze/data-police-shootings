{
 "cells": [
  {
   "cell_type": "markdown",
   "metadata": {},
   "source": [
    "### Approach"
   ]
  },
  {
   "cell_type": "markdown",
   "metadata": {},
   "source": [
    "I anchor my study on the dataset provided by the Washington Post (checking against data from the Guardian's project that should match the one from the WP). \n",
    "\n",
    "- Database of the Washington Post (I used also links present on their github to their AWS database, where data like case description and news sources was available in json format):\n",
    "  - https://github.com/washingtonpost/data-police-shootings\n",
    "  - 2015 https://s3.amazonaws.com/postgraphics/policeshootings/policeshootings2015.json\n",
    "  - 2016 https://s3.amazonaws.com/postgraphics/policeshootings/policeshootings2016.json\n",
    "  \n",
    "  \n",
    "  \n",
    "- The Counted (from the Guardian)\n",
    "  - https://www.theguardian.com/us-news/ng-interactive/2015/jun/01/about-the-counted\n",
    "\n",
    "\n",
    "These projects, started in 2015 & with data starting from the same year, are the most reliable available source of data on the subject, prompting the FBI to announce a recording system based on their methodology."
   ]
  },
  {
   "cell_type": "markdown",
   "metadata": {},
   "source": [
    "The full breadth of variables available is shown underneath:"
   ]
  },
  {
   "cell_type": "code",
   "execution_count": 7,
   "metadata": {
    "collapsed": false
   },
   "outputs": [
    {
     "data": {
      "text/html": [
       "<div>\n",
       "<table border=\"1\" class=\"dataframe\">\n",
       "  <thead>\n",
       "    <tr style=\"text-align: right;\">\n",
       "      <th></th>\n",
       "      <th>age</th>\n",
       "      <th>armed</th>\n",
       "      <th>blurb</th>\n",
       "      <th>city</th>\n",
       "      <th>date</th>\n",
       "      <th>description</th>\n",
       "      <th>editor_note</th>\n",
       "      <th>flee</th>\n",
       "      <th>gender</th>\n",
       "      <th>id</th>\n",
       "      <th>is_body_camera</th>\n",
       "      <th>is_geocoding_exact</th>\n",
       "      <th>is_officer_charged</th>\n",
       "      <th>lat</th>\n",
       "      <th>lon</th>\n",
       "      <th>mental</th>\n",
       "      <th>name</th>\n",
       "      <th>photos</th>\n",
       "      <th>race</th>\n",
       "      <th>sources</th>\n",
       "      <th>state</th>\n",
       "      <th>threat_level_display</th>\n",
       "      <th>videos</th>\n",
       "      <th>weapon</th>\n",
       "    </tr>\n",
       "  </thead>\n",
       "  <tbody>\n",
       "    <tr>\n",
       "      <th>0</th>\n",
       "      <td>53.0</td>\n",
       "      <td>gun</td>\n",
       "      <td>a 53-year-old man of Asian heritage armed with a gun, was shot on Jan. 2, 2015, in a house in Shelton, Wash.</td>\n",
       "      <td>Shelton</td>\n",
       "      <td>2015-01-02</td>\n",
       "      <td>Elliot, who was on medication for depression, threatened suicide and then threatened to shoot a Mason County Sheriff's deputy.</td>\n",
       "      <td></td>\n",
       "      <td>NOT</td>\n",
       "      <td>M</td>\n",
       "      <td>3</td>\n",
       "      <td>False</td>\n",
       "      <td>True</td>\n",
       "      <td>False</td>\n",
       "      <td>47.246826</td>\n",
       "      <td>-123.121592</td>\n",
       "      <td>True</td>\n",
       "      <td>Tim Elliot</td>\n",
       "      <td>[]</td>\n",
       "      <td>A</td>\n",
       "      <td>[{u'url': u'http://kbkw.com/suicidal-shelton-man-dies-after-confronting-responding-deputies/', u'source_name': u'kbkw.com', u'type': u'NEWS', u'title': u'Suicidal Shelton man dies after confronting responding deputies '}, {u'url': u'http://kmasnewsradio.com/news/local-state-news/21013-fatal-shooting-justified-by-ciit', u'source_name': u'kmasnewsradio.com', u'type': u'NEWS', u'title': u'Fatal Shooting Justified By Investigation Team - KMAS NewsRadio'}]</td>\n",
       "      <td>WA</td>\n",
       "      <td>attack</td>\n",
       "      <td>[]</td>\n",
       "      <td>DEADLY</td>\n",
       "    </tr>\n",
       "  </tbody>\n",
       "</table>\n",
       "</div>"
      ],
      "text/plain": [
       "    age armed  \\\n",
       "0  53.0   gun   \n",
       "\n",
       "                                                                                                          blurb  \\\n",
       "0  a 53-year-old man of Asian heritage armed with a gun, was shot on Jan. 2, 2015, in a house in Shelton, Wash.   \n",
       "\n",
       "      city       date  \\\n",
       "0  Shelton 2015-01-02   \n",
       "\n",
       "                                                                                                                      description  \\\n",
       "0  Elliot, who was on medication for depression, threatened suicide and then threatened to shoot a Mason County Sheriff's deputy.   \n",
       "\n",
       "  editor_note flee gender  id is_body_camera is_geocoding_exact  \\\n",
       "0              NOT      M   3          False               True   \n",
       "\n",
       "  is_officer_charged        lat         lon mental        name photos race  \\\n",
       "0              False  47.246826 -123.121592   True  Tim Elliot     []    A   \n",
       "\n",
       "                                                                                                                                                                                                                                                                                                                                                                                                                                                                   sources  \\\n",
       "0  [{u'url': u'http://kbkw.com/suicidal-shelton-man-dies-after-confronting-responding-deputies/', u'source_name': u'kbkw.com', u'type': u'NEWS', u'title': u'Suicidal Shelton man dies after confronting responding deputies '}, {u'url': u'http://kmasnewsradio.com/news/local-state-news/21013-fatal-shooting-justified-by-ciit', u'source_name': u'kmasnewsradio.com', u'type': u'NEWS', u'title': u'Fatal Shooting Justified By Investigation Team - KMAS NewsRadio'}]   \n",
       "\n",
       "  state threat_level_display videos  weapon  \n",
       "0    WA               attack     []  DEADLY  "
      ]
     },
     "execution_count": 7,
     "metadata": {},
     "output_type": "execute_result"
    }
   ],
   "source": [
    "#variables available in Washington Post json data for 2015:\n",
    "json2015.head(1)"
   ]
  },
  {
   "cell_type": "code",
   "execution_count": 9,
   "metadata": {
    "collapsed": false
   },
   "outputs": [
    {
     "data": {
      "text/html": [
       "<div>\n",
       "<table border=\"1\" class=\"dataframe\">\n",
       "  <thead>\n",
       "    <tr style=\"text-align: right;\">\n",
       "      <th></th>\n",
       "      <th>officers</th>\n",
       "      <th>officers_identified</th>\n",
       "    </tr>\n",
       "  </thead>\n",
       "  <tbody>\n",
       "    <tr>\n",
       "      <th>0</th>\n",
       "      <td>[{u'police_department': {u'state': u'CA', u'name': u'San Diego Police Department'}, u'full_name': u'Richard Butera'}]</td>\n",
       "      <td>True</td>\n",
       "    </tr>\n",
       "  </tbody>\n",
       "</table>\n",
       "</div>"
      ],
      "text/plain": [
       "                                                                                                                officers  \\\n",
       "0  [{u'police_department': {u'state': u'CA', u'name': u'San Diego Police Department'}, u'full_name': u'Richard Butera'}]   \n",
       "\n",
       "  officers_identified  \n",
       "0                True  "
      ]
     },
     "execution_count": 9,
     "metadata": {},
     "output_type": "execute_result"
    }
   ],
   "source": [
    "\"\"\" In the 2016 json file, \"is_geocoding_exact\" and \"is_officer_charged\" are no longer provided \"\"\"\n",
    "\n",
    "#variables available in Washington Post json data for 2016:\n",
    "json2016[[\"officers\", \"officers_identified\"]].head(1) "
   ]
  },
  {
   "cell_type": "markdown",
   "metadata": {},
   "source": [
    "(As of the end of 2016, one of the newspapers behind these projects (The Guardian) have announced that they will put an end to theirs after 2016, considering to have fulfilled their goals. \n",
    "\n",
    "However, this information by itself does not inform even on whether 'police performance' is getting worse or not from one year to another: less people were confirmed to have been shot in 2016 than in 2015, but perhaps it is matched by a decrease in violent crime?)\n",
    "\n",
    "__I try to investigate this 'police performance'.__"
   ]
  },
  {
   "cell_type": "markdown",
   "metadata": {},
   "source": [
    "---"
   ]
  },
  {
   "cell_type": "markdown",
   "metadata": {},
   "source": [
    "I identify two types of variables: (a) \"discriminant factors\" allowing us to infer that police failure in a case is likely, and (b) \"other\", with characteristics of the victim & more.\n",
    "\n",
    "__Using these discriminating factors, assessing differences in frequency relative to the type (b) \"race\" variable could do to look into the racism question (probably going to single \"black\" since they are making the claim). Absence of significant differences would probably argue in favour of the first opinion mentioned above to explain police criminal use of force.__\n",
    "\n",
    "(I use these factors in a proxy logic, they are obviously not proof of police failure)\n",
    "\n",
    "Main literature support for evidence of/discriminant factors pointing to police failure:\n",
    "_\"Thousands dead, few prosecuted\"_\n",
    ": 54 criminal prosecutions identified by criminologist and WPost\n",
    "http://www.washingtonpost.com/sf/investigative/2015/04/11/thousands-dead-few-prosecuted/ (article)\n",
    "https://www.washingtonpost.com/graphics/investigations/police-shootings/ (list of cases)\n",
    "(just support, did not go into depth or stick to that (unneeded for my purposes))\n",
    "\n",
    "\n",
    "my chosen discriminant factors: \n",
    "\n",
    "- presence of a weapon?\n",
    "- if victim was fleeing, was threat level evidence substantial? (criminal to shoot at fleeing person unless evidence of high level danger)*\n",
    "- whether the officer was charged is a similar indicator (whether they were convicted or not) as prosecutors rarely try: it points to such circumstances as I am using here\n",
    "\n",
    "(given variables: armed, threat_level_display, flee, is_officer_charged) + descriptions & news sources\n",
    "\n",
    "The text information would seem to provide most relevant information in investigating a killing (identifying car stops, whether the victim made use of their weapon, etc). Due to time I used NLP to extract whatever information is key, for use either/both within the unsupervised (extra variables to cluster by) or/and supervised part of my analysis, as useful.\n",
    "\n",
    "----"
   ]
  },
  {
   "cell_type": "markdown",
   "metadata": {},
   "source": [
    "### Goals: \n",
    "- 1) modifying & creating variables when needed (using NLP if needed) to organize the data with the factors suggesting criminality\n",
    "- 2) using clustering techniques to further uncover insights in the killings (beyond what basic descriptive techniques can do)\n",
    "- 3) supervised part: hopefully building on the findings from the first part, but core analysis would be looking to see if higher relative numbers of killings are correlated with levels of violent crime. With statistically validated findings\n",
    "\n",
    "N.B.: I would have examined the trends in the police shootings against that in crime levels from 2015 to 2016, with that for lack of data about crime levels in 2016 (the 2016 issue of the Uniform Crime Report from the FBI, which is the source of data for this, has not yet been released).\n",
    "\n",
    "The supervised part is in line with investigating \"police performance\": again, the null hypothesis would be that indeed higher relative numbers of killings (including that of \"non-criminal\" victims, could be put down to alertness) are positively correlated with levels of violent crime."
   ]
  }
 ],
 "metadata": {
  "kernelspec": {
   "display_name": "Python [conda root]",
   "language": "python",
   "name": "conda-root-py"
  },
  "language_info": {
   "codemirror_mode": {
    "name": "ipython",
    "version": 2
   },
   "file_extension": ".py",
   "mimetype": "text/x-python",
   "name": "python",
   "nbconvert_exporter": "python",
   "pygments_lexer": "ipython2",
   "version": "2.7.12"
  }
 },
 "nbformat": 4,
 "nbformat_minor": 1
}
