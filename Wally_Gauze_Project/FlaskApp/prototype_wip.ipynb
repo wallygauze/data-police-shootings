{
 "cells": [
  {
   "cell_type": "markdown",
   "metadata": {},
   "source": [
    "_Main issue to be solved: information sources are no longer included in the links I use (from mid-2016 onwards), so the live up-to-date aspect of the app is at risk._"
   ]
  },
  {
   "cell_type": "code",
   "execution_count": 3,
   "metadata": {
    "collapsed": true
   },
   "outputs": [],
   "source": [
    "import pandas as pd\n",
    "import requests\n",
    "import re # for regex in html\n",
    "from bs4 import BeautifulSoup\n",
    "import sqlalchemy\n",
    "\n",
    "%load_ext line_profiler\n",
    "\n",
    "connect_param = # HIDDEN\n",
    "engine = sqlalchemy.create_engine(connect_param)\n",
    "\n",
    "pd.options.display.max_columns=500\n",
    "pd.options.display.max_rows=1500\n",
    "pd.options.display.max_colwidth=1000\n",
    "\n",
    "data_ = pd.read_json('https://s3.amazonaws.com/postgraphics/policeshootings/policeshootings2015.json')"
   ]
  },
  {
   "cell_type": "code",
   "execution_count": 4,
   "metadata": {
    "collapsed": true
   },
   "outputs": [],
   "source": [
    "data = data_[data_.armed==\"unarmed\"].copy()\n",
    "data = data.reset_index()\n",
    "\n",
    "sources = pd.DataFrame(data[\"sources\"].apply(lambda x:[y[\"url\"] for y in x]).tolist())\n",
    "\n",
    "for col in sources.columns:\n",
    "    data[\"source_\"+str(col)]=sources[col]\n",
    "\n",
    "\n",
    "failed_urls = []  \n",
    "\n",
    "def scraper(URL):\n",
    "    if URL==None:\n",
    "        pass\n",
    "        return\n",
    "    else:\n",
    "        try:\n",
    "            r = requests.get(URL) \n",
    "        except Exception:\n",
    "            failed_urls.append(URL) \n",
    "            # http://www.huffingtonpost.com/2015/03/05/derek-cruice-shot-in-face_n_6805902.html failed. check why.\n",
    "            pass\n",
    "            return\n",
    "            \n",
    "        soup = BeautifulSoup(r.content, \"lxml\") # Warning message advises specifying BeautifulSoup(YOUR_MARKUP, \"lxml\")\n",
    "    \n",
    "        return soup.prettify()\n",
    "    \n",
    "df2015_with_info = data.copy() # for reference, df2015_with_info.shape is (94, 30)\n",
    "\n",
    "\n",
    "for source_col in ['source_0','source_1','source_2','source_3','source_4']:\n",
    "    df2015_with_info[source_col] = df2015_with_info[source_col].apply(scraper)"
   ]
  },
  {
   "cell_type": "code",
   "execution_count": 5,
   "metadata": {
    "collapsed": true
   },
   "outputs": [],
   "source": [
    "data_with = df2015_with_info"
   ]
  },
  {
   "cell_type": "code",
   "execution_count": 1,
   "metadata": {
    "collapsed": true
   },
   "outputs": [],
   "source": [
    "# only one that failed in 2015 data.\n",
    "# got html manually.\n",
    "\n",
    "missing = (\"\"\"\n",
    "<div class=\"entry__text js-entry-text bn-entry-text\" data-beacon=\"{&quot;p&quot;:{&quot;mlid&quot;:&quot;entry_text&quot;}}\" data-beacon-parsed=\"true\">\n",
    "<p>A Volusia County Sheriff’s deputy shot an unarmed man in the face while serving a drug warrant on Wednesday.</p>\n",
    "<p>Deputies say Derek Cruice, 26, resisted arrest during the incident at his Deltona, Florida home. Cruice’s friends, six of whom were at the house when a SWAT team entered, called the fatal shooting “murder.”</p>\n",
    "<p>At 6:32 a.m., Deputy Todd Raible, 36, <a href=\"http://www.wftv.com/news/news/local/officials-man-shot-face-while-deputies-attempt-ser/nkNWP/\" rel=\"nofollow\" target=\"_hplink\" data-beacon=\"{&quot;p&quot;:{&quot;lnid&quot;:&quot;fired one shot&quot;,&quot;mpid&quot;:1,&quot;plid&quot;:&quot;http://www.wftv.com/news/news/local/officials-man-shot-face-while-deputies-attempt-ser/nkNWP/&quot;}}\" data-beacon-parsed=\"true\" class=\"bn-clickable\">fired one shot</a>, hitting Cruice in the face as he stood inside the doorway, police told WFTV. </p>\n",
    "<p>Cruice was pronounced dead a short time later at an area hospital.</p>\n",
    "<p>“They were met with resistance and a shooting incurred,” Volusia County Sheriff Ben Johnson told My News 13.</p>\n",
    "<p>The sheriff’s department <a href=\"http://www.mynews13.com/content/news/cfnews13/news/article.html/content/news/articles/cfn/2015/3/4/man_shot_by_volusia_.html\" rel=\"nofollow\" target=\"_hplink\" data-beacon=\"{&quot;p&quot;:{&quot;lnid&quot;:&quot;confirmed that Cruice was unarmed&quot;,&quot;mpid&quot;:2,&quot;plid&quot;:&quot;http://www.mynews13.com/content/news/cfnews13/news/article.html/content/news/articles/cfn/2015/3/4/man_shot_by_volusia_.html&quot;}}\" data-beacon-parsed=\"true\" class=\"bn-clickable\">confirmed that Cruice was unarmed</a> at the time.</p>\n",
    "<blockquote class=\"twitter-tweet twitter-tweet-error\" lang=\"en\" data-twitter-extracted-i1498835941005278827=\"true\"></blockquote>\n",
    "<p>Deputy involved in shooting while serving warrant in Deltona. Suspect shot once in face after advancing on deputy. No injury to deputies.</p>\n",
    "<p>— Volusia Co. Sheriff (@VolusiaSheriff) <a href=\"https://twitter.com/VolusiaSheriff/status/573110522876452864\" rel=\"nofollow\" data-beacon=\"{&quot;p&quot;:{&quot;lnid&quot;:&quot;March 4, 2015&quot;,&quot;mpid&quot;:3,&quot;plid&quot;:&quot;https://twitter.com/VolusiaSheriff/status/573110522876452864&quot;}}\" data-beacon-parsed=\"true\" class=\"bn-clickable\">March 4, 2015</a></p>\n",
    "\n",
    "<script async=\"\" src=\"//platform.twitter.com/widgets.js\" charset=\"utf-8\">try{}catch(e){}</script>\n",
    "<p>One of the men inside the home, 24-year-old Matthew Grady, contradicted deputies’ claims that Cruice had resisted arrest.</p>\n",
    "<p>“There’s a couple of seconds between opening the door, walking out, getting to my knee and halfway out there’s gunfire,” Grady told My News 13. “I look back as the guy’s grabbing me, and my friend is dead or dying.”</p>\n",
    "<p>When asked if Cruice resisted, Grady said: “No.”</p>\n",
    "<p>Roommate Steven Cochran said Cruice wasn’t wearing a shirt at the time of the shooting, and didn’t pose a threat of carrying a concealed weapon.</p>\n",
    "<p>“It’s kind of hard to conceal anything or hide anything when this is all you have on,” said Cochran. “They entered the house and fired.”</p>\n",
    "<p>Raible, a SWAT team member and narcotics investigator with the department for 10 years, reportedly has a clean record. He was placed on administrative leave, and the Florida Department of Law Enforcement has taken over the investigation. Raible wasn’t injured in the incident, <a href=\"https://twitter.com/VolusiaSheriff/status/573110522876452864\" rel=\"nofollow\" target=\"_hplink\" data-beacon=\"{&quot;p&quot;:{&quot;lnid&quot;:&quot;according to the sheriff’s department&quot;,&quot;mpid&quot;:4,&quot;plid&quot;:&quot;https://twitter.com/VolusiaSheriff/status/573110522876452864&quot;}}\" data-beacon-parsed=\"true\" class=\"bn-clickable\">according to the sheriff’s department</a>.</p>\n",
    "<p>The sheriff’s office allegedly recovered 217 grams of marijuana at the home, along with a scale, pipes, plastic bags and about $3,000 in cash.</p>\n",
    "<p>Cruice had previously been arrested on misdemeanor drug charges in the past, but was never convicted, WFTV reported.</p>\n",
    "\n",
    "<script class=\"entry-paragraph-1-ad-script-template\" type=\"text/template\">\n",
    "\n",
    "</script>\n",
    "<script class=\"sharebox-ad-script-template\" type=\"text/template\">\n",
    "\n",
    "</script>\n",
    "<script class=\"in-line-ad-unit-script-template\" type=\"text/template\">\n",
    "\n",
    "</script>\n",
    "<script class=\"mobileweb_transporter_mid_script-template\" type=\"text/template\">\n",
    "\n",
    "</script>\n",
    "<script class=\"mobileweb_transporter_mid_2_script-template\" type=\"text/template\">\n",
    "\n",
    "</script>\n",
    "<script class=\"entry-paragraph-3-ad-script-template\" type=\"text/template\">\n",
    "\n",
    "</script>\n",
    "\n",
    "</div>\n",
    "\"\"\")"
   ]
  },
  {
   "cell_type": "code",
   "execution_count": 7,
   "metadata": {
    "collapsed": true
   },
   "outputs": [],
   "source": [
    "data_with.loc[20,'source_2'] = missing"
   ]
  },
  {
   "cell_type": "code",
   "execution_count": 59,
   "metadata": {},
   "outputs": [],
   "source": [
    "# I dropped the columns ['sources', 'photos', 'videos'] (the 1st two being dict values) because the to_sql() method\n",
    "# of the pandas Dataframe was not happy with them.\n",
    "\n",
    "data_with.to_sql('data2015_with_html', engine, if_exists='replace')"
   ]
  },
  {
   "cell_type": "code",
   "execution_count": 9,
   "metadata": {
    "collapsed": true
   },
   "outputs": [],
   "source": []
  },
  {
   "cell_type": "markdown",
   "metadata": {},
   "source": [
    "__Extracting information from html__"
   ]
  },
  {
   "cell_type": "code",
   "execution_count": 81,
   "metadata": {
    "collapsed": true
   },
   "outputs": [],
   "source": [
    "#searching the pages (mainly the article) for information\n",
    "\n",
    "def extractor(article, term_to_search):\n",
    "\n",
    "    if (article!= None) & (type(article)!= float): #just for NaNs\n",
    "    \n",
    "        #removing paragraph tags\n",
    "    \n",
    "        article=article.replace(\"<p>\",\" \")\n",
    "        article=re.sub(\"<p class=\\\"paragraph\\\"[^>]*>\" , \" \", article)\n",
    "        article=article.replace(\"</p>\",\" \")\n",
    "\n",
    "        #finding article text (and related text) \n",
    "        my_regex = '[^>]*' + re.escape(term_to_search) + '[^<]*'\n",
    "        #this searches text contained between the tag symbols '>' & '<' for the term_to_search\n",
    "        #re.escape is to escape any special characters\n",
    "        \n",
    "\n",
    "        information=\"\"\n",
    "        for match in re.findall(my_regex, article, re.DOTALL): # the\n",
    "            if (\"{\" not in match) & (\"=\" not in match):\n",
    "                information+=match\n",
    "            else:\n",
    "                pass\n",
    "        if len(information)==0:\n",
    "            return \"No match.\"\n",
    "        else:\n",
    "            return information\n",
    "    \n",
    "    else:\n",
    "        return \"No html, or is NaN value.\""
   ]
  },
  {
   "cell_type": "code",
   "execution_count": 41,
   "metadata": {
    "collapsed": true
   },
   "outputs": [],
   "source": [
    "data_with_2 = data_with.copy() # for use with extractor() funtion\n",
    "\n",
    "# this uses just the name of the victim. Trying with other info could/should increase yield\n",
    "for source_col in ['source_0','source_1','source_2','source_3','source_4']:\n",
    "    for ind, name in zip(data_with_2.index,data_with_2.name):\n",
    "        data_with_2.loc[ind,source_col] = extractor(data_with_2.loc[ind,source_col],name)"
   ]
  },
  {
   "cell_type": "markdown",
   "metadata": {},
   "source": [
    "I wrote the following in my report:\n",
    "\n",
    "\"The name of the dead was not always present in at least one of the news articles reporting it, but this was just to obtain extra information: all cases have at least a one to two description with some relevant information.\""
   ]
  },
  {
   "cell_type": "markdown",
   "metadata": {},
   "source": [
    "__Profiler__"
   ]
  },
  {
   "cell_type": "code",
   "execution_count": null,
   "metadata": {
    "collapsed": true
   },
   "outputs": [],
   "source": [
    "def for_profiler(): # use just code inside the function when not using the profiler\n",
    "    for source_col in ['source_0','source_1','source_2','source_3','source_4']:\n",
    "        # this is just on 5 first entries, as a test.\n",
    "        df2015_with_info.loc[:5,source_col] = df2015_with_info.loc[:5,source_col].apply(scraper)\n",
    "    return\n",
    "\n",
    "%lprun -f scraper for_profiler()"
   ]
  },
  {
   "cell_type": "raw",
   "metadata": {},
   "source": [
    "Timer unit: 1e-06 s\n",
    "\n",
    "Total time: 39.3462 s\n",
    "File: <ipython-input-21-27aca0601c97>\n",
    "Function: scraper at line 1\n",
    "\n",
    "Line #      Hits         Time  Per Hit   % Time  Line Contents\n",
    "==============================================================\n",
    "     1                                           def scraper(URL):\n",
    "     2        30          118      3.9      0.0      if URL==None:\n",
    "     3                                                   pass\n",
    "     4        17            6      0.4      0.0          return\n",
    "     5                                               else:\n",
    "     6        13     36672028 2820925.2     93.2          r = requests.get(URL)\n",
    "     7        13      1725179 132706.1      4.4          soup = BeautifulSoup(r.content)\n",
    "     8                                               \n",
    "     9        13       948835  72987.3      2.4          return soup.prettify()"
   ]
  },
  {
   "cell_type": "code",
   "execution_count": 82,
   "metadata": {
    "collapsed": true
   },
   "outputs": [],
   "source": [
    "data_with_2 = data_with.copy()\n",
    "\n",
    "def for_profiler(): # use just code inside the function when not using the profiler\n",
    "    for source_col in ['source_0','source_1','source_2','source_3','source_4']:\n",
    "        for ind, name in zip(data_with_2.index,data_with_2.name):\n",
    "            data_with_2.loc[ind,source_col] = extractor(data_with_2.loc[ind,source_col],name)\n",
    "    return\n",
    "\n",
    "%lprun -f extractor for_profiler()"
   ]
  },
  {
   "cell_type": "raw",
   "metadata": {},
   "source": [
    "Timer unit: 1e-06 s\n",
    "\n",
    "Total time: 245.954 s\n",
    "File: <ipython-input-81-00030dabbbf4>\n",
    "Function: extractor at line 3\n",
    "\n",
    "Line #      Hits         Time  Per Hit   % Time  Line Contents\n",
    "==============================================================\n",
    "     3                                           def extractor(article, term_to_search):\n",
    "     4                                           \n",
    "     5       470         1938      4.1      0.0      if (article!= None) & (type(article)!= float): #just for NaNs\n",
    "     6                                               \n",
    "     7                                                   #removing paragraph tags\n",
    "     8                                               \n",
    "     9       244        74634    305.9      0.0          article=article.replace(\"<p>\",\" \")\n",
    "    10       244        61288    251.2      0.0          article=re.sub(\"<p class=\\\"paragraph\\\"[^>]*>\" , \" \", article)\n",
    "    11       244        72601    297.5      0.0          article=article.replace(\"</p>\",\" \")\n",
    "    12                                           \n",
    "    13                                                   #finding article text (and related text) \n",
    "    14       244         8048     33.0      0.0          my_regex = '[^>]*' + re.escape(term_to_search) + '[^<]*'\n",
    "    15                                                   #this searches text contained between the tag symbols '>' & '<' for the term_to_search\n",
    "    16                                                   #re.escape is to escape any special characters\n",
    "    17                                                   \n",
    "    18                                           \n",
    "    19       244          202      0.8      0.0          information=\"\"\n",
    "    20       955    245731315 257310.3     99.9          for match in re.findall(my_regex, article, re.DOTALL):\n",
    "    21       711         1940      2.7      0.0              if (\"{\" not in match) & (\"=\" not in match):\n",
    "    22       345          627      1.8      0.0                  information+=match\n",
    "    23                                                       else:\n",
    "    24                                                           pass\n",
    "    25       244          923      3.8      0.0          if len(information)==0:\n",
    "    26       100           73      0.7      0.0              return \"No match.\"\n",
    "    27                                                   else:\n",
    "    28       144          104      0.7      0.0              return information\n",
    "    29                                               \n",
    "    30                                               else:\n",
    "    31       226          183      0.8      0.0          return \"No html, or is NaN value.\""
   ]
  }
 ],
 "metadata": {
  "kernelspec": {
   "display_name": "Python [conda root]",
   "language": "python",
   "name": "conda-root-py"
  },
  "language_info": {
   "codemirror_mode": {
    "name": "ipython",
    "version": 2
   },
   "file_extension": ".py",
   "mimetype": "text/x-python",
   "name": "python",
   "nbconvert_exporter": "python",
   "pygments_lexer": "ipython2",
   "version": "2.7.13"
  }
 },
 "nbformat": 4,
 "nbformat_minor": 2
}
