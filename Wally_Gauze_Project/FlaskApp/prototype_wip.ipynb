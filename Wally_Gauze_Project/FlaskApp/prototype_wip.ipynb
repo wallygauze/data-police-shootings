{
 "cells": [
  {
   "cell_type": "code",
   "execution_count": 1,
   "metadata": {
    "collapsed": true
   },
   "outputs": [],
   "source": [
    "import pandas as pd\n",
    "import requests\n",
    "import re # for regex in html\n",
    "from bs4 import BeautifulSoup\n",
    "\n",
    "%load_ext line_profiler\n",
    "\n",
    "pd.options.display.max_columns=500\n",
    "pd.options.display.max_rows=1500\n",
    "pd.options.display.max_colwidth=1000\n",
    "\n",
    "data_ = pd.read_json('https://s3.amazonaws.com/postgraphics/policeshootings/policeshootings2015.json')"
   ]
  },
  {
   "cell_type": "code",
   "execution_count": 17,
   "metadata": {},
   "outputs": [],
   "source": [
    "data = data_[data_.armed==\"unarmed\"].copy()\n",
    "data = data.reset_index()\n",
    "\n",
    "sources = pd.DataFrame(data[\"sources\"].apply(lambda x:[y[\"url\"] for y in x]).tolist())\n",
    "\n",
    "for col in sources.columns:\n",
    "    data[\"source_\"+str(col)]=sources[col]\n",
    "    \n",
    "def scraper(URL):\n",
    "    if URL==None:\n",
    "        pass\n",
    "        return\n",
    "    else:\n",
    "        r = requests.get(URL)\n",
    "        soup = BeautifulSoup(r.content)\n",
    "    \n",
    "        return soup.prettify()\n",
    "    \n",
    "df2015_with_info = data.copy() # for reference, df2015_with_info.shape is (94, 30)\n",
    "\n",
    "def for_profiler(): # use just code inside the function when not using the profiler\n",
    "    for source_col in ['source_0','source_1','source_2','source_3','source_4']:\n",
    "        # this is just on 6 first entries, as a test.\n",
    "        df2015_with_info.loc[:5,source_col] = df2015_with_info.loc[:5,source_col].apply(scraper)\n",
    "    return\n",
    "\n",
    "%lprun -f scraper for_profiler()"
   ]
  },
  {
   "cell_type": "raw",
   "metadata": {},
   "source": [
    "Timer unit: 1e-06 s\n",
    "\n",
    "Total time: 39.3462 s\n",
    "File: <ipython-input-21-27aca0601c97>\n",
    "Function: scraper at line 1\n",
    "\n",
    "Line #      Hits         Time  Per Hit   % Time  Line Contents\n",
    "==============================================================\n",
    "     1                                           def scraper(URL):\n",
    "     2        30          118      3.9      0.0      if URL==None:\n",
    "     3                                                   pass\n",
    "     4        17            6      0.4      0.0          return\n",
    "     5                                               else:\n",
    "     6        13     36672028 2820925.2     93.2          r = requests.get(URL)\n",
    "     7        13      1725179 132706.1      4.4          soup = BeautifulSoup(r.content)\n",
    "     8                                               \n",
    "     9        13       948835  72987.3      2.4          return soup.prettify()"
   ]
  }
 ],
 "metadata": {
  "kernelspec": {
   "display_name": "Python [conda root]",
   "language": "python",
   "name": "conda-root-py"
  },
  "language_info": {
   "codemirror_mode": {
    "name": "ipython",
    "version": 2
   },
   "file_extension": ".py",
   "mimetype": "text/x-python",
   "name": "python",
   "nbconvert_exporter": "python",
   "pygments_lexer": "ipython2",
   "version": "2.7.13"
  }
 },
 "nbformat": 4,
 "nbformat_minor": 2
}
